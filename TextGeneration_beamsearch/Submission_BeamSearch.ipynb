{
  "nbformat": 4,
  "nbformat_minor": 0,
  "metadata": {
    "colab": {
      "name": "Copy of BeamSearch.ipynb",
      "provenance": [],
      "collapsed_sections": [],
      "include_colab_link": true
    },
    "kernelspec": {
      "name": "python3",
      "display_name": "Python 3"
    },
    "language_info": {
      "name": "python"
    },
    "accelerator": "GPU",
    "widgets": {
      "application/vnd.jupyter.widget-state+json": {
        "7629902e08284aa8a0eee59af5efcf6d": {
          "model_module": "@jupyter-widgets/controls",
          "model_name": "HBoxModel",
          "state": {
            "_view_name": "HBoxView",
            "_dom_classes": [],
            "_model_name": "HBoxModel",
            "_view_module": "@jupyter-widgets/controls",
            "_model_module_version": "1.5.0",
            "_view_count": null,
            "_view_module_version": "1.5.0",
            "box_style": "",
            "layout": "IPY_MODEL_5a98687ad9e742c4b551e78f04ee7d12",
            "_model_module": "@jupyter-widgets/controls",
            "children": [
              "IPY_MODEL_f7fa8e410a1442d1ae89f4c8be2882c6",
              "IPY_MODEL_8cdfe470f4d54a21b0f56da0f058823f"
            ]
          }
        },
        "5a98687ad9e742c4b551e78f04ee7d12": {
          "model_module": "@jupyter-widgets/base",
          "model_name": "LayoutModel",
          "state": {
            "_view_name": "LayoutView",
            "grid_template_rows": null,
            "right": null,
            "justify_content": null,
            "_view_module": "@jupyter-widgets/base",
            "overflow": null,
            "_model_module_version": "1.2.0",
            "_view_count": null,
            "flex_flow": null,
            "width": null,
            "min_width": null,
            "border": null,
            "align_items": null,
            "bottom": null,
            "_model_module": "@jupyter-widgets/base",
            "top": null,
            "grid_column": null,
            "overflow_y": null,
            "overflow_x": null,
            "grid_auto_flow": null,
            "grid_area": null,
            "grid_template_columns": null,
            "flex": null,
            "_model_name": "LayoutModel",
            "justify_items": null,
            "grid_row": null,
            "max_height": null,
            "align_content": null,
            "visibility": null,
            "align_self": null,
            "height": null,
            "min_height": null,
            "padding": null,
            "grid_auto_rows": null,
            "grid_gap": null,
            "max_width": null,
            "order": null,
            "_view_module_version": "1.2.0",
            "grid_template_areas": null,
            "object_position": null,
            "object_fit": null,
            "grid_auto_columns": null,
            "margin": null,
            "display": null,
            "left": null
          }
        },
        "f7fa8e410a1442d1ae89f4c8be2882c6": {
          "model_module": "@jupyter-widgets/controls",
          "model_name": "FloatProgressModel",
          "state": {
            "_view_name": "ProgressView",
            "style": "IPY_MODEL_a85287083a9c4d7aa37aa21a1f1e3742",
            "_dom_classes": [],
            "description": "Downloading: 100%",
            "_model_name": "FloatProgressModel",
            "bar_style": "success",
            "max": 1042301,
            "_view_module": "@jupyter-widgets/controls",
            "_model_module_version": "1.5.0",
            "value": 1042301,
            "_view_count": null,
            "_view_module_version": "1.5.0",
            "orientation": "horizontal",
            "min": 0,
            "description_tooltip": null,
            "_model_module": "@jupyter-widgets/controls",
            "layout": "IPY_MODEL_bfb1991f075a47a68a4612e11c3dfe45"
          }
        },
        "8cdfe470f4d54a21b0f56da0f058823f": {
          "model_module": "@jupyter-widgets/controls",
          "model_name": "HTMLModel",
          "state": {
            "_view_name": "HTMLView",
            "style": "IPY_MODEL_7d4d9b8c3216427ba890798980f5a945",
            "_dom_classes": [],
            "description": "",
            "_model_name": "HTMLModel",
            "placeholder": "​",
            "_view_module": "@jupyter-widgets/controls",
            "_model_module_version": "1.5.0",
            "value": " 1.04M/1.04M [00:00&lt;00:00, 4.29MB/s]",
            "_view_count": null,
            "_view_module_version": "1.5.0",
            "description_tooltip": null,
            "_model_module": "@jupyter-widgets/controls",
            "layout": "IPY_MODEL_726e61ca8a404faca3ea754d8c9ac987"
          }
        },
        "a85287083a9c4d7aa37aa21a1f1e3742": {
          "model_module": "@jupyter-widgets/controls",
          "model_name": "ProgressStyleModel",
          "state": {
            "_view_name": "StyleView",
            "_model_name": "ProgressStyleModel",
            "description_width": "initial",
            "_view_module": "@jupyter-widgets/base",
            "_model_module_version": "1.5.0",
            "_view_count": null,
            "_view_module_version": "1.2.0",
            "bar_color": null,
            "_model_module": "@jupyter-widgets/controls"
          }
        },
        "bfb1991f075a47a68a4612e11c3dfe45": {
          "model_module": "@jupyter-widgets/base",
          "model_name": "LayoutModel",
          "state": {
            "_view_name": "LayoutView",
            "grid_template_rows": null,
            "right": null,
            "justify_content": null,
            "_view_module": "@jupyter-widgets/base",
            "overflow": null,
            "_model_module_version": "1.2.0",
            "_view_count": null,
            "flex_flow": null,
            "width": null,
            "min_width": null,
            "border": null,
            "align_items": null,
            "bottom": null,
            "_model_module": "@jupyter-widgets/base",
            "top": null,
            "grid_column": null,
            "overflow_y": null,
            "overflow_x": null,
            "grid_auto_flow": null,
            "grid_area": null,
            "grid_template_columns": null,
            "flex": null,
            "_model_name": "LayoutModel",
            "justify_items": null,
            "grid_row": null,
            "max_height": null,
            "align_content": null,
            "visibility": null,
            "align_self": null,
            "height": null,
            "min_height": null,
            "padding": null,
            "grid_auto_rows": null,
            "grid_gap": null,
            "max_width": null,
            "order": null,
            "_view_module_version": "1.2.0",
            "grid_template_areas": null,
            "object_position": null,
            "object_fit": null,
            "grid_auto_columns": null,
            "margin": null,
            "display": null,
            "left": null
          }
        },
        "7d4d9b8c3216427ba890798980f5a945": {
          "model_module": "@jupyter-widgets/controls",
          "model_name": "DescriptionStyleModel",
          "state": {
            "_view_name": "StyleView",
            "_model_name": "DescriptionStyleModel",
            "description_width": "",
            "_view_module": "@jupyter-widgets/base",
            "_model_module_version": "1.5.0",
            "_view_count": null,
            "_view_module_version": "1.2.0",
            "_model_module": "@jupyter-widgets/controls"
          }
        },
        "726e61ca8a404faca3ea754d8c9ac987": {
          "model_module": "@jupyter-widgets/base",
          "model_name": "LayoutModel",
          "state": {
            "_view_name": "LayoutView",
            "grid_template_rows": null,
            "right": null,
            "justify_content": null,
            "_view_module": "@jupyter-widgets/base",
            "overflow": null,
            "_model_module_version": "1.2.0",
            "_view_count": null,
            "flex_flow": null,
            "width": null,
            "min_width": null,
            "border": null,
            "align_items": null,
            "bottom": null,
            "_model_module": "@jupyter-widgets/base",
            "top": null,
            "grid_column": null,
            "overflow_y": null,
            "overflow_x": null,
            "grid_auto_flow": null,
            "grid_area": null,
            "grid_template_columns": null,
            "flex": null,
            "_model_name": "LayoutModel",
            "justify_items": null,
            "grid_row": null,
            "max_height": null,
            "align_content": null,
            "visibility": null,
            "align_self": null,
            "height": null,
            "min_height": null,
            "padding": null,
            "grid_auto_rows": null,
            "grid_gap": null,
            "max_width": null,
            "order": null,
            "_view_module_version": "1.2.0",
            "grid_template_areas": null,
            "object_position": null,
            "object_fit": null,
            "grid_auto_columns": null,
            "margin": null,
            "display": null,
            "left": null
          }
        },
        "df968d9dd12149cd8b8716ddac0827c1": {
          "model_module": "@jupyter-widgets/controls",
          "model_name": "HBoxModel",
          "state": {
            "_view_name": "HBoxView",
            "_dom_classes": [],
            "_model_name": "HBoxModel",
            "_view_module": "@jupyter-widgets/controls",
            "_model_module_version": "1.5.0",
            "_view_count": null,
            "_view_module_version": "1.5.0",
            "box_style": "",
            "layout": "IPY_MODEL_a54d23842bc748eab81fafcdfe5287b6",
            "_model_module": "@jupyter-widgets/controls",
            "children": [
              "IPY_MODEL_536042dfb942498da6a30e214c161352",
              "IPY_MODEL_9ee147c880274a3fabad7c204baebb92"
            ]
          }
        },
        "a54d23842bc748eab81fafcdfe5287b6": {
          "model_module": "@jupyter-widgets/base",
          "model_name": "LayoutModel",
          "state": {
            "_view_name": "LayoutView",
            "grid_template_rows": null,
            "right": null,
            "justify_content": null,
            "_view_module": "@jupyter-widgets/base",
            "overflow": null,
            "_model_module_version": "1.2.0",
            "_view_count": null,
            "flex_flow": null,
            "width": null,
            "min_width": null,
            "border": null,
            "align_items": null,
            "bottom": null,
            "_model_module": "@jupyter-widgets/base",
            "top": null,
            "grid_column": null,
            "overflow_y": null,
            "overflow_x": null,
            "grid_auto_flow": null,
            "grid_area": null,
            "grid_template_columns": null,
            "flex": null,
            "_model_name": "LayoutModel",
            "justify_items": null,
            "grid_row": null,
            "max_height": null,
            "align_content": null,
            "visibility": null,
            "align_self": null,
            "height": null,
            "min_height": null,
            "padding": null,
            "grid_auto_rows": null,
            "grid_gap": null,
            "max_width": null,
            "order": null,
            "_view_module_version": "1.2.0",
            "grid_template_areas": null,
            "object_position": null,
            "object_fit": null,
            "grid_auto_columns": null,
            "margin": null,
            "display": null,
            "left": null
          }
        },
        "536042dfb942498da6a30e214c161352": {
          "model_module": "@jupyter-widgets/controls",
          "model_name": "FloatProgressModel",
          "state": {
            "_view_name": "ProgressView",
            "style": "IPY_MODEL_00281f7ed3064113b0a8e11f8138a5c1",
            "_dom_classes": [],
            "description": "Downloading: 100%",
            "_model_name": "FloatProgressModel",
            "bar_style": "success",
            "max": 456318,
            "_view_module": "@jupyter-widgets/controls",
            "_model_module_version": "1.5.0",
            "value": 456318,
            "_view_count": null,
            "_view_module_version": "1.5.0",
            "orientation": "horizontal",
            "min": 0,
            "description_tooltip": null,
            "_model_module": "@jupyter-widgets/controls",
            "layout": "IPY_MODEL_c3aef1b2f9c344efb263d975e1e37c5e"
          }
        },
        "9ee147c880274a3fabad7c204baebb92": {
          "model_module": "@jupyter-widgets/controls",
          "model_name": "HTMLModel",
          "state": {
            "_view_name": "HTMLView",
            "style": "IPY_MODEL_1a3ada4c6692408ab821a1ab1f8e635d",
            "_dom_classes": [],
            "description": "",
            "_model_name": "HTMLModel",
            "placeholder": "​",
            "_view_module": "@jupyter-widgets/controls",
            "_model_module_version": "1.5.0",
            "value": " 456k/456k [00:00&lt;00:00, 3.68MB/s]",
            "_view_count": null,
            "_view_module_version": "1.5.0",
            "description_tooltip": null,
            "_model_module": "@jupyter-widgets/controls",
            "layout": "IPY_MODEL_6b532cb1b82b4e58bb26eca94b802e18"
          }
        },
        "00281f7ed3064113b0a8e11f8138a5c1": {
          "model_module": "@jupyter-widgets/controls",
          "model_name": "ProgressStyleModel",
          "state": {
            "_view_name": "StyleView",
            "_model_name": "ProgressStyleModel",
            "description_width": "initial",
            "_view_module": "@jupyter-widgets/base",
            "_model_module_version": "1.5.0",
            "_view_count": null,
            "_view_module_version": "1.2.0",
            "bar_color": null,
            "_model_module": "@jupyter-widgets/controls"
          }
        },
        "c3aef1b2f9c344efb263d975e1e37c5e": {
          "model_module": "@jupyter-widgets/base",
          "model_name": "LayoutModel",
          "state": {
            "_view_name": "LayoutView",
            "grid_template_rows": null,
            "right": null,
            "justify_content": null,
            "_view_module": "@jupyter-widgets/base",
            "overflow": null,
            "_model_module_version": "1.2.0",
            "_view_count": null,
            "flex_flow": null,
            "width": null,
            "min_width": null,
            "border": null,
            "align_items": null,
            "bottom": null,
            "_model_module": "@jupyter-widgets/base",
            "top": null,
            "grid_column": null,
            "overflow_y": null,
            "overflow_x": null,
            "grid_auto_flow": null,
            "grid_area": null,
            "grid_template_columns": null,
            "flex": null,
            "_model_name": "LayoutModel",
            "justify_items": null,
            "grid_row": null,
            "max_height": null,
            "align_content": null,
            "visibility": null,
            "align_self": null,
            "height": null,
            "min_height": null,
            "padding": null,
            "grid_auto_rows": null,
            "grid_gap": null,
            "max_width": null,
            "order": null,
            "_view_module_version": "1.2.0",
            "grid_template_areas": null,
            "object_position": null,
            "object_fit": null,
            "grid_auto_columns": null,
            "margin": null,
            "display": null,
            "left": null
          }
        },
        "1a3ada4c6692408ab821a1ab1f8e635d": {
          "model_module": "@jupyter-widgets/controls",
          "model_name": "DescriptionStyleModel",
          "state": {
            "_view_name": "StyleView",
            "_model_name": "DescriptionStyleModel",
            "description_width": "",
            "_view_module": "@jupyter-widgets/base",
            "_model_module_version": "1.5.0",
            "_view_count": null,
            "_view_module_version": "1.2.0",
            "_model_module": "@jupyter-widgets/controls"
          }
        },
        "6b532cb1b82b4e58bb26eca94b802e18": {
          "model_module": "@jupyter-widgets/base",
          "model_name": "LayoutModel",
          "state": {
            "_view_name": "LayoutView",
            "grid_template_rows": null,
            "right": null,
            "justify_content": null,
            "_view_module": "@jupyter-widgets/base",
            "overflow": null,
            "_model_module_version": "1.2.0",
            "_view_count": null,
            "flex_flow": null,
            "width": null,
            "min_width": null,
            "border": null,
            "align_items": null,
            "bottom": null,
            "_model_module": "@jupyter-widgets/base",
            "top": null,
            "grid_column": null,
            "overflow_y": null,
            "overflow_x": null,
            "grid_auto_flow": null,
            "grid_area": null,
            "grid_template_columns": null,
            "flex": null,
            "_model_name": "LayoutModel",
            "justify_items": null,
            "grid_row": null,
            "max_height": null,
            "align_content": null,
            "visibility": null,
            "align_self": null,
            "height": null,
            "min_height": null,
            "padding": null,
            "grid_auto_rows": null,
            "grid_gap": null,
            "max_width": null,
            "order": null,
            "_view_module_version": "1.2.0",
            "grid_template_areas": null,
            "object_position": null,
            "object_fit": null,
            "grid_auto_columns": null,
            "margin": null,
            "display": null,
            "left": null
          }
        },
        "560d7b589cac463dbb765379721abc90": {
          "model_module": "@jupyter-widgets/controls",
          "model_name": "HBoxModel",
          "state": {
            "_view_name": "HBoxView",
            "_dom_classes": [],
            "_model_name": "HBoxModel",
            "_view_module": "@jupyter-widgets/controls",
            "_model_module_version": "1.5.0",
            "_view_count": null,
            "_view_module_version": "1.5.0",
            "box_style": "",
            "layout": "IPY_MODEL_374e9c099f9544428775a947f826f94d",
            "_model_module": "@jupyter-widgets/controls",
            "children": [
              "IPY_MODEL_88ee4abf2e9548dea7c6f7431fa8690c",
              "IPY_MODEL_71f9286555c64f5bb658d03468530e64"
            ]
          }
        },
        "374e9c099f9544428775a947f826f94d": {
          "model_module": "@jupyter-widgets/base",
          "model_name": "LayoutModel",
          "state": {
            "_view_name": "LayoutView",
            "grid_template_rows": null,
            "right": null,
            "justify_content": null,
            "_view_module": "@jupyter-widgets/base",
            "overflow": null,
            "_model_module_version": "1.2.0",
            "_view_count": null,
            "flex_flow": null,
            "width": null,
            "min_width": null,
            "border": null,
            "align_items": null,
            "bottom": null,
            "_model_module": "@jupyter-widgets/base",
            "top": null,
            "grid_column": null,
            "overflow_y": null,
            "overflow_x": null,
            "grid_auto_flow": null,
            "grid_area": null,
            "grid_template_columns": null,
            "flex": null,
            "_model_name": "LayoutModel",
            "justify_items": null,
            "grid_row": null,
            "max_height": null,
            "align_content": null,
            "visibility": null,
            "align_self": null,
            "height": null,
            "min_height": null,
            "padding": null,
            "grid_auto_rows": null,
            "grid_gap": null,
            "max_width": null,
            "order": null,
            "_view_module_version": "1.2.0",
            "grid_template_areas": null,
            "object_position": null,
            "object_fit": null,
            "grid_auto_columns": null,
            "margin": null,
            "display": null,
            "left": null
          }
        },
        "88ee4abf2e9548dea7c6f7431fa8690c": {
          "model_module": "@jupyter-widgets/controls",
          "model_name": "FloatProgressModel",
          "state": {
            "_view_name": "ProgressView",
            "style": "IPY_MODEL_a1ca3f58692a4458932ba512665141bb",
            "_dom_classes": [],
            "description": "Downloading: 100%",
            "_model_name": "FloatProgressModel",
            "bar_style": "success",
            "max": 1355256,
            "_view_module": "@jupyter-widgets/controls",
            "_model_module_version": "1.5.0",
            "value": 1355256,
            "_view_count": null,
            "_view_module_version": "1.5.0",
            "orientation": "horizontal",
            "min": 0,
            "description_tooltip": null,
            "_model_module": "@jupyter-widgets/controls",
            "layout": "IPY_MODEL_cc84ac1a7c614e049588df1b13b50dae"
          }
        },
        "71f9286555c64f5bb658d03468530e64": {
          "model_module": "@jupyter-widgets/controls",
          "model_name": "HTMLModel",
          "state": {
            "_view_name": "HTMLView",
            "style": "IPY_MODEL_3ff7ef1d1f314a438880ac8ee7d87e93",
            "_dom_classes": [],
            "description": "",
            "_model_name": "HTMLModel",
            "placeholder": "​",
            "_view_module": "@jupyter-widgets/controls",
            "_model_module_version": "1.5.0",
            "value": " 1.36M/1.36M [00:00&lt;00:00, 10.5MB/s]",
            "_view_count": null,
            "_view_module_version": "1.5.0",
            "description_tooltip": null,
            "_model_module": "@jupyter-widgets/controls",
            "layout": "IPY_MODEL_de61d016d80542c98982aff5933c4347"
          }
        },
        "a1ca3f58692a4458932ba512665141bb": {
          "model_module": "@jupyter-widgets/controls",
          "model_name": "ProgressStyleModel",
          "state": {
            "_view_name": "StyleView",
            "_model_name": "ProgressStyleModel",
            "description_width": "initial",
            "_view_module": "@jupyter-widgets/base",
            "_model_module_version": "1.5.0",
            "_view_count": null,
            "_view_module_version": "1.2.0",
            "bar_color": null,
            "_model_module": "@jupyter-widgets/controls"
          }
        },
        "cc84ac1a7c614e049588df1b13b50dae": {
          "model_module": "@jupyter-widgets/base",
          "model_name": "LayoutModel",
          "state": {
            "_view_name": "LayoutView",
            "grid_template_rows": null,
            "right": null,
            "justify_content": null,
            "_view_module": "@jupyter-widgets/base",
            "overflow": null,
            "_model_module_version": "1.2.0",
            "_view_count": null,
            "flex_flow": null,
            "width": null,
            "min_width": null,
            "border": null,
            "align_items": null,
            "bottom": null,
            "_model_module": "@jupyter-widgets/base",
            "top": null,
            "grid_column": null,
            "overflow_y": null,
            "overflow_x": null,
            "grid_auto_flow": null,
            "grid_area": null,
            "grid_template_columns": null,
            "flex": null,
            "_model_name": "LayoutModel",
            "justify_items": null,
            "grid_row": null,
            "max_height": null,
            "align_content": null,
            "visibility": null,
            "align_self": null,
            "height": null,
            "min_height": null,
            "padding": null,
            "grid_auto_rows": null,
            "grid_gap": null,
            "max_width": null,
            "order": null,
            "_view_module_version": "1.2.0",
            "grid_template_areas": null,
            "object_position": null,
            "object_fit": null,
            "grid_auto_columns": null,
            "margin": null,
            "display": null,
            "left": null
          }
        },
        "3ff7ef1d1f314a438880ac8ee7d87e93": {
          "model_module": "@jupyter-widgets/controls",
          "model_name": "DescriptionStyleModel",
          "state": {
            "_view_name": "StyleView",
            "_model_name": "DescriptionStyleModel",
            "description_width": "",
            "_view_module": "@jupyter-widgets/base",
            "_model_module_version": "1.5.0",
            "_view_count": null,
            "_view_module_version": "1.2.0",
            "_model_module": "@jupyter-widgets/controls"
          }
        },
        "de61d016d80542c98982aff5933c4347": {
          "model_module": "@jupyter-widgets/base",
          "model_name": "LayoutModel",
          "state": {
            "_view_name": "LayoutView",
            "grid_template_rows": null,
            "right": null,
            "justify_content": null,
            "_view_module": "@jupyter-widgets/base",
            "overflow": null,
            "_model_module_version": "1.2.0",
            "_view_count": null,
            "flex_flow": null,
            "width": null,
            "min_width": null,
            "border": null,
            "align_items": null,
            "bottom": null,
            "_model_module": "@jupyter-widgets/base",
            "top": null,
            "grid_column": null,
            "overflow_y": null,
            "overflow_x": null,
            "grid_auto_flow": null,
            "grid_area": null,
            "grid_template_columns": null,
            "flex": null,
            "_model_name": "LayoutModel",
            "justify_items": null,
            "grid_row": null,
            "max_height": null,
            "align_content": null,
            "visibility": null,
            "align_self": null,
            "height": null,
            "min_height": null,
            "padding": null,
            "grid_auto_rows": null,
            "grid_gap": null,
            "max_width": null,
            "order": null,
            "_view_module_version": "1.2.0",
            "grid_template_areas": null,
            "object_position": null,
            "object_fit": null,
            "grid_auto_columns": null,
            "margin": null,
            "display": null,
            "left": null
          }
        },
        "3bf9cea8bdf74349bf1674d19572d486": {
          "model_module": "@jupyter-widgets/controls",
          "model_name": "HBoxModel",
          "state": {
            "_view_name": "HBoxView",
            "_dom_classes": [],
            "_model_name": "HBoxModel",
            "_view_module": "@jupyter-widgets/controls",
            "_model_module_version": "1.5.0",
            "_view_count": null,
            "_view_module_version": "1.5.0",
            "box_style": "",
            "layout": "IPY_MODEL_c5235c9c2ac3443c885096565b8b02f9",
            "_model_module": "@jupyter-widgets/controls",
            "children": [
              "IPY_MODEL_259801c708b9471a8b6588c0de6c43ca",
              "IPY_MODEL_6e6ebe7e2aa943c4b04daad898548ab6"
            ]
          }
        },
        "c5235c9c2ac3443c885096565b8b02f9": {
          "model_module": "@jupyter-widgets/base",
          "model_name": "LayoutModel",
          "state": {
            "_view_name": "LayoutView",
            "grid_template_rows": null,
            "right": null,
            "justify_content": null,
            "_view_module": "@jupyter-widgets/base",
            "overflow": null,
            "_model_module_version": "1.2.0",
            "_view_count": null,
            "flex_flow": null,
            "width": null,
            "min_width": null,
            "border": null,
            "align_items": null,
            "bottom": null,
            "_model_module": "@jupyter-widgets/base",
            "top": null,
            "grid_column": null,
            "overflow_y": null,
            "overflow_x": null,
            "grid_auto_flow": null,
            "grid_area": null,
            "grid_template_columns": null,
            "flex": null,
            "_model_name": "LayoutModel",
            "justify_items": null,
            "grid_row": null,
            "max_height": null,
            "align_content": null,
            "visibility": null,
            "align_self": null,
            "height": null,
            "min_height": null,
            "padding": null,
            "grid_auto_rows": null,
            "grid_gap": null,
            "max_width": null,
            "order": null,
            "_view_module_version": "1.2.0",
            "grid_template_areas": null,
            "object_position": null,
            "object_fit": null,
            "grid_auto_columns": null,
            "margin": null,
            "display": null,
            "left": null
          }
        },
        "259801c708b9471a8b6588c0de6c43ca": {
          "model_module": "@jupyter-widgets/controls",
          "model_name": "FloatProgressModel",
          "state": {
            "_view_name": "ProgressView",
            "style": "IPY_MODEL_9c38e1132bbc4ac3b6547a14a626c300",
            "_dom_classes": [],
            "description": "Downloading: 100%",
            "_model_name": "FloatProgressModel",
            "bar_style": "success",
            "max": 665,
            "_view_module": "@jupyter-widgets/controls",
            "_model_module_version": "1.5.0",
            "value": 665,
            "_view_count": null,
            "_view_module_version": "1.5.0",
            "orientation": "horizontal",
            "min": 0,
            "description_tooltip": null,
            "_model_module": "@jupyter-widgets/controls",
            "layout": "IPY_MODEL_1e17daaa3ef24bdca8e241b98d6d8304"
          }
        },
        "6e6ebe7e2aa943c4b04daad898548ab6": {
          "model_module": "@jupyter-widgets/controls",
          "model_name": "HTMLModel",
          "state": {
            "_view_name": "HTMLView",
            "style": "IPY_MODEL_09b68b2f21294eec941c84ce0efe6164",
            "_dom_classes": [],
            "description": "",
            "_model_name": "HTMLModel",
            "placeholder": "​",
            "_view_module": "@jupyter-widgets/controls",
            "_model_module_version": "1.5.0",
            "value": " 665/665 [00:00&lt;00:00, 2.00kB/s]",
            "_view_count": null,
            "_view_module_version": "1.5.0",
            "description_tooltip": null,
            "_model_module": "@jupyter-widgets/controls",
            "layout": "IPY_MODEL_58db21b05196468bbae3612127acdc6c"
          }
        },
        "9c38e1132bbc4ac3b6547a14a626c300": {
          "model_module": "@jupyter-widgets/controls",
          "model_name": "ProgressStyleModel",
          "state": {
            "_view_name": "StyleView",
            "_model_name": "ProgressStyleModel",
            "description_width": "initial",
            "_view_module": "@jupyter-widgets/base",
            "_model_module_version": "1.5.0",
            "_view_count": null,
            "_view_module_version": "1.2.0",
            "bar_color": null,
            "_model_module": "@jupyter-widgets/controls"
          }
        },
        "1e17daaa3ef24bdca8e241b98d6d8304": {
          "model_module": "@jupyter-widgets/base",
          "model_name": "LayoutModel",
          "state": {
            "_view_name": "LayoutView",
            "grid_template_rows": null,
            "right": null,
            "justify_content": null,
            "_view_module": "@jupyter-widgets/base",
            "overflow": null,
            "_model_module_version": "1.2.0",
            "_view_count": null,
            "flex_flow": null,
            "width": null,
            "min_width": null,
            "border": null,
            "align_items": null,
            "bottom": null,
            "_model_module": "@jupyter-widgets/base",
            "top": null,
            "grid_column": null,
            "overflow_y": null,
            "overflow_x": null,
            "grid_auto_flow": null,
            "grid_area": null,
            "grid_template_columns": null,
            "flex": null,
            "_model_name": "LayoutModel",
            "justify_items": null,
            "grid_row": null,
            "max_height": null,
            "align_content": null,
            "visibility": null,
            "align_self": null,
            "height": null,
            "min_height": null,
            "padding": null,
            "grid_auto_rows": null,
            "grid_gap": null,
            "max_width": null,
            "order": null,
            "_view_module_version": "1.2.0",
            "grid_template_areas": null,
            "object_position": null,
            "object_fit": null,
            "grid_auto_columns": null,
            "margin": null,
            "display": null,
            "left": null
          }
        },
        "09b68b2f21294eec941c84ce0efe6164": {
          "model_module": "@jupyter-widgets/controls",
          "model_name": "DescriptionStyleModel",
          "state": {
            "_view_name": "StyleView",
            "_model_name": "DescriptionStyleModel",
            "description_width": "",
            "_view_module": "@jupyter-widgets/base",
            "_model_module_version": "1.5.0",
            "_view_count": null,
            "_view_module_version": "1.2.0",
            "_model_module": "@jupyter-widgets/controls"
          }
        },
        "58db21b05196468bbae3612127acdc6c": {
          "model_module": "@jupyter-widgets/base",
          "model_name": "LayoutModel",
          "state": {
            "_view_name": "LayoutView",
            "grid_template_rows": null,
            "right": null,
            "justify_content": null,
            "_view_module": "@jupyter-widgets/base",
            "overflow": null,
            "_model_module_version": "1.2.0",
            "_view_count": null,
            "flex_flow": null,
            "width": null,
            "min_width": null,
            "border": null,
            "align_items": null,
            "bottom": null,
            "_model_module": "@jupyter-widgets/base",
            "top": null,
            "grid_column": null,
            "overflow_y": null,
            "overflow_x": null,
            "grid_auto_flow": null,
            "grid_area": null,
            "grid_template_columns": null,
            "flex": null,
            "_model_name": "LayoutModel",
            "justify_items": null,
            "grid_row": null,
            "max_height": null,
            "align_content": null,
            "visibility": null,
            "align_self": null,
            "height": null,
            "min_height": null,
            "padding": null,
            "grid_auto_rows": null,
            "grid_gap": null,
            "max_width": null,
            "order": null,
            "_view_module_version": "1.2.0",
            "grid_template_areas": null,
            "object_position": null,
            "object_fit": null,
            "grid_auto_columns": null,
            "margin": null,
            "display": null,
            "left": null
          }
        },
        "09a567a0cb7843cbb8278b8de5b4bdde": {
          "model_module": "@jupyter-widgets/controls",
          "model_name": "HBoxModel",
          "state": {
            "_view_name": "HBoxView",
            "_dom_classes": [],
            "_model_name": "HBoxModel",
            "_view_module": "@jupyter-widgets/controls",
            "_model_module_version": "1.5.0",
            "_view_count": null,
            "_view_module_version": "1.5.0",
            "box_style": "",
            "layout": "IPY_MODEL_8dc78222a1814daf8ee8977ce1d56f4e",
            "_model_module": "@jupyter-widgets/controls",
            "children": [
              "IPY_MODEL_95cff510894b403eb7a2b91e25e57620",
              "IPY_MODEL_db27b87c475248afa11a973084993d4e"
            ]
          }
        },
        "8dc78222a1814daf8ee8977ce1d56f4e": {
          "model_module": "@jupyter-widgets/base",
          "model_name": "LayoutModel",
          "state": {
            "_view_name": "LayoutView",
            "grid_template_rows": null,
            "right": null,
            "justify_content": null,
            "_view_module": "@jupyter-widgets/base",
            "overflow": null,
            "_model_module_version": "1.2.0",
            "_view_count": null,
            "flex_flow": null,
            "width": null,
            "min_width": null,
            "border": null,
            "align_items": null,
            "bottom": null,
            "_model_module": "@jupyter-widgets/base",
            "top": null,
            "grid_column": null,
            "overflow_y": null,
            "overflow_x": null,
            "grid_auto_flow": null,
            "grid_area": null,
            "grid_template_columns": null,
            "flex": null,
            "_model_name": "LayoutModel",
            "justify_items": null,
            "grid_row": null,
            "max_height": null,
            "align_content": null,
            "visibility": null,
            "align_self": null,
            "height": null,
            "min_height": null,
            "padding": null,
            "grid_auto_rows": null,
            "grid_gap": null,
            "max_width": null,
            "order": null,
            "_view_module_version": "1.2.0",
            "grid_template_areas": null,
            "object_position": null,
            "object_fit": null,
            "grid_auto_columns": null,
            "margin": null,
            "display": null,
            "left": null
          }
        },
        "95cff510894b403eb7a2b91e25e57620": {
          "model_module": "@jupyter-widgets/controls",
          "model_name": "FloatProgressModel",
          "state": {
            "_view_name": "ProgressView",
            "style": "IPY_MODEL_c65c4cbdf98e473c882426f7eb6ccc40",
            "_dom_classes": [],
            "description": "Downloading: 100%",
            "_model_name": "FloatProgressModel",
            "bar_style": "success",
            "max": 548118077,
            "_view_module": "@jupyter-widgets/controls",
            "_model_module_version": "1.5.0",
            "value": 548118077,
            "_view_count": null,
            "_view_module_version": "1.5.0",
            "orientation": "horizontal",
            "min": 0,
            "description_tooltip": null,
            "_model_module": "@jupyter-widgets/controls",
            "layout": "IPY_MODEL_18ed10c1004e42a79ef122448423044a"
          }
        },
        "db27b87c475248afa11a973084993d4e": {
          "model_module": "@jupyter-widgets/controls",
          "model_name": "HTMLModel",
          "state": {
            "_view_name": "HTMLView",
            "style": "IPY_MODEL_758b4be48fb74bfdb0decfb238e76f75",
            "_dom_classes": [],
            "description": "",
            "_model_name": "HTMLModel",
            "placeholder": "​",
            "_view_module": "@jupyter-widgets/controls",
            "_model_module_version": "1.5.0",
            "value": " 548M/548M [00:25&lt;00:00, 21.2MB/s]",
            "_view_count": null,
            "_view_module_version": "1.5.0",
            "description_tooltip": null,
            "_model_module": "@jupyter-widgets/controls",
            "layout": "IPY_MODEL_e017a5b963ec4ebe9083730de82a13cd"
          }
        },
        "c65c4cbdf98e473c882426f7eb6ccc40": {
          "model_module": "@jupyter-widgets/controls",
          "model_name": "ProgressStyleModel",
          "state": {
            "_view_name": "StyleView",
            "_model_name": "ProgressStyleModel",
            "description_width": "initial",
            "_view_module": "@jupyter-widgets/base",
            "_model_module_version": "1.5.0",
            "_view_count": null,
            "_view_module_version": "1.2.0",
            "bar_color": null,
            "_model_module": "@jupyter-widgets/controls"
          }
        },
        "18ed10c1004e42a79ef122448423044a": {
          "model_module": "@jupyter-widgets/base",
          "model_name": "LayoutModel",
          "state": {
            "_view_name": "LayoutView",
            "grid_template_rows": null,
            "right": null,
            "justify_content": null,
            "_view_module": "@jupyter-widgets/base",
            "overflow": null,
            "_model_module_version": "1.2.0",
            "_view_count": null,
            "flex_flow": null,
            "width": null,
            "min_width": null,
            "border": null,
            "align_items": null,
            "bottom": null,
            "_model_module": "@jupyter-widgets/base",
            "top": null,
            "grid_column": null,
            "overflow_y": null,
            "overflow_x": null,
            "grid_auto_flow": null,
            "grid_area": null,
            "grid_template_columns": null,
            "flex": null,
            "_model_name": "LayoutModel",
            "justify_items": null,
            "grid_row": null,
            "max_height": null,
            "align_content": null,
            "visibility": null,
            "align_self": null,
            "height": null,
            "min_height": null,
            "padding": null,
            "grid_auto_rows": null,
            "grid_gap": null,
            "max_width": null,
            "order": null,
            "_view_module_version": "1.2.0",
            "grid_template_areas": null,
            "object_position": null,
            "object_fit": null,
            "grid_auto_columns": null,
            "margin": null,
            "display": null,
            "left": null
          }
        },
        "758b4be48fb74bfdb0decfb238e76f75": {
          "model_module": "@jupyter-widgets/controls",
          "model_name": "DescriptionStyleModel",
          "state": {
            "_view_name": "StyleView",
            "_model_name": "DescriptionStyleModel",
            "description_width": "",
            "_view_module": "@jupyter-widgets/base",
            "_model_module_version": "1.5.0",
            "_view_count": null,
            "_view_module_version": "1.2.0",
            "_model_module": "@jupyter-widgets/controls"
          }
        },
        "e017a5b963ec4ebe9083730de82a13cd": {
          "model_module": "@jupyter-widgets/base",
          "model_name": "LayoutModel",
          "state": {
            "_view_name": "LayoutView",
            "grid_template_rows": null,
            "right": null,
            "justify_content": null,
            "_view_module": "@jupyter-widgets/base",
            "overflow": null,
            "_model_module_version": "1.2.0",
            "_view_count": null,
            "flex_flow": null,
            "width": null,
            "min_width": null,
            "border": null,
            "align_items": null,
            "bottom": null,
            "_model_module": "@jupyter-widgets/base",
            "top": null,
            "grid_column": null,
            "overflow_y": null,
            "overflow_x": null,
            "grid_auto_flow": null,
            "grid_area": null,
            "grid_template_columns": null,
            "flex": null,
            "_model_name": "LayoutModel",
            "justify_items": null,
            "grid_row": null,
            "max_height": null,
            "align_content": null,
            "visibility": null,
            "align_self": null,
            "height": null,
            "min_height": null,
            "padding": null,
            "grid_auto_rows": null,
            "grid_gap": null,
            "max_width": null,
            "order": null,
            "_view_module_version": "1.2.0",
            "grid_template_areas": null,
            "object_position": null,
            "object_fit": null,
            "grid_auto_columns": null,
            "margin": null,
            "display": null,
            "left": null
          }
        }
      }
    }
  },
  "cells": [
    {
      "cell_type": "markdown",
      "metadata": {
        "id": "view-in-github",
        "colab_type": "text"
      },
      "source": [
        "<a href=\"https://colab.research.google.com/github/NULabTMN/hw5-aidasharif1365/blob/main/BeamSearch1.ipynb\" target=\"_parent\"><img src=\"https://colab.research.google.com/assets/colab-badge.svg\" alt=\"Open In Colab\"/></a>"
      ]
    },
    {
      "cell_type": "markdown",
      "metadata": {
        "id": "pzqlhDt_ctp1"
      },
      "source": [
        "# Text generation with pre-trained Transformers\n",
        "In this assignment we will work with Pre-trained Transformers such as GPT2 for generating text from a given sequence. Transformers aim to address the long term dependency issue in sequence-to-seuqence prediction by using concepts such as self-attention and positional encoding. GPT2 is a langauge model, pretrained on text generation, that can be used as a multi-task learner for tasks such as summarization, question-answering, and other generation tasks. This assignment's focus is on using GPT2 to generate text via greedy decoding and beam search. For more background on beam search, see [Jurafsky and Martin, chapter 11](https://web.stanford.edu/~jurafsky/slp3/11.pdf)."
      ]
    },
    {
      "cell_type": "code",
      "metadata": {
        "id": "GdzIfi61MGbz",
        "colab": {
          "base_uri": "https://localhost:8080/"
        },
        "outputId": "a8fc7ff5-6834-4040-e7af-1b8557aafb6b"
      },
      "source": [
        "!pip install transformers"
      ],
      "execution_count": 3,
      "outputs": [
        {
          "output_type": "stream",
          "text": [
            "Collecting transformers\n",
            "\u001b[?25l  Downloading https://files.pythonhosted.org/packages/d8/b2/57495b5309f09fa501866e225c84532d1fd89536ea62406b2181933fb418/transformers-4.5.1-py3-none-any.whl (2.1MB)\n",
            "\u001b[K     |████████████████████████████████| 2.1MB 18.9MB/s \n",
            "\u001b[?25hCollecting tokenizers<0.11,>=0.10.1\n",
            "\u001b[?25l  Downloading https://files.pythonhosted.org/packages/ae/04/5b870f26a858552025a62f1649c20d29d2672c02ff3c3fb4c688ca46467a/tokenizers-0.10.2-cp37-cp37m-manylinux2010_x86_64.whl (3.3MB)\n",
            "\u001b[K     |████████████████████████████████| 3.3MB 52.3MB/s \n",
            "\u001b[?25hRequirement already satisfied: importlib-metadata; python_version < \"3.8\" in /usr/local/lib/python3.7/dist-packages (from transformers) (3.10.1)\n",
            "Requirement already satisfied: requests in /usr/local/lib/python3.7/dist-packages (from transformers) (2.23.0)\n",
            "Requirement already satisfied: numpy>=1.17 in /usr/local/lib/python3.7/dist-packages (from transformers) (1.19.5)\n",
            "Requirement already satisfied: packaging in /usr/local/lib/python3.7/dist-packages (from transformers) (20.9)\n",
            "Requirement already satisfied: regex!=2019.12.17 in /usr/local/lib/python3.7/dist-packages (from transformers) (2019.12.20)\n",
            "Requirement already satisfied: filelock in /usr/local/lib/python3.7/dist-packages (from transformers) (3.0.12)\n",
            "Collecting sacremoses\n",
            "\u001b[?25l  Downloading https://files.pythonhosted.org/packages/75/ee/67241dc87f266093c533a2d4d3d69438e57d7a90abb216fa076e7d475d4a/sacremoses-0.0.45-py3-none-any.whl (895kB)\n",
            "\u001b[K     |████████████████████████████████| 901kB 54.3MB/s \n",
            "\u001b[?25hRequirement already satisfied: tqdm>=4.27 in /usr/local/lib/python3.7/dist-packages (from transformers) (4.41.1)\n",
            "Requirement already satisfied: typing-extensions>=3.6.4; python_version < \"3.8\" in /usr/local/lib/python3.7/dist-packages (from importlib-metadata; python_version < \"3.8\"->transformers) (3.7.4.3)\n",
            "Requirement already satisfied: zipp>=0.5 in /usr/local/lib/python3.7/dist-packages (from importlib-metadata; python_version < \"3.8\"->transformers) (3.4.1)\n",
            "Requirement already satisfied: chardet<4,>=3.0.2 in /usr/local/lib/python3.7/dist-packages (from requests->transformers) (3.0.4)\n",
            "Requirement already satisfied: certifi>=2017.4.17 in /usr/local/lib/python3.7/dist-packages (from requests->transformers) (2020.12.5)\n",
            "Requirement already satisfied: idna<3,>=2.5 in /usr/local/lib/python3.7/dist-packages (from requests->transformers) (2.10)\n",
            "Requirement already satisfied: urllib3!=1.25.0,!=1.25.1,<1.26,>=1.21.1 in /usr/local/lib/python3.7/dist-packages (from requests->transformers) (1.24.3)\n",
            "Requirement already satisfied: pyparsing>=2.0.2 in /usr/local/lib/python3.7/dist-packages (from packaging->transformers) (2.4.7)\n",
            "Requirement already satisfied: joblib in /usr/local/lib/python3.7/dist-packages (from sacremoses->transformers) (1.0.1)\n",
            "Requirement already satisfied: click in /usr/local/lib/python3.7/dist-packages (from sacremoses->transformers) (7.1.2)\n",
            "Requirement already satisfied: six in /usr/local/lib/python3.7/dist-packages (from sacremoses->transformers) (1.15.0)\n",
            "Installing collected packages: tokenizers, sacremoses, transformers\n",
            "Successfully installed sacremoses-0.0.45 tokenizers-0.10.2 transformers-4.5.1\n"
          ],
          "name": "stdout"
        }
      ]
    },
    {
      "cell_type": "code",
      "metadata": {
        "id": "oVs6K8YcLvXC"
      },
      "source": [
        "import copy\n",
        "import torch\n",
        "from transformers import GPT2Tokenizer, GPT2LMHeadModel\n",
        "from scipy.special import softmax\n",
        "import numpy as np"
      ],
      "execution_count": 4,
      "outputs": []
    },
    {
      "cell_type": "code",
      "metadata": {
        "id": "-4S1DJT8MFeh",
        "colab": {
          "base_uri": "https://localhost:8080/",
          "height": 262,
          "referenced_widgets": [
            "7629902e08284aa8a0eee59af5efcf6d",
            "5a98687ad9e742c4b551e78f04ee7d12",
            "f7fa8e410a1442d1ae89f4c8be2882c6",
            "8cdfe470f4d54a21b0f56da0f058823f",
            "a85287083a9c4d7aa37aa21a1f1e3742",
            "bfb1991f075a47a68a4612e11c3dfe45",
            "7d4d9b8c3216427ba890798980f5a945",
            "726e61ca8a404faca3ea754d8c9ac987",
            "df968d9dd12149cd8b8716ddac0827c1",
            "a54d23842bc748eab81fafcdfe5287b6",
            "536042dfb942498da6a30e214c161352",
            "9ee147c880274a3fabad7c204baebb92",
            "00281f7ed3064113b0a8e11f8138a5c1",
            "c3aef1b2f9c344efb263d975e1e37c5e",
            "1a3ada4c6692408ab821a1ab1f8e635d",
            "6b532cb1b82b4e58bb26eca94b802e18",
            "560d7b589cac463dbb765379721abc90",
            "374e9c099f9544428775a947f826f94d",
            "88ee4abf2e9548dea7c6f7431fa8690c",
            "71f9286555c64f5bb658d03468530e64",
            "a1ca3f58692a4458932ba512665141bb",
            "cc84ac1a7c614e049588df1b13b50dae",
            "3ff7ef1d1f314a438880ac8ee7d87e93",
            "de61d016d80542c98982aff5933c4347",
            "3bf9cea8bdf74349bf1674d19572d486",
            "c5235c9c2ac3443c885096565b8b02f9",
            "259801c708b9471a8b6588c0de6c43ca",
            "6e6ebe7e2aa943c4b04daad898548ab6",
            "9c38e1132bbc4ac3b6547a14a626c300",
            "1e17daaa3ef24bdca8e241b98d6d8304",
            "09b68b2f21294eec941c84ce0efe6164",
            "58db21b05196468bbae3612127acdc6c",
            "09a567a0cb7843cbb8278b8de5b4bdde",
            "8dc78222a1814daf8ee8977ce1d56f4e",
            "95cff510894b403eb7a2b91e25e57620",
            "db27b87c475248afa11a973084993d4e",
            "c65c4cbdf98e473c882426f7eb6ccc40",
            "18ed10c1004e42a79ef122448423044a",
            "758b4be48fb74bfdb0decfb238e76f75",
            "e017a5b963ec4ebe9083730de82a13cd"
          ]
        },
        "outputId": "b71ce959-f8eb-4ea7-c10b-de4d1602fdac"
      },
      "source": [
        "tokenizer = GPT2Tokenizer.from_pretrained('gpt2')\n",
        "model = GPT2LMHeadModel.from_pretrained('gpt2')"
      ],
      "execution_count": 5,
      "outputs": [
        {
          "output_type": "display_data",
          "data": {
            "application/vnd.jupyter.widget-view+json": {
              "model_id": "7629902e08284aa8a0eee59af5efcf6d",
              "version_minor": 0,
              "version_major": 2
            },
            "text/plain": [
              "HBox(children=(FloatProgress(value=0.0, description='Downloading', max=1042301.0, style=ProgressStyle(descript…"
            ]
          },
          "metadata": {
            "tags": []
          }
        },
        {
          "output_type": "stream",
          "text": [
            "\n"
          ],
          "name": "stdout"
        },
        {
          "output_type": "display_data",
          "data": {
            "application/vnd.jupyter.widget-view+json": {
              "model_id": "df968d9dd12149cd8b8716ddac0827c1",
              "version_minor": 0,
              "version_major": 2
            },
            "text/plain": [
              "HBox(children=(FloatProgress(value=0.0, description='Downloading', max=456318.0, style=ProgressStyle(descripti…"
            ]
          },
          "metadata": {
            "tags": []
          }
        },
        {
          "output_type": "stream",
          "text": [
            "\n"
          ],
          "name": "stdout"
        },
        {
          "output_type": "display_data",
          "data": {
            "application/vnd.jupyter.widget-view+json": {
              "model_id": "560d7b589cac463dbb765379721abc90",
              "version_minor": 0,
              "version_major": 2
            },
            "text/plain": [
              "HBox(children=(FloatProgress(value=0.0, description='Downloading', max=1355256.0, style=ProgressStyle(descript…"
            ]
          },
          "metadata": {
            "tags": []
          }
        },
        {
          "output_type": "stream",
          "text": [
            "\n"
          ],
          "name": "stdout"
        },
        {
          "output_type": "display_data",
          "data": {
            "application/vnd.jupyter.widget-view+json": {
              "model_id": "3bf9cea8bdf74349bf1674d19572d486",
              "version_minor": 0,
              "version_major": 2
            },
            "text/plain": [
              "HBox(children=(FloatProgress(value=0.0, description='Downloading', max=665.0, style=ProgressStyle(description_…"
            ]
          },
          "metadata": {
            "tags": []
          }
        },
        {
          "output_type": "stream",
          "text": [
            "\n"
          ],
          "name": "stdout"
        },
        {
          "output_type": "display_data",
          "data": {
            "application/vnd.jupyter.widget-view+json": {
              "model_id": "09a567a0cb7843cbb8278b8de5b4bdde",
              "version_minor": 0,
              "version_major": 2
            },
            "text/plain": [
              "HBox(children=(FloatProgress(value=0.0, description='Downloading', max=548118077.0, style=ProgressStyle(descri…"
            ]
          },
          "metadata": {
            "tags": []
          }
        },
        {
          "output_type": "stream",
          "text": [
            "\n"
          ],
          "name": "stdout"
        }
      ]
    },
    {
      "cell_type": "code",
      "metadata": {
        "id": "9RiepaMyQfhl"
      },
      "source": [
        "sentences = ['I like walking and', \n",
        "             'Martha wanted to read a book that',\n",
        "             'Thomas is studying computer science to',\n",
        "             'Their friendship inspired',\n",
        "             'We should take the trash out since',\n",
        "             'I am not a fan of coffee because',\n",
        "             'I could not complete my homework by the deadline because',\n",
        "             'The last semester was much easier due to',\n",
        "             'I will be painting the walls white so that'\n",
        "            ]"
      ],
      "execution_count": 6,
      "outputs": []
    },
    {
      "cell_type": "markdown",
      "metadata": {
        "id": "xQ3sku1QrSIa"
      },
      "source": [
        "We apply greedy decoding to get predictions for each sentence here. This function returns the text output of greedy decoding. Modify it to return a tuple (ordered pair) of text and average log-likelihood per word for each sentence."
      ]
    },
    {
      "cell_type": "code",
      "metadata": {
        "id": "1IFNig2eRUtg"
      },
      "source": [
        "import math\n",
        "import heapq\n",
        "## TODO: Modify this function to return pairs of text and average log-likelihood\n",
        "## per word for each sentence.\n",
        "def greedy_decode(sentences, max_length, tokenizer):\n",
        "  # Obtain loss from output and calculate\n",
        "  # log likelihood for each sentence\n",
        "  texts = []\n",
        "  count=0\n",
        "  for sentence in sentences:\n",
        "    predicted_sentence = copy.copy(sentence)\n",
        "    sum_logit=0\n",
        "    # Predict a word each itertaion until the max length\n",
        "    for i in range(max_length):\n",
        "      indexed_tokens = tokenizer.encode(predicted_sentence)\n",
        "      token_tensors = torch.tensor([indexed_tokens])\n",
        "\n",
        "      with torch.no_grad():\n",
        "        output = model(token_tensors, labels=token_tensors)\n",
        "        predictions = output[1]\n",
        "        sum_logit+=torch.max(predictions[0, -1, :]).item()\n",
        "      predicted_index = torch.argmax(predictions[0, -1, :]).item()\n",
        "      predicted_sentence = tokenizer.decode(indexed_tokens + [predicted_index])\n",
        "    texts.append((predicted_sentence,sum_logit/(max_length)))\n",
        "  return texts"
      ],
      "execution_count": 180,
      "outputs": []
    },
    {
      "cell_type": "code",
      "metadata": {
        "colab": {
          "base_uri": "https://localhost:8080/"
        },
        "id": "eWayRy7eQoKC",
        "outputId": "1500036a-9b73-406c-9358-31d987c2cf86"
      },
      "source": [
        "texts = greedy_decode(sentences, max_length=25, tokenizer=tokenizer)\n",
        "texts"
      ],
      "execution_count": 181,
      "outputs": [
        {
          "output_type": "execute_result",
          "data": {
            "text/plain": [
              "[(\"I like walking and biking, but I don't like being in a car. I like to be in a car. I like to be in\",\n",
              "  -126.99030853271485),\n",
              " ('Martha wanted to read a book that she had read in college. She was a little nervous about it, but she was excited about it. She was a little',\n",
              "  -121.15141571044921),\n",
              " ('Thomas is studying computer science to become a professor of computer science at the University of California, Berkeley. He is also a member of the Board of Trustees',\n",
              "  -87.47114604949951),\n",
              " (\"Their friendship inspired him to become a writer and a writer's assistant. He also wrote a book about his life and career.\\n\\n\\n\",\n",
              "  -109.53943878173828),\n",
              " ('We should take the trash out since it\\'s not going to be a problem,\" he said.\\n\\n\\n\"We\\'re going to have to do something about',\n",
              "  -102.8561047744751),\n",
              " ('I am not a fan of coffee because it is not good for you. I am a fan of coffee because it is not good for you.\\n\\n\\nI',\n",
              "  -91.627269115448),\n",
              " ('I could not complete my homework by the deadline because I was too busy with my homework to finish it. I was so tired and tired of being bored. I was so tired',\n",
              "  -116.92001083374024),\n",
              " ('The last semester was much easier due to the fact that I had a lot of time to study and get my degree. I was able to get my degree in the',\n",
              "  -116.12248489379883),\n",
              " ('I will be painting the walls white so that I can see the faces of the people who are here. I will be painting the walls white so that I can see the',\n",
              "  -98.09685198783875)]"
            ]
          },
          "metadata": {
            "tags": []
          },
          "execution_count": 181
        }
      ]
    },
    {
      "cell_type": "markdown",
      "metadata": {
        "id": "CFPYdTx9rMUO"
      },
      "source": [
        "You'll be implementing **beam search**, which returns a list of the $k$ most likely output sequences for each sentence. For this assignment, let $k = 8$. For the first token in the generated text, you will select the top $k$ output tokens. Then, for the next token, find the $k$-best continuations for each of those $k$ hypotheses and select the $k$-best overall. Return the $k$-best overall hypotheses according to average log likelihood per word. Note that if we don't average per word, the decoder will simply prefer shorter outputs. As above, return tuples of text output and avergae log likelihood."
      ]
    },
    {
      "cell_type": "code",
      "metadata": {
        "id": "1e_9AWzT-kX7"
      },
      "source": [
        "#this function process only 1 sentence at a time\n",
        "def beam_persentence(sentence, max_length, tokenizer, k):\n",
        "\n",
        "  predicted_sentence = copy.copy(sentence)\n",
        "  sents=[]\n",
        "  indexed_tokens = tokenizer.encode(predicted_sentence)\n",
        "  token_tensors = torch.tensor([indexed_tokens])\n",
        "  with torch.no_grad():\n",
        "    output = model(token_tensors, labels=token_tensors)\n",
        "    predictions = output[1]\n",
        "    sum_logit=torch.max(predictions[0, -1, :]).item()\n",
        "  values,indices = torch.topk(predictions[0, -1, :],k)\n",
        "  for ind in range(k):\n",
        "    predicted_sentence = tokenizer.decode(indexed_tokens + [indices[ind].item()])\n",
        "    sents.append((predicted_sentence,values[ind].item()))\n",
        "    \n",
        "  for i in range(max_length-1):\n",
        "    sents2=[]\n",
        "    for sentence in sents:\n",
        "      predicted_sentence = copy.copy(sentence[0])\n",
        "      indexed_tokens = tokenizer.encode(predicted_sentence)\n",
        "      token_tensors = torch.tensor([indexed_tokens])\n",
        "      with torch.no_grad():\n",
        "        output = model(token_tensors, labels=token_tensors)\n",
        "        predictions = output[1]\n",
        "      #getting the top k values for likelihood and indices\n",
        "      values,indices = torch.topk(predictions[0, -1, :],k)\n",
        "      for ind in range(k):\n",
        "        predicted_s = tokenizer.decode(indexed_tokens + [indices[ind].item()])\n",
        "        #likelihood is divided by the number of words in a sentence\n",
        "        sents2.append((predicted_s,(sentence[1]+values[ind].item())/predicted_s.count(' ')))\n",
        "    #only getting k sentences with highest loglikelihood\n",
        "    sents2=heapq.nlargest(k,sents2,key=lambda x:x[1])\n",
        "    sents=sents2\n",
        "  return sents2"
      ],
      "execution_count": 201,
      "outputs": []
    },
    {
      "cell_type": "code",
      "metadata": {
        "id": "enI6j6iVS8Na"
      },
      "source": [
        "## TODO: Implement beam search.\n",
        "def beam_search(sentences, max_length, tokenizer, k):\n",
        "  all_answers=[]\n",
        "  for sentence in sentences:\n",
        "    all_answers.append(beam_persentence(sentence, max_length, tokenizer, k))\n",
        "  return all_answers\n",
        "  "
      ],
      "execution_count": 202,
      "outputs": []
    },
    {
      "cell_type": "code",
      "metadata": {
        "colab": {
          "base_uri": "https://localhost:8080/"
        },
        "id": "N0x8Qmy-9A0H",
        "outputId": "9b4e62d2-57bd-4d95-b60b-d089d64eed6b"
      },
      "source": [
        "texts = beam_search(sentences, max_length=25, tokenizer=tokenizer,k=8)\n",
        "texts"
      ],
      "execution_count": 206,
      "outputs": [
        {
          "output_type": "execute_result",
          "data": {
            "text/plain": [
              "[[('I like walking and talking in front of the fireplace in front,\" said Dr Paul Denton of St John Hospital. Dr Dr Paul said there is',\n",
              "   -2.1808825168629373),\n",
              "  ('I like walking and talking in front of the fireplace in front,\" said Dr Paul Denton of St John Hospital. Dr Dr Paul said there are',\n",
              "   -2.1838144931812966),\n",
              "  ('I like walking and talking in front of the fireplace in front,\" said Dr Paul Denton of St John Hospital. Dr Dr Paul said there was',\n",
              "   -2.1896998081227026),\n",
              "  ('I like walking and talking in front of the fireplace in front,\" said Dr Paul Denton of St John Hospital. Dr Dr Paul said there were',\n",
              "   -2.2078313694019998),\n",
              "  ('I like walking and talking in front of the fireplace in front,\" said Dr Paul Denton of St John Hospital. Dr Dr Paul said there has',\n",
              "   -2.2672959384937967),\n",
              "  ('I like walking and talking in front of the fireplace in front,\" said Dr Paul Denton of St John Hospital. Dr Dr Paul said there have',\n",
              "   -2.2705848178883277),\n",
              "  ('I like walking and talking in front of the fireplace in front,\" said Dr Paul Denton of St John Hospital. Dr Dr Paul said there may',\n",
              "   -2.290239206316062),\n",
              "  ('I like walking and talking in front of the fireplace in front,\" said Dr Paul Denton of St John Hospital. Dr Dr Paul said there\\'s',\n",
              "   -2.3353668312252274)],\n",
              " [(\"Martha wanted to read a book that said the U. S.' role as protector in World Trade Center 2 had to do nothing more important: The United State was\",\n",
              "   -3.160392487512223),\n",
              "  (\"Martha wanted to read a book that said the U. S.' role as protector in World Trade Center 2 had to do nothing more important: The United State had\",\n",
              "   -3.165955678517385),\n",
              "  (\"Martha wanted to read a book that said the U. S.' role as protector in World Trade Center 2 had to do nothing more important: The United State of\",\n",
              "   -3.187714984198886),\n",
              "  (\"Martha wanted to read a book that said the U. S.' role as protector in World Trade Center 2 had to do nothing more important: The United State and\",\n",
              "   -3.198481149795984),\n",
              "  (\"Martha wanted to read a book that said the U. S.' role as protector in World Trade Center 2 had to do nothing more important: The United State must\",\n",
              "   -3.20178086293075),\n",
              "  (\"Martha wanted to read a book that said the U. S.' role as protector in World Trade Center 2 had to do nothing more important: The United State's\",\n",
              "   -3.256409255260795),\n",
              "  (\"Martha wanted to read a book that said the U. S.' role as protector in World Trade Center 2 had to do nothing more important: The United State.\",\n",
              "   -3.2590442220757545),\n",
              "  (\"Martha wanted to read a book that said the U. S.' role as protector in World Trade Center 2 had to do nothing more important: The United Nation had\",\n",
              "   -3.2623615858001385)],\n",
              " [('Thomas is studying computer science to prepare him as one of a handful U-Va-bound candidates on Tuesday night for an open seat in Virginia State Board of',\n",
              "   -1.231630487434102),\n",
              "  ('Thomas is studying computer science to prepare him as one of a handful U-Va-bound candidates on Tuesday night for an open seat in Virginia State Board Chair',\n",
              "   -1.424532832357855),\n",
              "  ('Thomas is studying computer science to prepare him as one of a handful U-Va-bound candidates on Tuesday night for an open seat in Virginia State Board seats',\n",
              "   -1.4364164946550306),\n",
              "  ('Thomas is studying computer science to prepare him as one of a handful U-Va-bound candidates on Tuesday night for an open seat in Virginia State Board 4',\n",
              "   -1.4377842103438827),\n",
              "  ('Thomas is studying computer science to prepare him as one of a handful U-Va-bound candidates on Tuesday night for an open seat in Virginia State Board 5',\n",
              "   -1.4398262471339969),\n",
              "  ('Thomas is studying computer science to prepare him as one of a handful U-Va-bound candidates on Tuesday night for an open seat in Virginia State Board President',\n",
              "   -1.4510832720457307),\n",
              "  ('Thomas is studying computer science to prepare him as one of a handful U-Va-bound candidates on Tuesday night for an open seat in Virginia State Board House',\n",
              "   -1.4544861287257937),\n",
              "  ('Thomas is studying computer science to prepare him as one of a handful U-Va-bound candidates on Tuesday night for an open seat in Virginia State Board 6',\n",
              "   -1.4574890290694686)],\n",
              " [('Their friendship inspired him as much for her role on Star Trek as it did for Star-Lord as well.\" (Source) (source)',\n",
              "   2.1240342407042894),\n",
              "  ('Their friendship inspired him as much for her role on Star Trek as it did for Star-Lord as well.\" (Source) (source:',\n",
              "   1.9000050811583908),\n",
              "  ('Their friendship inspired him as much for her role on Star Trek as it did for Star-Lord as well.\" (Source) (source).',\n",
              "   1.8372100143248946),\n",
              "  ('Their friendship inspired him as much for her role on Star Trek as it did for Star-Lord as well.\" (Source) (source),',\n",
              "   1.8046599654967697),\n",
              "  ('Their friendship inspired him as much for her role on Star Trek as it did for Star-Lord as well.\" (Source) (source))',\n",
              "   1.790274932842961),\n",
              "  ('Their friendship inspired him as much for her role on Star Trek as it did for Star-Lord as well.\" (Source) (source):',\n",
              "   1.7871217040831955),\n",
              "  ('Their friendship inspired him as much for her role on Star Trek as it did for Star-Lord as well.\" (Source) (source,',\n",
              "   1.7845643310363204),\n",
              "  ('Their friendship inspired him as much for her role on Star Trek as it did for Star-Lord as well.\" (Source) (source )',\n",
              "   1.770239628365599)],\n",
              " [('We should take the trash out since there will still still still still still still will still still still still still will still still still still still still still still still still',\n",
              "   -1.4830264468692886),\n",
              "  ('We should take the trash out since there will still still still still still still will still still still still still will still will still still still still still still still still',\n",
              "   -1.5908489264822667),\n",
              "  ('We should take the trash out since there will still still still still still still will still still still still still will still still still still still still still still still will',\n",
              "   -1.624502370469024),\n",
              "  ('We should take the trash out since there will still still still still still still will still still still still still will still still still still still still still still still Still',\n",
              "   -1.6598598149860981),\n",
              "  ('We should take the trash out since there will still still still still still still will still still still still still will still will still still still still still still still will',\n",
              "   -1.663882167015911),\n",
              "  ('We should take the trash out since there will still still still still still still will still still still still still will still still still still still still still still still to',\n",
              "   -1.6786294791352288),\n",
              "  ('We should take the trash out since there will still still still still still still will still still still still still will still still still still still still still still still.',\n",
              "   -1.7161750833551008),\n",
              "  ('We should take the trash out since there will still still still still still still will still still still still still will still still still still still still still still still,',\n",
              "   -1.7228586872776268)],\n",
              " [('I am not a fan of coffee because of it,\" Mr. Smith says now and then at the end of each conversation with me on the phone with him at the',\n",
              "   -2.3503471768400868),\n",
              "  ('I am not a fan of coffee because of it,\" Mr. Smith says now and then at the end of each conversation with me on the phone with him at his',\n",
              "   -2.3503713365894354),\n",
              "  ('I am not a fan of coffee because of it,\" Mr. Smith says now and then at the end of each conversation with me on the phone with him at my',\n",
              "   -2.3955131924650868),\n",
              "  ('I am not a fan of coffee because of it,\" Mr. Smith says now and then at the end of each conversation with me on the phone with him at home',\n",
              "   -2.3997055447600086),\n",
              "  ('I am not a fan of coffee because of it,\" Mr. Smith says now and then at the end of each conversation with me on the phone with him at a',\n",
              "   -2.413044523845295),\n",
              "  ('I am not a fan of coffee because of it,\" Mr. Smith says now and then at the end of each conversation with me on the phone with him at our',\n",
              "   -2.4272336717945135),\n",
              "  ('I am not a fan of coffee because of it,\" Mr. Smith says now and then at the end of each conversation with me on the phone with him at Starbucks',\n",
              "   -2.430693856527587),\n",
              "  ('I am not a fan of coffee because of it,\" Mr. Smith says now and then at the end of each conversation with me on the phone with him at work',\n",
              "   -2.443855070720295)],\n",
              " [('I could not complete my homework by the deadline because there had to have already come to an agreed-for-theoretically agreed-for-the-actualized-time',\n",
              "   -4.0223933226603386),\n",
              "  ('I could not complete my homework by the deadline because there had to have already come to an agreed-for-theoretically agreed-for-the-actualized-in',\n",
              "   -4.040736394848866),\n",
              "  ('I could not complete my homework by the deadline because there had to have already come to an agreed-for-theoretically agreed-for-the-actualized-by',\n",
              "   -4.04832041456001),\n",
              "  ('I could not complete my homework by the deadline because there had to have already come to an agreed-for-theoretically agreed-for-the-actualized-world',\n",
              "   -4.053896297321112),\n",
              "  ('I could not complete my homework by the deadline because there had to have already come to an agreed-for-theoretically agreed-for-the-actualized-subject',\n",
              "   -4.056568191595372),\n",
              "  ('I could not complete my homework by the deadline because there had to have already come to an agreed-for-theoretically agreed-for-the-actualized-to',\n",
              "   -4.061493568085915),\n",
              "  ('I could not complete my homework by the deadline because there had to have already come to an agreed-for-theoretically agreed-for-the-actualized-project',\n",
              "   -4.06487499605158),\n",
              "  ('I could not complete my homework by the deadline because there had to have already come to an agreed-for-theoretically agreed-for-the-actualized-final',\n",
              "   -4.066586791256145)],\n",
              " [('The last semester was much easier due to all of this stuff going through me in school.\" The two of the two had gone on their honey-and-pink',\n",
              "   -2.5374416111086076),\n",
              "  ('The last semester was much easier due to all of this stuff going through me in school.\" The two of the two had gone on their honey-and-pudding',\n",
              "   -2.575842114413896),\n",
              "  ('The last semester was much easier due to all of this stuff going through me in school.\" The two of the two had gone on their honey-and-pump',\n",
              "   -2.587393604610711),\n",
              "  ('The last semester was much easier due to all of this stuff going through me in school.\" The two of the two had gone on their honey-and-pizza',\n",
              "   -2.593764442482556),\n",
              "  ('The last semester was much easier due to all of this stuff going through me in school.\" The two of the two had gone on their honey-and-pops',\n",
              "   -2.6260822642786796),\n",
              "  ('The last semester was much easier due to all of this stuff going through me in school.\" The two of the two had gone on their honey-and-pig',\n",
              "   -2.6383617747767265),\n",
              "  ('The last semester was much easier due to all of this stuff going through me in school.\" The two of the two had gone on their honey-and-pony',\n",
              "   -2.6403656645941846),\n",
              "  ('The last semester was much easier due to all of this stuff going through me in school.\" The two of the two had gone on their honey-and-pixie',\n",
              "   -2.6415863677191846)],\n",
              " [('I will be painting the walls white so that when the time rolls around the whole house will have an opportunity.\" The house in front of the home in front of the house',\n",
              "   -2.6130212924160725),\n",
              "  ('I will be painting the walls white so that when the time rolls around the whole house will have an opportunity.\" The house in front of the home in front of the home',\n",
              "   -2.6703571459927327),\n",
              "  ('I will be painting the walls white so that when the time rolls around the whole house will have an opportunity.\" The house in front of the home in front of the family',\n",
              "   -2.688713230816341),\n",
              "  ('I will be painting the walls white so that when the time rolls around the whole house will have an opportunity.\" The house in front of the home in front of the school',\n",
              "   -2.7048436782040364),\n",
              "  ('I will be painting the walls white so that when the time rolls around the whole house will have an opportunity.\" The house in front of the home in front of the building',\n",
              "   -2.7056817195095784),\n",
              "  ('I will be painting the walls white so that when the time rolls around the whole house will have an opportunity.\" The house in front of the home in front of the apartment',\n",
              "   -2.7094637534298665),\n",
              "  ('I will be painting the walls white so that when the time rolls around the whole house will have an opportunity.\" The house in front of the home in front of the church',\n",
              "   -2.711021342007137),\n",
              "  ('I will be painting the walls white so that when the time rolls around the whole house will have an opportunity.\" The house in front of the home in front of the door',\n",
              "   -2.714826264111019)]]"
            ]
          },
          "metadata": {
            "tags": []
          },
          "execution_count": 206
        }
      ]
    },
    {
      "cell_type": "code",
      "metadata": {
        "colab": {
          "base_uri": "https://localhost:8080/"
        },
        "id": "JoWEpgAiBTzM",
        "outputId": "7182a463-fb33-4dae-a870-b240b6bdb87f"
      },
      "source": [
        "texts = beam_search(sentences, max_length=25, tokenizer=tokenizer,k=2)\n",
        "texts"
      ],
      "execution_count": 204,
      "outputs": [
        {
          "output_type": "execute_result",
          "data": {
            "text/plain": [
              "[[('I like walking and I like playing with my friends,\" he says. \"But it was just the way it worked out.\"<|endoftext|>The U.',\n",
              "   1.5596639583003753),\n",
              "  ('I like walking and I like playing with my friends,\" he says. \"But it was just the way it worked out.\"<|endoftext|>The UES',\n",
              "   1.5488080564914095)],\n",
              " [('Martha wanted to read a book that was about the history of the United States, and she wanted it to have an impact on her life, so that she could',\n",
              "   -4.788773673061675),\n",
              "  ('Martha wanted to read a book that was about the history of the United States, and she wanted it to have an impact on her life, so that she would',\n",
              "   -4.855597172017763)],\n",
              " [('Thomas is studying computer science to become an assistant professor at Stanford University, where he is pursuing his PhD in computer science and computer engineering from the School for Information',\n",
              "   -3.740836595146338),\n",
              "  ('Thomas is studying computer science to become an assistant professor at Stanford University, where he is pursuing his PhD in computer science and computer engineering from the School for Advanced',\n",
              "   -3.7683139910919197)],\n",
              " [('Their friendship inspired him and his family to start the first-ever \"The New York Times Book of the Month\" contest, and he has',\n",
              "   -6.1658150427239),\n",
              "  ('Their friendship inspired him and his family to start the first-ever \"The New York Times Book of the Month\" contest, and he\\'s',\n",
              "   -6.44466712739416)],\n",
              " [('We should take the trash out since it is a waste of time and energy to put them in the trash,\" he said. \"It is a waste of time',\n",
              "   -2.7649939188642456),\n",
              "  ('We should take the trash out since it is a waste of time and energy to put them in the trash,\" he said. \"It is a waste of money',\n",
              "   -2.7843014641174544)],\n",
              " [('I am not a fan of coffee because it is a bad thing for the body and the mind. It is a bad thing for the brain and it is bad for',\n",
              "   1.2856751664817991),\n",
              "  ('I am not a fan of coffee because it is a bad thing for the body and the mind. It is a bad thing for the brain and it is bad to',\n",
              "   1.1575713565098358)],\n",
              " [('I could not complete my homework by the deadline because of the time constraints. I was able, but not at the time, of completing my work, so it was not possible',\n",
              "   -4.576426192742596),\n",
              "  ('I could not complete my homework by the deadline because of the time constraints. I was able, but not at the time, of completing my work, so it was not a',\n",
              "   -4.60246735078296)],\n",
              " [('The last semester was much easier due to the fact that we had a lot more time on our hands and the fact that we had more time on our feet, so',\n",
              "   -3.4401629285116266),\n",
              "  ('The last semester was much easier due to the fact that we had a lot more time on our hands and the fact that we had more time on our feet, and',\n",
              "   -3.4594864620927757)],\n",
              " [('I will be painting the walls white so that you will see the light of the sun and not the darkness of darkness.\" (The Book Of Mormon)\\nThe Book Of',\n",
              "   -2.5757151799487574),\n",
              "  ('I will be painting the walls white so that you will see the light of the sun and not the darkness of darkness.\" (The Book Of Mormon)\\nThe Book of',\n",
              "   -2.621335961983495)]]"
            ]
          },
          "metadata": {
            "tags": []
          },
          "execution_count": 204
        }
      ]
    },
    {
      "cell_type": "code",
      "metadata": {
        "colab": {
          "base_uri": "https://localhost:8080/"
        },
        "id": "aMg1wbAJ_YVP",
        "outputId": "19910abe-b71e-4fd1-890e-cac655f10133"
      },
      "source": [
        "texts = beam_search(sentences, max_length=25, tokenizer=tokenizer,k=1)\n",
        "texts"
      ],
      "execution_count": 205,
      "outputs": [
        {
          "output_type": "execute_result",
          "data": {
            "text/plain": [
              "[[(\"I like walking and biking, but I don't like being in a car. I like to be in a car. I like to be in\",\n",
              "   -5.619709010993636)],\n",
              " [('Martha wanted to read a book that she had read in college. She was a little nervous about it, but she was excited about it. She was a little',\n",
              "   -4.036240599316462)],\n",
              " [('Thomas is studying computer science to become a professor of computer science at the University of California, Berkeley. He is also a member of the Board of Trustees',\n",
              "   -3.184968301327893)],\n",
              " [(\"Their friendship inspired him to become a writer and a writer's assistant. He also wrote a book about his life and career.\\n\\n\\n\",\n",
              "   -12.620372851760186)],\n",
              " [('We should take the trash out since it\\'s not going to be a problem,\" he said.\\n\\n\\n\"We\\'re going to have to do something about',\n",
              "   -6.1592850726690065)],\n",
              " [('I am not a fan of coffee because it is not good for you. I am a fan of coffee because it is not good for you.\\n\\n\\nI',\n",
              "   -4.699249583776467)],\n",
              " [('I could not complete my homework by the deadline because I was too busy with my homework to finish it. I was so tired and tired of being bored. I was so tired',\n",
              "   -3.498854758831717)],\n",
              " [('The last semester was much easier due to the fact that I had a lot of time to study and get my degree. I was able to get my degree in the',\n",
              "   -4.295021792400887)],\n",
              " [('I will be painting the walls white so that I can see the faces of the people who are here. I will be painting the walls white so that I can see the',\n",
              "   -0.2831217150423968)]]"
            ]
          },
          "metadata": {
            "tags": []
          },
          "execution_count": 205
        }
      ]
    },
    {
      "cell_type": "markdown",
      "metadata": {
        "id": "RFrvgUGFxTaA"
      },
      "source": [
        "**TODO:** Record your observations here\n",
        "\n",
        "The beam search is highly dependent on the log likelihood of previous sentences. If a specific path has lower log likelihood then the other possible sentences are discarded. In that sence the results for the simple word generator was better because it was taking into account the whole sentence not half sentences at each step.\n"
      ]
    },
    {
      "cell_type": "markdown",
      "metadata": {
        "id": "NuN4xYMu1cq1"
      },
      "source": [
        "For further exploration, you can experiment with $k$ to see how the fluency of text changes.\n",
        "\n",
        "In my experiments lower k values resulted in better results."
      ]
    }
  ]
}
