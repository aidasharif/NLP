{
  "nbformat": 4,
  "nbformat_minor": 0,
  "metadata": {
    "colab": {
      "name": "Copy of CrossLanguageEmbeddings.ipynb",
      "provenance": [],
      "include_colab_link": true
    },
    "kernelspec": {
      "name": "python3",
      "display_name": "Python 3"
    }
  },
  "cells": [
    {
      "cell_type": "markdown",
      "metadata": {
        "id": "view-in-github",
        "colab_type": "text"
      },
      "source": [
        "<a href=\"https://colab.research.google.com/github/NULabTMN/hw4-aidasharif1365/blob/master/CrossLanguageEmbeddings.ipynb\" target=\"_parent\"><img src=\"https://colab.research.google.com/assets/colab-badge.svg\" alt=\"Open In Colab\"/></a>"
      ]
    },
    {
      "cell_type": "markdown",
      "metadata": {
        "id": "oDsn_Motja8Q"
      },
      "source": [
        "# Cross-Language Word Embeddings\n",
        "\n",
        "\n"
      ]
    },
    {
      "cell_type": "code",
      "metadata": {
        "id": "UKm5cPMQ2xHU"
      },
      "source": [
        "import gensim\n",
        "import numpy as np\n",
        "from gensim.test.utils import datapath, get_tmpfile\n",
        "from gensim.models import Word2Vec\n",
        "from gensim.models.word2vec import LineSentence"
      ],
      "execution_count": null,
      "outputs": []
    },
    {
      "cell_type": "markdown",
      "metadata": {
        "id": "sfKjYFDklB4c"
      },
      "source": [
        "We'll start by downloading a plain-text version of the Shakespeare plays."
      ]
    },
    {
      "cell_type": "code",
      "metadata": {
        "id": "Dw3bvl1yf5FB",
        "colab": {
          "base_uri": "https://localhost:8080/"
        },
        "outputId": "5873f70c-f2b7-462f-8b7e-48b4c8630c5e"
      },
      "source": [
        "!wget http://www.ccs.neu.edu/home/dasmith/courses/cs6120/shakespeare_plays.txt\n",
        "lines = [s.split() for s in open('shakespeare_plays.txt')]"
      ],
      "execution_count": null,
      "outputs": [
        {
          "output_type": "stream",
          "text": [
            "--2021-04-14 17:06:41--  http://www.ccs.neu.edu/home/dasmith/courses/cs6120/shakespeare_plays.txt\n",
            "Resolving www.ccs.neu.edu (www.ccs.neu.edu)... 52.70.229.197\n",
            "Connecting to www.ccs.neu.edu (www.ccs.neu.edu)|52.70.229.197|:80... connected.\n",
            "HTTP request sent, awaiting response... 200 OK\n",
            "Length: 4746840 (4.5M) [text/plain]\n",
            "Saving to: ‘shakespeare_plays.txt.1’\n",
            "\n",
            "shakespeare_plays.t 100%[===================>]   4.53M  10.5MB/s    in 0.4s    \n",
            "\n",
            "2021-04-14 17:06:44 (10.5 MB/s) - ‘shakespeare_plays.txt.1’ saved [4746840/4746840]\n",
            "\n"
          ],
          "name": "stdout"
        }
      ]
    },
    {
      "cell_type": "markdown",
      "metadata": {
        "id": "5cZ52pEflKKM"
      },
      "source": [
        "Then, we'll estimate a simple word2vec model on the Shakespeare texts."
      ]
    },
    {
      "cell_type": "code",
      "metadata": {
        "id": "eXT5BNPs_zjM"
      },
      "source": [
        "model = Word2Vec(lines)"
      ],
      "execution_count": null,
      "outputs": []
    },
    {
      "cell_type": "markdown",
      "metadata": {
        "id": "Fzt3lG1-lw33"
      },
      "source": [
        "Even with such a small training set size, you can perform some standard analogy tasks."
      ]
    },
    {
      "cell_type": "code",
      "metadata": {
        "id": "i4ruAqhKC3-R",
        "colab": {
          "base_uri": "https://localhost:8080/"
        },
        "outputId": "d209f7ab-3636-4de9-e92b-f25750886481"
      },
      "source": [
        "model.wv.most_similar(positive=['king','woman'], negative=['man'])"
      ],
      "execution_count": null,
      "outputs": [
        {
          "output_type": "execute_result",
          "data": {
            "text/plain": [
              "[('queen', 0.8441256284713745),\n",
              " ('prince', 0.7550256252288818),\n",
              " ('clarence', 0.7451651096343994),\n",
              " ('duke', 0.7259522676467896),\n",
              " ('york', 0.7239415645599365),\n",
              " ('warwick', 0.713495671749115),\n",
              " ('cardinal', 0.7053724527359009),\n",
              " ('lady', 0.6993714570999146),\n",
              " ('margaret', 0.6955322027206421),\n",
              " ('gloucester', 0.6858654022216797)]"
            ]
          },
          "metadata": {
            "tags": []
          },
          "execution_count": 7
        }
      ]
    },
    {
      "cell_type": "markdown",
      "metadata": {
        "id": "AJL45y5emjA9"
      },
      "source": [
        "we will focus on finding words with similar embeddings, both within and across languages. For example, what words are similar to the name of the title character of *Othello*?"
      ]
    },
    {
      "cell_type": "markdown",
      "metadata": {
        "id": "UM2BT_7zZle3"
      },
      "source": [
        "This search uses cosine similarity. In the default API, you should see the same similarity between the words `othello` and `desdemona` as in the search results above."
      ]
    },
    {
      "cell_type": "code",
      "metadata": {
        "id": "-e32-u4zYFda",
        "colab": {
          "base_uri": "https://localhost:8080/"
        },
        "outputId": "828c2b6e-181d-4336-a965-27bf2102f955"
      },
      "source": [
        "model.wv.similarity('othello', 'desdemona')"
      ],
      "execution_count": null,
      "outputs": [
        {
          "output_type": "execute_result",
          "data": {
            "text/plain": [
              "0.96950686"
            ]
          },
          "metadata": {
            "tags": []
          },
          "execution_count": 8
        }
      ]
    },
    {
      "cell_type": "markdown",
      "metadata": {
        "id": "c49DwfAmZ6PU"
      },
      "source": [
        "therefore, is to implement your own cosine similarity function so that you can reuse it outside of the context of the gensim model object."
      ]
    },
    {
      "cell_type": "code",
      "metadata": {
        "id": "rEj2PqpuZ5xs",
        "colab": {
          "base_uri": "https://localhost:8080/"
        },
        "outputId": "5b019155-0aa3-4d20-bddb-8e8fbb6f5795"
      },
      "source": [
        "## TODO: Implement cosim\n",
        "import numpy as np\n",
        "from scipy.spatial import distance\n",
        "def cosim(v1, v2):\n",
        "  ## return cosine similarity between v1 and v2\n",
        "  dot=np.dot(np.array(v1),np.array(v2))\n",
        "  return dot/(np.sqrt(np.dot(np.array(v1),np.array(v1))) * np.sqrt(np.dot(np.array(v2),np.array(v2))))\n",
        "\n",
        "## This should give a result similar to model.wv.similarity:\n",
        "cosim(model.wv['othello'], model.wv['desdemona'])"
      ],
      "execution_count": null,
      "outputs": [
        {
          "output_type": "execute_result",
          "data": {
            "text/plain": [
              "0.9695069"
            ]
          },
          "metadata": {
            "tags": []
          },
          "execution_count": 9
        }
      ]
    },
    {
      "cell_type": "markdown",
      "metadata": {
        "id": "3TbDqBIHbHfB"
      },
      "source": [
        "## Evaluation\n",
        "\n",
        "We could collect a lot of human judgments about how similar pairs of words, or pairs of Shakespearean characters, are. Then we could compare different word-embedding models by their ability to replicate these human judgments.\n",
        "\n",
        "If we extend our ambition to multiple languages, however, we can use a word translation task to evaluate word embeddings.\n",
        "\n",
        "We will use a subset of [Facebook AI's FastText cross-language embeddings](https://fasttext.cc/docs/en/aligned-vectors.html) for several languages. Your task will be to compare English both to French, and to *one more language* from the following set: Arabic, German, Portuguese, Russian, Spanish, Vietnamese, and Chinese."
      ]
    },
    {
      "cell_type": "code",
      "metadata": {
        "id": "FC_FXRnfq1BO",
        "colab": {
          "base_uri": "https://localhost:8080/"
        },
        "outputId": "11969aba-d860-4c43-b3a1-7d9647c004dc"
      },
      "source": [
        "!wget http://www.ccs.neu.edu/home/dasmith/courses/cs6120/30k.en.vec\n",
        "!wget http://www.ccs.neu.edu/home/dasmith/courses/cs6120/30k.fr.vec\n",
        "\n",
        "# TODO: uncomment at least one of these to work with another language\n",
        "!wget http://www.ccs.neu.edu/home/dasmith/courses/cs6120/30k.ar.vec\n",
        "# !wget http://www.ccs.neu.edu/home/dasmith/courses/cs6120/30k.de.vec\n",
        "# !wget http://www.ccs.neu.edu/home/dasmith/courses/cs6120/30k.pt.vec\n",
        "# !wget http://www.ccs.neu.edu/home/dasmith/courses/cs6120/30k.ru.vec\n",
        "!wget http://www.ccs.neu.edu/home/dasmith/courses/cs6120/30k.es.vec\n",
        "# !wget http://www.ccs.neu.edu/home/dasmith/courses/cs6120/30k.vi.vec\n",
        "!wget http://www.ccs.neu.edu/home/dasmith/courses/cs6120/30k.zh.vec"
      ],
      "execution_count": null,
      "outputs": [
        {
          "output_type": "stream",
          "text": [
            "--2021-04-14 17:12:44--  http://www.ccs.neu.edu/home/dasmith/courses/cs6120/30k.en.vec\n",
            "Resolving www.ccs.neu.edu (www.ccs.neu.edu)... 52.70.229.197\n",
            "Connecting to www.ccs.neu.edu (www.ccs.neu.edu)|52.70.229.197|:80... connected.\n",
            "HTTP request sent, awaiting response... 200 OK\n",
            "Length: 67681172 (65M)\n",
            "Saving to: ‘30k.en.vec.1’\n",
            "\n",
            "30k.en.vec.1        100%[===================>]  64.54M   105MB/s    in 0.6s    \n",
            "\n",
            "2021-04-14 17:12:45 (105 MB/s) - ‘30k.en.vec.1’ saved [67681172/67681172]\n",
            "\n",
            "--2021-04-14 17:12:45--  http://www.ccs.neu.edu/home/dasmith/courses/cs6120/30k.fr.vec\n",
            "Resolving www.ccs.neu.edu (www.ccs.neu.edu)... 52.70.229.197\n",
            "Connecting to www.ccs.neu.edu (www.ccs.neu.edu)|52.70.229.197|:80... connected.\n",
            "HTTP request sent, awaiting response... 200 OK\n",
            "Length: 67802327 (65M)\n",
            "Saving to: ‘30k.fr.vec.1’\n",
            "\n",
            "30k.fr.vec.1        100%[===================>]  64.66M   146MB/s    in 0.4s    \n",
            "\n",
            "2021-04-14 17:12:45 (146 MB/s) - ‘30k.fr.vec.1’ saved [67802327/67802327]\n",
            "\n",
            "--2021-04-14 17:12:45--  http://www.ccs.neu.edu/home/dasmith/courses/cs6120/30k.ar.vec\n",
            "Resolving www.ccs.neu.edu (www.ccs.neu.edu)... 52.70.229.197\n",
            "Connecting to www.ccs.neu.edu (www.ccs.neu.edu)|52.70.229.197|:80... connected.\n",
            "HTTP request sent, awaiting response... 200 OK\n",
            "Length: 67934954 (65M)\n",
            "Saving to: ‘30k.ar.vec.1’\n",
            "\n",
            "30k.ar.vec.1        100%[===================>]  64.79M   111MB/s    in 0.6s    \n",
            "\n",
            "2021-04-14 17:12:46 (111 MB/s) - ‘30k.ar.vec.1’ saved [67934954/67934954]\n",
            "\n",
            "--2021-04-14 17:12:46--  http://www.ccs.neu.edu/home/dasmith/courses/cs6120/30k.es.vec\n",
            "Resolving www.ccs.neu.edu (www.ccs.neu.edu)... 52.70.229.197\n",
            "Connecting to www.ccs.neu.edu (www.ccs.neu.edu)|52.70.229.197|:80... connected.\n",
            "HTTP request sent, awaiting response... 200 OK\n",
            "Length: 67762853 (65M) [application/ecmascript]\n",
            "Saving to: ‘30k.es.vec’\n",
            "\n",
            "30k.es.vec          100%[===================>]  64.62M   114MB/s    in 0.6s    \n",
            "\n",
            "2021-04-14 17:12:49 (114 MB/s) - ‘30k.es.vec’ saved [67762853/67762853]\n",
            "\n",
            "--2021-04-14 17:12:49--  http://www.ccs.neu.edu/home/dasmith/courses/cs6120/30k.zh.vec\n",
            "Resolving www.ccs.neu.edu (www.ccs.neu.edu)... 52.70.229.197\n",
            "Connecting to www.ccs.neu.edu (www.ccs.neu.edu)|52.70.229.197|:80... connected.\n",
            "HTTP request sent, awaiting response... 200 OK\n",
            "Length: 67627343 (64M)\n",
            "Saving to: ‘30k.zh.vec’\n",
            "\n",
            "30k.zh.vec          100%[===================>]  64.49M  63.9MB/s    in 1.0s    \n",
            "\n",
            "2021-04-14 17:12:50 (63.9 MB/s) - ‘30k.zh.vec’ saved [67627343/67627343]\n",
            "\n"
          ],
          "name": "stdout"
        }
      ]
    },
    {
      "cell_type": "markdown",
      "metadata": {
        "id": "nmuIvGpNrJPe"
      },
      "source": [
        "We'll start by loading the word vectors from their textual file format to a dictionary mapping words to numpy arrays."
      ]
    },
    {
      "cell_type": "code",
      "metadata": {
        "id": "VbWORXkP2Vvn"
      },
      "source": [
        "def vecref(s):\n",
        "  (word, srec) = s.split(' ', 1)\n",
        "  return (word, np.fromstring(srec, sep=' '))\n",
        "\n",
        "def ftvectors(fname):\n",
        "  return { k:v for (k, v) in [vecref(s) for s in open(fname)] if len(v) > 1} \n",
        "\n",
        "envec = ftvectors('30k.en.vec')\n",
        "frvec = ftvectors('30k.fr.vec')\n",
        "arvec = ftvectors('30k.ar.vec')\n",
        "esvec = ftvectors('30k.es.vec')\n",
        "zhvec = ftvectors('30k.zh.vec')\n",
        "\n",
        "# TODO: load vectors for one more language, such as zhvec (Chinese)\n",
        "# arvec = ftvectors('30k.ar.vec')\n",
        "# devec = ftvectors('30k.de.vec')\n",
        "# ptvec = ftvectors('30k.pt.vec')\n",
        "# ruvec = ftvectors('30k.ru.vec')\n",
        "# esvec = ftvectors('30k.es.vec')\n",
        "# vivec = ftvectors('30k.vi.vec')\n",
        "# zhvec = ftvectors('30k.zh.vec')"
      ],
      "execution_count": null,
      "outputs": []
    },
    {
      "cell_type": "markdown",
      "metadata": {
        "id": "j88E1JdueZHc"
      },
      "source": [
        "we write a simple function that takes a vector and a dictionary of vectors and finds the most similar item in the dictionary. For this assignment, a linear scan through the dictionary using your `cosim` function from above is acceptible."
      ]
    },
    {
      "cell_type": "code",
      "metadata": {
        "id": "gmdirYOjoSWV",
        "colab": {
          "base_uri": "https://localhost:8080/"
        },
        "outputId": "188626f4-b907-4342-ac05-3a19a4c6cc72"
      },
      "source": [
        "## implement this search function\n",
        "def mostSimilar(vec, vecDict):\n",
        "  ## Use your cosim function from above\n",
        "  mostSimilar = ''\n",
        "  similarity = 0\n",
        "\n",
        "  for key in vecDict:\n",
        "    sim=cosim(vecDict[key], vec)\n",
        "    if sim>similarity:\n",
        "      similarity=sim\n",
        "      mostSimilar=key\n",
        "  return (mostSimilar, similarity)\n",
        "\n",
        "## some example searches\n",
        "print('French examples: ',[mostSimilar(envec[e], frvec) for e in ['computer', 'germany', 'matrix', 'physics', 'yeast']])\n",
        "print('Arabic examples: ',[mostSimilar(envec[e], arvec) for e in ['aida', 'morning', 'fasting', 'religion', 'desert','dirty']])\n",
        "print('Spanish examples: ',[mostSimilar(envec[e], esvec) for e in ['computer', 'germany', 'matrix', 'physics', 'yeast']])\n",
        "print('Chinese examples: ',[mostSimilar(envec[e], zhvec) for e in ['computer', 'germany', 'matrix', 'physics', 'yeast']])"
      ],
      "execution_count": null,
      "outputs": [
        {
          "output_type": "stream",
          "text": [
            "French examples:  [('informatique', 0.5023827767603765), ('allemagne', 0.593718413875964), ('matrice', 0.5088361302065517), ('physique', 0.4555543434796394), ('fermentation', 0.3504105196166514)]\n",
            "Arabic examples:  [('عايدة', 0.2550398635325634), ('المساء', 0.4322121168738552), ('الصيام', 0.44063301000385063), ('الأديان', 0.3904924140695643), ('صحراء', 0.4056515135305318), ('مخدرات', 0.22357997287760595)]\n",
            "Spanish examples:  [('computador', 0.5013697495254124), ('alemania', 0.6352798713596078), ('matriz', 0.4784864671614966), ('física', 0.4784845095690361), ('levadura', 0.5114917452709493)]\n",
            "Chinese examples:  [('電腦', 0.6331072804288355), ('德國', 0.6117215949997674), ('矩陣', 0.4826503662879593), ('物理', 0.5394598078914868), ('酵母', 0.5094100865393029)]\n"
          ],
          "name": "stdout"
        }
      ]
    },
    {
      "cell_type": "markdown",
      "metadata": {
        "id": "NIKUD5qxpUMB"
      },
      "source": [
        "Some matches make more sense than others. Note that `computer` most closely matches `informatique`, the French term for *computer science*. If you looked further down the list, you would see `ordinateur`, the term for *computer*. This is one weakness of a focus only on embeddings for word *types* independent of context.\n",
        "\n",
        "To evalute cross-language embeddings more broadly, we'll look at a dataset of links between Wikipedia articles."
      ]
    },
    {
      "cell_type": "code",
      "metadata": {
        "id": "az10sIFwsEUP",
        "colab": {
          "base_uri": "https://localhost:8080/"
        },
        "outputId": "7cb83e60-48f7-439a-f2ef-e7c943f99f90"
      },
      "source": [
        "!wget http://www.ccs.neu.edu/home/dasmith/courses/cs6120/links.tab\n",
        "links = [s.split() for s in open('links.tab')]"
      ],
      "execution_count": null,
      "outputs": [
        {
          "output_type": "stream",
          "text": [
            "--2021-04-14 17:14:54--  http://www.ccs.neu.edu/home/dasmith/courses/cs6120/links.tab\n",
            "Resolving www.ccs.neu.edu (www.ccs.neu.edu)... 52.70.229.197\n",
            "Connecting to www.ccs.neu.edu (www.ccs.neu.edu)|52.70.229.197|:80... connected.\n",
            "HTTP request sent, awaiting response... 200 OK\n",
            "Length: 1408915 (1.3M)\n",
            "Saving to: ‘links.tab’\n",
            "\n",
            "links.tab           100%[===================>]   1.34M  --.-KB/s    in 0.08s   \n",
            "\n",
            "2021-04-14 17:14:55 (17.3 MB/s) - ‘links.tab’ saved [1408915/1408915]\n",
            "\n"
          ],
          "name": "stdout"
        }
      ]
    },
    {
      "cell_type": "markdown",
      "metadata": {
        "id": "sqHq0hFCv8NY"
      },
      "source": [
        "This `links` variable consists of triples of `(English term, language, term in that language)`. For example, here is the link between English `academy` and French `académie`:"
      ]
    },
    {
      "cell_type": "code",
      "metadata": {
        "id": "RQ7eusdxtdsq",
        "colab": {
          "base_uri": "https://localhost:8080/"
        },
        "outputId": "b49fa656-65d3-4844-84ae-39dd728c40b9"
      },
      "source": [
        "words_langfr=[]\n",
        "words_langes=[]\n",
        "words_langzh=[]\n",
        "words_langar=[]\n",
        "\n",
        "for i in links:\n",
        "  if i[1]=='fr':\n",
        "    words_langfr.append(i)\n",
        "  elif i[1]=='zh':\n",
        "    words_langzh.append(i)\n",
        "  elif i[1]=='es':\n",
        "    words_langes.append(i)\n",
        "  elif i[1]=='ar':\n",
        "    words_langar.append(i)\n",
        "print(len(words_langfr),len(words_langes),len(words_langar),len(words_langzh))"
      ],
      "execution_count": null,
      "outputs": [
        {
          "output_type": "stream",
          "text": [
            "9869 8016 4102 6943\n"
          ],
          "name": "stdout"
        }
      ]
    },
    {
      "cell_type": "markdown",
      "metadata": {
        "id": "bYEdOQbmwql3"
      },
      "source": [
        "**TODO**: Evaluate the English and French embeddings by computing the proportion of English Wikipedia articles whose corresponding French article is also the closest word in embedding space. Skip English articles not covered by the word embedding dictionary. Since many articles, e.g., about named entities have the same title in English and French, compute the baseline accuracy achieved by simply echoing the English title as if it were French. Remember to iterate only over English Wikipedia articles, not the entire embedding dictionary."
      ]
    },
    {
      "cell_type": "code",
      "metadata": {
        "colab": {
          "base_uri": "https://localhost:8080/"
        },
        "id": "q2aeNiqHCnkK",
        "outputId": "1c322eb9-2c37-4565-863b-add5d0d55ed1"
      },
      "source": [
        "## TODO: Compute English-French Wikipedia retrieval accuracy.\n",
        "Baseline= sum(words_langfr[i][0] == words_langfr[i][2] for i in range(len(words_langfr)))/len(words_langfr)\n",
        "print('Baseline Accuracy in English-French is: ',Baseline)"
      ],
      "execution_count": null,
      "outputs": [
        {
          "output_type": "stream",
          "text": [
            "0.6742324450298915\n"
          ],
          "name": "stdout"
        }
      ]
    },
    {
      "cell_type": "code",
      "metadata": {
        "colab": {
          "base_uri": "https://localhost:8080/"
        },
        "id": "uJ-jMHIWKllW",
        "outputId": "0a67f641-3bac-4d29-d686-36d86c641c10"
      },
      "source": [
        "## TODO: Compute English-French Wikipedia retrieval accuracy.\n",
        "#in this accuracy calculations the total number of words is equal to the words which are in the dictionary\n",
        "sum_sim=0\n",
        "total=0\n",
        "\n",
        "for i in range(len(words_langfr)):\n",
        "  if words_langfr[i][0] in envec:\n",
        "    total+=1\n",
        "    if mostSimilar(envec[words_langfr[i][0]], frvec)[0] == words_langfr[i][2]: \n",
        "      sum_sim+=1"
      ],
      "execution_count": null,
      "outputs": [
        {
          "output_type": "stream",
          "text": [
            "5289\n",
            "9869\n",
            "0.5359205593271862\n"
          ],
          "name": "stdout"
        }
      ]
    },
    {
      "cell_type": "code",
      "metadata": {
        "colab": {
          "base_uri": "https://localhost:8080/"
        },
        "id": "3fXQYD9FcN7T",
        "outputId": "0476a8e1-680c-4987-b683-0e067ebaecbc"
      },
      "source": [
        "print('Baseline Accuracy in English-French is: ',Baseline)\n",
        "print('Accuracy in English-French is: ',sum_sim/total)"
      ],
      "execution_count": null,
      "outputs": [
        {
          "output_type": "stream",
          "text": [
            "Baseline Accuracy in English-French is:  0.6742324450298915\n",
            "Accuracy in English-French is:  0.5359205593271862\n"
          ],
          "name": "stdout"
        }
      ]
    },
    {
      "cell_type": "markdown",
      "metadata": {
        "id": "7hqd1buq-OEo"
      },
      "source": [
        "**TODO**: Compute accuracy and baseline (identity function) acccuracy for Englsih and another language besides French. Although the baseline will be lower for languages not written in the Roman alphabet (i.e., Arabic or Chinese), there are still many articles in those languages with headwords written in Roman characters."
      ]
    },
    {
      "cell_type": "code",
      "metadata": {
        "colab": {
          "base_uri": "https://localhost:8080/"
        },
        "id": "te6niYk6ayLJ",
        "outputId": "37b747e0-f7fd-4260-8c23-eef5432c7095"
      },
      "source": [
        "## TODO: Compute English-Spanish/Arabic/Chinese Wikipedia retrieval accuracy.\n",
        "BaselineEs= sum(words_langes[i][0] == words_langes[i][2] for i in range(len(words_langes)))/len(words_langes)\n",
        "BaselineAr= sum(words_langar[i][0] == words_langar[i][2] for i in range(len(words_langar)))/len(words_langar)\n",
        "BaselineZh= sum(words_langzh[i][0] == words_langzh[i][2] for i in range(len(words_langzh)))/len(words_langzh)\n",
        "\n",
        "print('Baseline Accuracy in English-Arabic is: ',BaselineAr)\n",
        "print('Baseline Accuracy in English-Spanish is: ',BaselineEs)\n",
        "print('Baseline Accuracy in English-Chinees is: ',BaselineZh)"
      ],
      "execution_count": null,
      "outputs": [
        {
          "output_type": "stream",
          "text": [
            "Baseline Accuracy in English-Arabic is:  0.006582155046318869\n",
            "Baseline Accuracy in English-Spanish is:  0.5173403193612774\n",
            "Baseline Accuracy in English-Chinees is:  0.06740602045225406\n"
          ],
          "name": "stdout"
        }
      ]
    },
    {
      "cell_type": "code",
      "metadata": {
        "colab": {
          "base_uri": "https://localhost:8080/"
        },
        "id": "B9lM2WOobLRH",
        "outputId": "59080dc2-c73f-499e-e5d2-9248e9f88580"
      },
      "source": [
        "## TODO: Compute English-Spanish/Arabic/Chinese Wikipedia retrieval accuracy.\n",
        "#in this accuracy calculations the total number of words is equal to the words which are in the dictionary\n",
        "sum_simar=0\n",
        "sum_simes=0\n",
        "sum_simzh=0\n",
        "totalar=0\n",
        "totales=0\n",
        "totalzh=0\n",
        "\n",
        "for i in range(len(words_langar)):\n",
        "  if words_langar[i][0] in envec:\n",
        "    totalar+=1\n",
        "    if mostSimilar(envec[words_langar[i][0]], frvec)[0] == words_langar[i][2]: \n",
        "      sum_simar+=1\n",
        "for i in range(len(words_langes)):\n",
        "  if words_langes[i][0] in envec:\n",
        "    totales+=1\n",
        "    if mostSimilar(envec[words_langes[i][0]], frvec)[0] == words_langes[i][2]: \n",
        "      sum_simes+=1\n",
        "for i in range(len(words_langzh)):\n",
        "  if words_langzh[i][0] in envec:\n",
        "    totalzh+=1\n",
        "    if mostSimilar(envec[words_langzh[i][0]], frvec)[0] == words_langzh[i][2]: \n",
        "      sum_simzh+=1\n",
        "\n",
        "print('Accuracy in English-Arabic is: ',sum_simar/totalar)\n",
        "print('Accuracy in English-Spanish is: ',sum_simes/totales)\n",
        "print('Accuracy in English-Chineese is: ',sum_simzh/totalzh)"
      ],
      "execution_count": null,
      "outputs": [
        {
          "output_type": "stream",
          "text": [
            "Accuracy in English-Arabic is:  0.005119453924914676\n",
            "Accuracy in English-Spanish is:  0.2624750499001996\n",
            "Accuracy in English-Chineese is:  0.03528733976667147\n"
          ],
          "name": "stdout"
        }
      ]
    },
    {
      "cell_type": "markdown",
      "metadata": {
        "id": "E6z01sufFPJh"
      },
      "source": [
        "Further evaluation, if you are interested, could involve looking at the $k$ nearest neighbors of each English term to compute \"recall at 10\" or \"mean reciprocal rank at 10\"."
      ]
    }
  ]
}
