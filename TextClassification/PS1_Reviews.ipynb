{
  "nbformat": 4,
  "nbformat_minor": 0,
  "metadata": {
    "colab": {
      "name": "Copy of PS1-Reviews.ipynb",
      "provenance": [],
      "collapsed_sections": [],
      "include_colab_link": true
    },
    "kernelspec": {
      "name": "python3",
      "display_name": "Python 3"
    }
  },
  "cells": [
    {
      "cell_type": "markdown",
      "metadata": {
        "id": "view-in-github",
        "colab_type": "text"
      },
      "source": [
        "<a href=\"https://colab.research.google.com/github/NULabTMN/hw1-aidasharif1365/blob/master/PS1_Reviews.ipynb\" target=\"_parent\"><img src=\"https://colab.research.google.com/assets/colab-badge.svg\" alt=\"Open In Colab\"/></a>"
      ]
    },
    {
      "cell_type": "markdown",
      "metadata": {
        "id": "Jc2R3x6QSIFi"
      },
      "source": [
        "In this experiment, you will explore the accuracy of sentiment classificaiton using different feature representations of text documents.\n",
        "\n",
        "First, you will implement `createBasicFeatures`, which creates a sparse matrix representation of a collection of documents. For this exercise, you should have a feature for each word containing at least one alphabetic character. You may use the `numpy` and `sklearn` packages to help with implementing a sparse matrix.\n",
        "\n",
        "Then, you will implement `createFancyFeatures`, which can specify at any other features you choose to help improve performance on the classification task.\n",
        "\n",
        "The two code blocks at the end train and evaluate two models—logistic regression with L1 and L2 regularization—using your featurization functions. Besides held-out classification accuracy with 10-fold cross-validation, you will also see the features in each class given high weights by the model.\n",
        "\n",
        "A helpful resource for getting up to speed with vector representations of documents is the first two chapters of Delip Rao and Brian McMahan, _Natural Language Processing with PyTorch_, O'Reilly, 2019.  You should be able to <a href=\"https://learning.oreilly.com/library/view/natural-language-processing/9781491978221/\">read it online</a> via the Northeastern Library's subscription using a <tt>northeastern.edu</tt> email address."
      ]
    },
    {
      "cell_type": "code",
      "metadata": {
        "id": "AdVS67_HNRmW"
      },
      "source": [
        "import re\n",
        "import nltk\n",
        "import json\n",
        "import spacy\n",
        "import string\n",
        "import requests\n",
        "import collections\n",
        "import numpy as np\n",
        "from sklearn.linear_model import LogisticRegression\n",
        "from sklearn.model_selection import cross_validate,LeaveOneOut,KFold\n",
        "from sklearn.feature_extraction.text import CountVectorizer,TfidfVectorizer,TfidfTransformer\n",
        "from spacy.lang.en import English\n",
        "from nltk.tokenize import sent_tokenize, word_tokenize\n",
        "from nltk.stem import PorterStemmer,WordNetLemmatizer\n",
        "from nltk.corpus import stopwords\n",
        "from collections import Counter\n",
        "\n",
        "nltk.download('stopwords')\n",
        "nltk.download('wordnet')\n",
        "nltk.download('punkt')"
      ],
      "execution_count": null,
      "outputs": []
    },
    {
      "cell_type": "code",
      "metadata": {
        "id": "PzjMY8fYQbB6",
        "cellView": "both"
      },
      "source": [
        "# read in the movie review corpus\n",
        "def readReviews():\n",
        "  raw = requests.get(\"https://raw.githubusercontent.com/mutherr/CS6120-PS1-data/master/cornell_reviews.json\").text.strip()\n",
        "  corpus = [json.loads(line) for line in raw.split(\"\\n\")]\n",
        "\n",
        "  return corpus"
      ],
      "execution_count": null,
      "outputs": []
    },
    {
      "cell_type": "code",
      "metadata": {
        "id": "qqpFyxguXLMR"
      },
      "source": [
        "#stems the tokens using porterstemmer\n",
        "def stemSentence(sentence):\n",
        "  porter = PorterStemmer()\n",
        "  token_words=word_tokenize(sentence)\n",
        "  stem_sentence=[]\n",
        "  for word in token_words:\n",
        "      stem_sentence.append(porter.stem(word))\n",
        "      stem_sentence.append(\" \")\n",
        "  return \"\".join(stem_sentence)"
      ],
      "execution_count": null,
      "outputs": []
    },
    {
      "cell_type": "code",
      "metadata": {
        "id": "HqJG6EXSw-gH"
      },
      "source": [
        "#lemmatize tokens using WordNetLemmatizer\n",
        "def lemmaSentence(sentence):\n",
        "  wordnet_lemmatizer = WordNetLemmatizer()\n",
        "  token_words=word_tokenize(sentence)\n",
        "  lemma_sentence=[]\n",
        "  for word in token_words:\n",
        "      lemma_sentence.append(wordnet_lemmatizer.lemmatize(word))\n",
        "      lemma_sentence.append(\" \")\n",
        "  return \"\".join(lemma_sentence)"
      ],
      "execution_count": null,
      "outputs": []
    },
    {
      "cell_type": "code",
      "metadata": {
        "id": "rYayOe2hnt6P"
      },
      "source": [
        "#this function removes stopwords(the dict is passed to it as an input) and punctuations\n",
        "def remove_stopwords(sentence,stopwords_dict):\n",
        "  punctuations = '''!()-[]{};:'\"\\,<>./?@#$%^&*_~'''\n",
        "  no_punct = \"\"\n",
        "  token_words=word_tokenize(sentence)\n",
        "  no_stop=' '.join([word for word in token_words if word not in stopwords_dict])\n",
        "\n",
        "  for char in no_stop:\n",
        "    if char not in punctuations:\n",
        "        no_punct = no_punct + char\n",
        "  return no_punct"
      ],
      "execution_count": null,
      "outputs": []
    },
    {
      "cell_type": "markdown",
      "metadata": {
        "id": "Qvd3I95FT01D"
      },
      "source": [
        "This is where you will implement two functions to featurize the data."
      ]
    },
    {
      "cell_type": "markdown",
      "metadata": {
        "id": "15hcWFxW0t35"
      },
      "source": [
        ""
      ]
    },
    {
      "cell_type": "code",
      "metadata": {
        "id": "039fPQcF7OkN"
      },
      "source": [
        "# NB: The current contents are for testing only\n",
        "# This function should return: \n",
        "#  -a sparse numpy matrix of document features\n",
        "#  -a list of the correct class for each document\n",
        "#  -a list of the vocabulary used by the features, such that the ith term of the\n",
        "#    list is the word whose counts appear in the ith column of the matrix. \n",
        "\n",
        "# This function should create a feature representation using all tokens that\n",
        "# contain an alphabetic character.\n",
        "def createBasicFeatures(corpus):\n",
        "\n",
        "  texts=[]\n",
        "  vocab=[]\n",
        "  classes=[]\n",
        "\n",
        "  for i in range(len(corpus)):\n",
        "    texts.append(corpus[i][\"text\"])\n",
        "    classes.append(corpus[i][\"class\"])\n",
        "\n",
        "  #using countvectorizer to count words in documents\n",
        "  one_hot_vectorizer = CountVectorizer()\n",
        "  one_hot_matrix = one_hot_vectorizer.fit_transform(texts)\n",
        "  vocab_dict = (one_hot_vectorizer.vocabulary_)\n",
        "\n",
        "  for k in vocab_dict:\n",
        "    vocab.append(k)\n",
        "\n",
        "  return one_hot_matrix,classes,vocab"
      ],
      "execution_count": null,
      "outputs": []
    },
    {
      "cell_type": "code",
      "metadata": {
        "colab": {
          "base_uri": "https://localhost:8080/"
        },
        "id": "6SB5bK22m2Em",
        "outputId": "38c61ec8-4795-4dc1-c49b-5d0ad568fd04"
      },
      "source": [
        "corpus = readReviews()\n",
        "X,y,vocab = createBasicFeatures(corpus)\n",
        "runEvaluation(X, y, vocab)"
      ],
      "execution_count": null,
      "outputs": [
        {
          "output_type": "stream",
          "text": [
            "----------L1 Norm-----------\n",
            "The model's average accuracy is 0.828500\n",
            "The most informative terms for pos are: ['copious', 'inauspiciously', 'ascension', 'arija', 'oise', 'tilly', 'pansy', 'homeland', 'exhibit', 'kaleidoscopic', 'feminist', 'escher', 'unsigned', 'bogie', 'yagher', 'tannek', 'eligible', 'swedish', 'sympathy', 'charades']\n",
            "The most informative terms for neg are: ['ankles', 'boasting', 'torpor', 'moff', 'criticisms', 'amazin', 'khe', 'saying', 'gheorghe', 'reprocessed', 'races', 'yzma', 'mineo', 'garde', 'midknight', 'techie', 'cilvilization', 'beers', 'facts', 'spectaculars']\n",
            "----------L2 Norm-----------\n",
            "The model's average accuracy is 0.833000\n",
            "The most informative terms for pos are: ['unsigned', 'stacey', 'aged', 'tannek', 'bargaining', 'porting', 'tilly', 'pansy', 'inauspiciously', 'escher', 'necks', 'isolationist', 'moody', 'ascension', '_____', 'shy', 'unabated', 'cant', 'mcconaughey', 'oise']\n",
            "The most informative terms for neg are: ['techie', 'khe', 'moff', 'ankles', 'organisations', '_kingpin_', 'saying', 'races', 'bigtime', 'initials', 'cilvilization', 'fortenberry', 'spectaculars', 'boasting', 'coppolas', 'torpor', 'lolipop', 'wire', 'fireflies', 'island']\n"
          ],
          "name": "stdout"
        }
      ]
    },
    {
      "cell_type": "code",
      "metadata": {
        "id": "Qj0YQcAw7zrH"
      },
      "source": [
        "stopwords_dict = Counter(stop_words)\n",
        "pos_dict=collections.defaultdict(lambda:0)\n",
        "neg_dict=collections.defaultdict(lambda:0)\n",
        "punctuations = '''!()-[]{};:'\"\\,<>./?@#$%^&*_~'''\n",
        "for i in range(len(corpus)):\n",
        "  sentence=(corpus[i][\"text\"])\n",
        "  token_words=word_tokenize(sentence)\n",
        "  if corpus[i][\"class\"]=='pos':\n",
        "    for word in token_words:\n",
        "      if word not in punctuations:\n",
        "        pos_dict[word]=pos_dict[word]+1\n",
        "  elif corpus[i][\"class\"]=='neg': \n",
        "    for word in token_words:\n",
        "      if word not in punctuations:\n",
        "        neg_dict[word]=neg_dict[word]+1\n",
        "        \n",
        "      \n",
        "pos_dict={k:v for k,v in sorted(pos_dict.items(), key=lambda item:item[1],reverse=True)}\n",
        "neg_dict={k:v for k,v in sorted(neg_dict.items(), key=lambda item:item[1],reverse=True)}\n"
      ],
      "execution_count": null,
      "outputs": []
    },
    {
      "cell_type": "code",
      "metadata": {
        "colab": {
          "base_uri": "https://localhost:8080/",
          "height": 655
        },
        "id": "BeL_cgSUEXep",
        "outputId": "13fe0b59-594a-46ca-e4cf-aa391a52caae"
      },
      "source": [
        "import matplotlib.pyplot as plt\n",
        "fig1 = plt.figure()\n",
        "fig2 = plt.figure()\n",
        "ax1 = fig1.add_axes([0,0,1,1])\n",
        "ax2 = fig2.add_axes([0,0,1,1])\n",
        "freqPos = []\n",
        "wordsPos = []\n",
        "freqNeg = []\n",
        "wordsNeg = []\n",
        "\n",
        "limit=23\n",
        "for k in neg_dict:\n",
        "  if limit>0:\n",
        "    wordsNeg.append(k)\n",
        "    freqNeg.append(neg_dict[k])\n",
        "  limit-=1\n",
        "\n",
        "limit=23\n",
        "for k in pos_dict:\n",
        "  if limit>0:\n",
        "    wordsPos.append(k)\n",
        "    freqPos.append(pos_dict[k])\n",
        "  limit-=1\n",
        "\n",
        "ax2.bar(wordsNeg,freqNeg)\n",
        "ax1.bar(wordsPos,freqPos)\n",
        "plt.show()"
      ],
      "execution_count": null,
      "outputs": [
        {
          "output_type": "display_data",
          "data": {
            "image/png": "[encoded data removed]",
            "text/plain": [
              "<Figure size 432x288 with 1 Axes>"
            ]
          },
          "metadata": {
            "tags": [],
            "needs_background": "light"
          }
        },
        {
          "output_type": "display_data",
          "data": {
            "image/png": "[encoded data removed]",
            "text/plain": [
              "<Figure size 432x288 with 1 Axes>"
            ]
          },
          "metadata": {
            "tags": [],
            "needs_background": "light"
          }
        }
      ]
    },
    {
      "cell_type": "code",
      "metadata": {
        "id": "kb72e-2bEkyn"
      },
      "source": [
        "words=['the', 'and','i','of','but','is','a','this','to','with','film']\n",
        "stopwords_dict=dict.fromkeys(words,1)"
      ],
      "execution_count": null,
      "outputs": []
    },
    {
      "cell_type": "code",
      "metadata": {
        "id": "Kz6q0v5-mSwD"
      },
      "source": [
        "# This function can add other features you want that help classification\n",
        "# accuracy, such as bigrams, word prefixes and suffixes, etc.\n",
        "#basic cleaning, lemmatization, stem\n",
        "#it stems, lemmatizes, removes stopwords, sets thresholds of min and max number\n",
        "#of words in Countervectorizer, uses ngrams\n",
        "#each feature changer could be turned on or off\n",
        "def createFancyFeatures(corpus,stopword,stem,lemma,ngram,termFreq,tfidf,mindf,maxdf):\n",
        "  raw=[]\n",
        "  vocab=[]\n",
        "  classes=[]\n",
        "\n",
        "  #in a loop we choose which changes to apply to the features\n",
        "  for i in range(len(corpus)):\n",
        "    sentence=(corpus[i][\"text\"])\n",
        "    if stopword:\n",
        "      sentence=remove_stopwords(sentence,stopwords_dict)\n",
        "    if stem:\n",
        "      sentence=stemSentence(sentence)\n",
        "    if lemma: \n",
        "      sentence=lemmaSentence(sentence)\n",
        "    raw.append(sentence)\n",
        "    classes.append(corpus[i][\"class\"])\n",
        "\n",
        "  #using countvectorizer to count tokens and set thresholds for min and max\n",
        "  vectorizer = CountVectorizer(ngram_range=ngram,min_df=mindf,max_df=maxdf) \n",
        "  #fitting the vectorizer\n",
        "  texts = vectorizer.fit_transform(raw)\n",
        "  vocab_dict = (vectorizer.vocabulary_)\n",
        "\n",
        "\n",
        "  if termFreq:\n",
        "    tf_transformer = TfidfTransformer(use_idf=False).fit(texts) \n",
        "    texts = tf_transformer.transform(texts)\n",
        "\n",
        "  for k in vocab_dict:\n",
        "    vocab.append(k)\n",
        "\n",
        "  # Applying TFIDF \n",
        "  if tfidf:\n",
        "    vectorizer = TfidfVectorizer(ngram_range=ngram,min_df=mindf,max_df=maxdf) \n",
        "    texts = vectorizer.fit_transform(raw)\n",
        "    vocab_dict = (vectorizer.vocabulary_) \n",
        "    for k in vocab_dict:\n",
        "      vocab.append(k)\n",
        "\n",
        "  return texts,classes,vocab"
      ],
      "execution_count": null,
      "outputs": []
    },
    {
      "cell_type": "code",
      "metadata": {
        "colab": {
          "base_uri": "https://localhost:8080/"
        },
        "id": "mGfQphUZ92Ya",
        "outputId": "9fbbe7eb-5ffe-4e66-aca1-ffd559e28007"
      },
      "source": [
        "X,y,vocab = createFancyFeatures(corpus=corpus,stopword=False,stem=True,lemma=True,ngram=(1,2),termFreq=False,tfidf=False,mindf=1,maxdf=900000)\n",
        "runEvaluation(X, y, vocab)"
      ],
      "execution_count": null,
      "outputs": [
        {
          "output_type": "stream",
          "text": [
            "----------L1 Norm-----------\n",
            "The model's average accuracy is 0.825000\n",
            "The most informative terms for pos are: ['person ca', 'straight he', 'oddest structur', 'current boyfriend', 'cleverli told', 'sandler overprotect', 'solomon if', 'amaz play', 'hi ridicul', 'linda blair', 'about which', 'typ peopl', 'yourself mental', 'underdevelop from', 'goofbal comedi', 'factori at', 'hollywood financi', 'medic doctrin', 'although excel', 'gotten marri']\n",
            "The most informative terms for neg are: ['or futil', 'model two', 'them involv', 'stiff that', 'loanshark', 'lebowski featur', 'use in', 'each main', 'for 400', 'suspici scientist', 'is focus', 'conveni abl', 'theron who', 'pack nice', 'assent short', 'tinier than', 'quickli got', 'finish and', 'to sport', 'curtain']\n",
            "----------L2 Norm-----------\n",
            "The model's average accuracy is 0.854500\n",
            "The most informative terms for pos are: ['underdevelop from', 'amaz play', 'hi ridicul', 'repaint their', 'hollywood financi', 'him read', 'word rating', 'these limit', 'three recent', 'rain or', 'glob in', 'sandler overprotect', 'overload wa', 'rather seem', 'daughter for', 'prospect when', 'clean impress', 'like live', 'person cut', 'school skit']\n",
            "The most informative terms for neg are: ['use in', 'or futil', 'them involv', 'fidel is', '85 percent', 'model two', 'theron who', 'travolta back', 'conveni abl', 'ac dc', 'is focus', 'stockpil quirk', 'lebowski featur', 'lot el', 'mother loss', 'mib agent', 'offer for', 'stiff that', 'hit woman', 'shrek the']\n"
          ],
          "name": "stdout"
        }
      ]
    },
    {
      "cell_type": "code",
      "metadata": {
        "colab": {
          "base_uri": "https://localhost:8080/"
        },
        "id": "zANSbgKy48F1",
        "outputId": "31f44213-a77e-4203-f182-a19010a6e6a6"
      },
      "source": [
        "X,y,vocab = createFancyFeatures(corpus=corpus,stopword=False,stem=False,lemma=True,ngram=(1,2),termFreq=False,tfidf=False,mindf=1,maxdf=900000)\n",
        "runEvaluation(X, y, vocab)"
      ],
      "execution_count": null,
      "outputs": [
        {
          "output_type": "stream",
          "text": [
            "----------L1 Norm-----------\n",
            "The model's average accuracy is 0.824500\n",
            "The most informative terms for pos are: ['gyrating with', 'enough hot', 'meet sugar', 'discovers snuff', 'hope another', 'island 12', 'upside it', 'georgia keaton', 'meet hong', 'sexy film', 'sized bomb', 'had watchabe', 'quiet drama', 'them just', 'car turn', 'something electrical', 'until mike', 'fang encourages', 'of trashing', 'russia to']\n",
            "The most informative terms for neg are: ['past performance', 'to prep', 'time michael', 'that place', 'alert all', 'serbedzija ha', 'unflattering', 'in east', 'lawman reelection', 'definitely failed', 'the talking', 'beatrice but', 'since retained', 'to normal', 'bowden get', 'the trio', 'dump the', 'preceded the', 'boy owen', 'and quote']\n",
            "----------L2 Norm-----------\n",
            "The model's average accuracy is 0.853000\n",
            "The most informative terms for pos are: ['marc hayashi', 'meet hong', 'hope another', 'sexy film', 'nun mark', 'kitty', 'backwards machismo', 'nick rudy', 'the levite', '180 minute', 'vulgar joke', 'tiff and', 'minor setback', 'teaching child', 'half dog', 'allow', 'france to', 'opening crawl', 'fated encounter', 'them just']\n",
            "The most informative terms for neg are: ['the talking', 'to prep', 'past performance', 'journalist leto', 'lovitz burning', 'complicating thing', 'can have', 'dump the', 'serbedzija ha', 'business rival', 'the trio', 'bowden get', 'party pajama', 'uncle who', 'flag while', 'in east', 'waterman of', 'unfounded', 'levitt 3rd', 'alert all']\n"
          ],
          "name": "stdout"
        }
      ]
    },
    {
      "cell_type": "code",
      "metadata": {
        "colab": {
          "base_uri": "https://localhost:8080/"
        },
        "id": "4vz2rCDe1FhK",
        "outputId": "2630fc5c-eb0e-4ff0-9a0f-78fa6f353f5a"
      },
      "source": [
        "words=['the','is','a']\n",
        "stopwords_dict=dict.fromkeys(words,1)\n",
        "X,y,vocab = createFancyFeatures(corpus=corpus,stopword=True,stem=False,lemma=True,ngram=(1,2),termFreq=False,tfidf=False,mindf=5,maxdf=900000)\n",
        "runEvaluation(X, y, vocab)"
      ],
      "execution_count": null,
      "outputs": [
        {
          "output_type": "stream",
          "text": [
            "----------L1 Norm-----------\n",
            "The model's average accuracy is 0.819500\n",
            "The most informative terms for pos are: ['through another', 'go under', 'bump into', 'mafioso', 'and stephen', 'room that', 'add more', 'saved', 'spoiled', 'burn', 'shipped', 'end at', 'sour', 'whisper', 'they killed', 'berry', 'if her', 'jimmy stewart', 'liev schreiber', 'aerosmith']\n",
            "The most informative terms for neg are: ['being with', 'in miami', 'come it', 'and energetic', 'have two', 'disliked', 'do have', 'some attempt', 'of there', 'memorable moment', 'over top', 'prison', 'introduced but', 'funny movie', 'unrelated', 'tiny', 're left', 'and father', 'his escape', 'bored by']\n",
            "----------L2 Norm-----------\n",
            "The model's average accuracy is 0.843500\n",
            "The most informative terms for pos are: ['sour', 'dedicates', 'aerosmith', 'choreography', 'jimmy stewart', 'they killed', 'seeing film', 'if her', 'and using', 'go under', 'at least', 'berry', 'of word', 'it okay', 'through another', 'expected', 'but which', 'of cinema', 'to elaborate', 'and part']\n",
            "The most informative terms for neg are: ['prison', 'being with', 'come it', 'horror of', 'happier', 'in miami', 'bored by', 're left', 'tiny', 'fresh air', 'his quest', 'battle are', 'day to', 'introduced but', 'big and', 'have two', 'chockfull', 'role so', 'than many', 'moved by']\n"
          ],
          "name": "stdout"
        }
      ]
    },
    {
      "cell_type": "code",
      "metadata": {
        "colab": {
          "base_uri": "https://localhost:8080/"
        },
        "id": "S9BbbIWOWdjD",
        "outputId": "75c7293b-ac79-47cc-bdf4-27761f40092a"
      },
      "source": [
        "X,y,vocab = createFancyFeatures(corpus=corpus,stopword=False,stem=False,lemma=True,ngram=(1,2),termFreq=False,tfidf=False,mindf=3,maxdf=10000)\n",
        "runEvaluation(X, y, vocab)"
      ],
      "execution_count": null,
      "outputs": [
        {
          "output_type": "stream",
          "text": [
            "----------L1 Norm-----------\n",
            "The model's average accuracy is 0.825000\n",
            "The most informative terms for pos are: ['ability in', 'in shakespeare', 'this contrast', 'made an', 'importantly it', 'he grows', 'just window', 'and nice', 'brief but', 'of 100', 'surrender', 'cheesy and', 'rocky start', 'alice is', 'vivid', 'unconvincing in', 'republic', 'memorable and', 'do buy', 'thing found']\n",
            "The most informative terms for neg are: ['first sequence', 'carlin', 'glenda', 'unspeakable', 'sharp and', 'and minute', 'thought would', 'kill him', 'in our', 'however all', 'example of', 'war is', 'something much', 'of 1999', 'and consequently', 'an ending', 'swear', 'material from', 'fine line', 'in session']\n",
            "----------L2 Norm-----------\n",
            "The model's average accuracy is 0.850500\n",
            "The most informative terms for pos are: ['of 100', 'carl sagan', 'importantly it', 'have heart', 'surrender', 'trouble his', 'thing found', 'and brief', 'it power', 'as and', 'move the', 'rasp', 'master plan', 'done very', 'unconvincing in', 'some alien', 'the exaggerated', 'grisham novel', 'similarity', 'film instead']\n",
            "The most informative terms for neg are: ['example of', 'carlin', 'first sequence', 'jawbreaker is', 'sexuality and', 'into series', 'and consequently', 'sharp and', 'an ending', 'sonya', 'standard to', 'swear', 'kill him', 'the coming', 'and minute', 'triumph and', 'glenda', 'however all', 'self deprecation', 'dome']\n"
          ],
          "name": "stdout"
        }
      ]
    },
    {
      "cell_type": "code",
      "metadata": {
        "colab": {
          "base_uri": "https://localhost:8080/"
        },
        "id": "1jq9T2xCuCF1",
        "outputId": "c61a87b0-31ca-46f7-a557-bb2018813dce"
      },
      "source": [
        "X,y,vocab = createFancyFeatures(corpus=corpus,stopword=False,stem=False,lemma=True,ngram=(1,2),termFreq=False,tfidf=False,mindf=3,maxdf=30000)\n",
        "runEvaluation(X, y, vocab)"
      ],
      "execution_count": null,
      "outputs": [
        {
          "output_type": "stream",
          "text": [
            "----------L1 Norm-----------\n",
            "The model's average accuracy is 0.825000\n",
            "The most informative terms for pos are: ['ability in', 'in shakespeare', 'this contrast', 'made an', 'importantly it', 'he grows', 'just window', 'and nice', 'brief but', 'of 100', 'surrender', 'cheesy and', 'rocky start', 'alice is', 'vivid', 'unconvincing in', 'republic', 'memorable and', 'do buy', 'thing found']\n",
            "The most informative terms for neg are: ['first sequence', 'carlin', 'glenda', 'unspeakable', 'sharp and', 'and minute', 'thought would', 'kill him', 'in our', 'however all', 'example of', 'war is', 'something much', 'of 1999', 'and consequently', 'an ending', 'swear', 'material from', 'fine line', 'in session']\n",
            "----------L2 Norm-----------\n",
            "The model's average accuracy is 0.850500\n",
            "The most informative terms for pos are: ['of 100', 'carl sagan', 'importantly it', 'have heart', 'surrender', 'trouble his', 'thing found', 'and brief', 'it power', 'as and', 'move the', 'rasp', 'master plan', 'done very', 'unconvincing in', 'some alien', 'the exaggerated', 'grisham novel', 'similarity', 'film instead']\n",
            "The most informative terms for neg are: ['example of', 'carlin', 'first sequence', 'jawbreaker is', 'sexuality and', 'into series', 'and consequently', 'sharp and', 'an ending', 'sonya', 'standard to', 'swear', 'kill him', 'the coming', 'and minute', 'triumph and', 'glenda', 'however all', 'self deprecation', 'dome']\n"
          ],
          "name": "stdout"
        }
      ]
    },
    {
      "cell_type": "code",
      "metadata": {
        "colab": {
          "base_uri": "https://localhost:8080/"
        },
        "id": "RvZWouxW64qH",
        "outputId": "e736a936-9a94-4c95-f3ec-f736d1dbb9c4"
      },
      "source": [
        "X,y,vocab = createFancyFeatures(corpus=corpus,stopword=False,stem=False,lemma=True,ngram=(1,2),termFreq=False,tfidf=False,mindf=3,maxdf=7000)\n",
        "runEvaluation(X, y, vocab)"
      ],
      "execution_count": null,
      "outputs": [
        {
          "output_type": "stream",
          "text": [
            "----------L1 Norm-----------\n",
            "The model's average accuracy is 0.825500\n",
            "The most informative terms for pos are: ['ability in', 'in shakespeare', 'this contrast', 'made an', 'importantly it', 'he grows', 'just window', 'and nice', 'brief but', 'of 100', 'surrender', 'cheesy and', 'rocky start', 'alice is', 'vivid', 'unconvincing in', 'republic', 'memorable and', 'do buy', 'thing found']\n",
            "The most informative terms for neg are: ['first sequence', 'carlin', 'glenda', 'unspeakable', 'sharp and', 'and minute', 'thought would', 'kill him', 'in our', 'however all', 'example of', 'war is', 'something much', 'of 1999', 'and consequently', 'an ending', 'swear', 'material from', 'fine line', 'in session']\n",
            "----------L2 Norm-----------\n",
            "The model's average accuracy is 0.850500\n",
            "The most informative terms for pos are: ['of 100', 'carl sagan', 'importantly it', 'have heart', 'surrender', 'trouble his', 'thing found', 'and brief', 'it power', 'as and', 'move the', 'rasp', 'master plan', 'done very', 'unconvincing in', 'some alien', 'the exaggerated', 'grisham novel', 'similarity', 'film instead']\n",
            "The most informative terms for neg are: ['example of', 'carlin', 'first sequence', 'jawbreaker is', 'sexuality and', 'into series', 'and consequently', 'sharp and', 'an ending', 'sonya', 'standard to', 'swear', 'kill him', 'the coming', 'and minute', 'triumph and', 'glenda', 'however all', 'self deprecation', 'dome']\n"
          ],
          "name": "stdout"
        }
      ]
    },
    {
      "cell_type": "code",
      "metadata": {
        "colab": {
          "base_uri": "https://localhost:8080/"
        },
        "id": "ph2uH3txoTw-",
        "outputId": "f2c40a11-2d80-41ef-fb1e-7c01d59c7e83"
      },
      "source": [
        "X,y,vocab = createFancyFeatures(corpus=corpus,stopword=False,stem=False,lemma=True,ngram=(1,2),termFreq=False,tfidf=False,mindf=3,maxdf=5000)\n",
        "runEvaluation(X, y, vocab)"
      ],
      "execution_count": null,
      "outputs": [
        {
          "output_type": "stream",
          "text": [
            "----------L1 Norm-----------\n",
            "The model's average accuracy is 0.824500\n",
            "The most informative terms for pos are: ['ability in', 'in shakespeare', 'this contrast', 'made an', 'importantly it', 'he grows', 'just window', 'and nice', 'brief but', 'of 100', 'surrender', 'cheesy and', 'rocky start', 'alice is', 'vivid', 'unconvincing in', 'republic', 'memorable and', 'do buy', 'thing found']\n",
            "The most informative terms for neg are: ['first sequence', 'carlin', 'glenda', 'unspeakable', 'sharp and', 'and minute', 'thought would', 'kill him', 'in our', 'however all', 'example of', 'war is', 'something much', 'of 1999', 'and consequently', 'an ending', 'swear', 'material from', 'fine line', 'in session']\n",
            "----------L2 Norm-----------\n",
            "The model's average accuracy is 0.850500\n",
            "The most informative terms for pos are: ['of 100', 'carl sagan', 'importantly it', 'have heart', 'surrender', 'trouble his', 'thing found', 'and brief', 'it power', 'as and', 'move the', 'rasp', 'master plan', 'done very', 'unconvincing in', 'some alien', 'the exaggerated', 'grisham novel', 'similarity', 'film instead']\n",
            "The most informative terms for neg are: ['example of', 'carlin', 'first sequence', 'jawbreaker is', 'sexuality and', 'into series', 'and consequently', 'sharp and', 'an ending', 'sonya', 'standard to', 'swear', 'kill him', 'the coming', 'and minute', 'triumph and', 'glenda', 'however all', 'self deprecation', 'dome']\n"
          ],
          "name": "stdout"
        }
      ]
    },
    {
      "cell_type": "code",
      "metadata": {
        "colab": {
          "base_uri": "https://localhost:8080/"
        },
        "id": "TLUXrHPrnVju",
        "outputId": "75b4dc27-65a2-43c9-cc23-ef9eca433b87"
      },
      "source": [
        "X,y,vocab = createFancyFeatures(corpus=corpus,stopword=False,stem=True,lemma=True,ngram=(1,2),termFreq=False,tfidf=False,mindf=3,maxdf=5000)\n",
        "runEvaluation(X, y, vocab)"
      ],
      "execution_count": null,
      "outputs": [
        {
          "output_type": "stream",
          "text": [
            "----------L1 Norm-----------\n",
            "The model's average accuracy is 0.821000\n",
            "The most informative terms for pos are: ['place even', 'also star', 'afterward', 'detail how', 'brain and', 'show ha', 'worthi', 'spectacular and', 'everyth is', 'zak', 'she commit', 'we wo', 'thi great', 'fear is', 'nois and', 'the park', 'subtleti of', 'man for', 'kattan', 'good but']\n",
            "The most informative terms for neg are: ['arguabl more', 'awesom although', 'up first', '1960 and', 'kelli and', 'alien invas', 'atmospher but', 'fill up', 'transsexu', 'visual', 'like armageddon', 'parent that', 'some promis', 'run out', 'actual happen', 'lead are', 'there giant', 'the singer', 'who special', 'reason in']\n",
            "----------L2 Norm-----------\n",
            "The model's average accuracy is 0.854500\n",
            "The most informative terms for pos are: ['we wo', 'worthi', 'spectacular and', 'pour from', 'song for', 'core is', 'differ kind', 'subtleti of', 'two young', 'the hous', 'everyth is', 'life now', 'film made', 'ward and', 'is talent', 'aloof', 'is repres', 'detail how', 'and creat', 'show ha']\n",
            "The most informative terms for neg are: ['visual', 'awesom although', 'up first', 'arguabl more', 'hand on', 'run out', 'novel and', 'been fascin', 'some promis', 'duma', 'like armageddon', 'transsexu', 'arliss', '1960 and', 'of refer', 'cromwel and', 'most harrow', 'lead are', 'fill up', 'who special']\n"
          ],
          "name": "stdout"
        }
      ]
    },
    {
      "cell_type": "code",
      "metadata": {
        "colab": {
          "base_uri": "https://localhost:8080/"
        },
        "id": "Dp65vNIuCbsw",
        "outputId": "a6bcb08e-8452-4e81-bf04-8e43c96ac91b"
      },
      "source": [
        "X,y,vocab = createFancyFeatures(corpus=corpus,stopword=True,stem=True,lemma=True,ngram=(1,2),termFreq=False,tfidf=False,mindf=3,maxdf=5000)\n",
        "runEvaluation(X, y, vocab)"
      ],
      "execution_count": null,
      "outputs": [
        {
          "output_type": "stream",
          "text": [
            "----------L1 Norm-----------\n",
            "The model's average accuracy is 0.814500\n",
            "The most informative terms for pos are: ['cours one', 'scene first', 'addi', 'releas featur', 'need look', 'get sleep', 'almost like', 'butt', 'martha plimpton', 'fleet', 'mani subplot', 'investig murder', 'welcom sarajevo', 'peopl town', 'even worth', 'lombardo matt', 'got noth', 'usual onli', 'machin human', 'home shop']\n",
            "The most informative terms for neg are: ['amount humor', 'not world', 'scorses finest', 'nod', 'joseph conrad', 'sum total', 'film re', 'interest play', 'great love', 'could look', 'turn peopl', 'consumpt', 'imagin movi', 'odett', 'chill', 'time tell', 'big hous', 'pa', 'everi step', 'actual make']\n",
            "----------L2 Norm-----------\n",
            "The model's average accuracy is 0.852500\n",
            "The most informative terms for pos are: ['butt', 'usual onli', 'wander aimlessli', 'scene first', 'bubblegum', 'get sleep', 'hit mark', 'mani plot', 'red octob', 'wed', 'overarch', 'home shop', 'port', 'sheryl lee', 'life son', 'peopl town', 'investig murder', 'direct first', 'drill sergeant', 'harlem night']\n",
            "The most informative terms for neg are: ['emperor', 'amount humor', 'scorses finest', 'could look', 'never feel', 'chill', 'consumpt', 'play bit', 'joseph conrad', 'violenc howev', 'quit well', 'great love', 'outta', 'nod', 'odett', 'mayb littl', 'sum total', 'not world', 'film re', 'macdonald']\n"
          ],
          "name": "stdout"
        }
      ]
    },
    {
      "cell_type": "code",
      "metadata": {
        "colab": {
          "base_uri": "https://localhost:8080/"
        },
        "id": "spbN7VBICwPe",
        "outputId": "95d984cf-0167-434d-a52b-4aa50f8545b4"
      },
      "source": [
        "X,y,vocab = createFancyFeatures(corpus=corpus,stopword=True,stem=True,lemma=True,ngram=(1,3),termFreq=False,tfidf=False,mindf=3,maxdf=5000)\n",
        "runEvaluation(X, y, vocab)"
      ],
      "execution_count": null,
      "outputs": [
        {
          "output_type": "stream",
          "text": [
            "----------L1 Norm-----------\n",
            "The model's average accuracy is 0.814500\n",
            "The most informative terms for pos are: ['thing ye', 'lloyd', 'walt disney', 'perform career', 'music veri', 'nap', 'onset', 'life becom', 'angela', 'buscemi jon', 'oeuvr', 'understand much', 'gibson nt', 'lisa mari', 'nt qualifi', 'almost everi', 'hope catch', 'ashton', 'expect like someth', 'thing interest']\n",
            "The most informative terms for neg are: ['part ii', 'cement place', 'charact world', 'carri', 'action get', 'attent away', 'blare', 'bad movi nt', 'also mean', 'solid film', 'time second', 'dozen peopl', 'speak directli', 'spent watch', 'speed', 'intellig one', 'past five', 'big budget', 'statement not', 'bootleg']\n",
            "----------L2 Norm-----------\n",
            "The model's average accuracy is 0.852500\n",
            "The most informative terms for pos are: ['life becom', 'ashton', 'virtuoso', 'lloyd', 'instead concentr', 'nap', 'bill clinton', 'upbring', 'heather matarazzo', 'andor', 'bond girl', 'thing interest', 'like seen', 'convuls', 'act director', 'lisa mari', 'gibson nt', 'rare see', 'weak dialogu', 'kind woman']\n",
            "The most informative terms for neg are: ['goro', 'part ii', 'charact world', 'solid film', 'also pretti good', 'speak directli', 'speed', 'film problem', 'action get', 'minor chang', 'hope promis', 'also mean', 'malroux', 'carri', 'spent watch', 'caligula', 'attent away', 'cement place', 'bad movi nt', 'blare']\n"
          ],
          "name": "stdout"
        }
      ]
    },
    {
      "cell_type": "code",
      "metadata": {
        "colab": {
          "base_uri": "https://localhost:8080/"
        },
        "id": "fHJi5q_xIoUO",
        "outputId": "c5a7b670-8031-4f3b-fd53-fd1058219d3d"
      },
      "source": [
        "X,y,vocab = createFancyFeatures(corpus=corpus,stopword=False,stem=True,lemma=True,ngram=(1,3),termFreq=True,tfidf=False,mindf=3,maxdf=5000)\n",
        "runEvaluation(X, y, vocab)"
      ],
      "execution_count": null,
      "outputs": [
        {
          "output_type": "stream",
          "text": [
            "----------L1 Norm-----------\n",
            "The model's average accuracy is 0.739000\n",
            "The most informative terms for pos are: ['the film final', 'aureliu', 'to touch the', 'me to believ', 'pay money', 'the audienc while', 'and director', 'him home', 'hi all', 'seri which', 'to turn thi', 'is no sen', 'creat for the', 'it lack in', 'is unconvinc', 'wa inde', 'to make long', 'establish shot', 'manhattan', 'and more than']\n",
            "The most informative terms for neg are: ['in the style', 'often hard to', 'other have', 'the gratuit', 'up the charact', 'poke', 'uninform', 'mani time have', 'in enemi', 'accuraci', 'shakespear is', 'whoever', 'convent of the', 'hiss', 'in dream', 'of ten', 'ascend to', 'regard to the', 'an excus', 'for variou']\n",
            "----------L2 Norm-----------\n",
            "The model's average accuracy is 0.776000\n",
            "The most informative terms for pos are: ['the audienc while', 'seri which', 'aureliu', 'pay money', 'the film final', 'him home', 'is no sen', 'and director', 'me to believ', 'to touch the', 'to turn thi', 'is unconvinc', 'to make long', 'and more than', 'establish shot', 'it lack in', 'can hear the', 'creat for the', 'hi all', 'again in']\n",
            "The most informative terms for neg are: ['in the style', 'the gratuit', 'often hard to', 'other have', 'mani time have', 'ascend to', 'accuraci', 'uninform', 'first there is', 'convent of the', 'in enemi', 'shakespear is', 'hiss', 'an excus', 'thi miser', 'for variou', 'whoever', 'poke', 'regard to the', 'up the charact']\n"
          ],
          "name": "stdout"
        }
      ]
    },
    {
      "cell_type": "code",
      "metadata": {
        "colab": {
          "base_uri": "https://localhost:8080/"
        },
        "id": "2lgmuzcPIra7",
        "outputId": "440dd96f-9cd0-4ce0-ad45-15d503931d8f"
      },
      "source": [
        "X,y,vocab = createFancyFeatures(corpus=corpus,stopword=False,stem=True,lemma=True,ngram=(1,3),termFreq=False,tfidf=True,mindf=3,maxdf=5000)\n",
        "runEvaluation(X, y, vocab)"
      ],
      "execution_count": null,
      "outputs": [
        {
          "output_type": "stream",
          "text": [
            "----------L1 Norm-----------\n",
            "The model's average accuracy is 0.730000\n",
            "The most informative terms for pos are: ['the audienc while', 'the film final', 'seri which', 'pay money', 'creat for the', 'aureliu', 'is no sen', 'hi hand at', 'it lack in', 'narrat from', 'foursom', 'bar', 'have done better', 'and director', 'you got ta', 'sequel unfortun', 'well sorri', 'funni unfortun the', 'be parodi', 'other action']\n",
            "The most informative terms for neg are: ['in the style', 'up the charact', 'regard to the', 'poke', 'the gratuit', 'other have', 'often hard to', 'the entir experi', 'whoever', 'uninform', 'tortur by', 'mani time have', 'first there is', 'in dream', 'ascend to', 'been known', 'be parodi', 'well sorri', 'last danc', 'sequel unfortun']\n",
            "----------L2 Norm-----------\n",
            "The model's average accuracy is 0.825500\n",
            "The most informative terms for pos are: ['the audienc while', 'seri which', 'it lack in', 'is no sen', 'pay money', 'the film final', 'have done better', 'aureliu', 'creat for the', 'and more than', 'narrat from', 'can hear the', 'and director', 'hi hand at', 'is unconvinc', 'him home', 'the background', 'foursom', 'slay', 'that deal']\n",
            "The most informative terms for neg are: ['in the style', 'the gratuit', 'other have', 'regard to the', 'up the charact', 'poke', 'first there is', 'the entir experi', 'uninform', 'ascend to', 'mani time have', 'often hard to', 'tortur by', 'whoever', 'in dream', 'the truest', 'narrat is', 'have run', 'in enemi', 'go at']\n"
          ],
          "name": "stdout"
        }
      ]
    },
    {
      "cell_type": "code",
      "metadata": {
        "colab": {
          "base_uri": "https://localhost:8080/"
        },
        "id": "2UdjyPelJUrt",
        "outputId": "1634e491-4ff3-4a3a-e00e-dd19718017a3"
      },
      "source": [
        "X,y,vocab = createFancyFeatures(corpus=corpus,stopword=True,stem=True,lemma=True,ngram=(1,3),termFreq=False,tfidf=True,mindf=3,maxdf=5000)\n",
        "runEvaluation(X, y, vocab)"
      ],
      "execution_count": null,
      "outputs": [
        {
          "output_type": "stream",
          "text": [
            "----------L1 Norm-----------\n",
            "The model's average accuracy is 0.741500\n",
            "The most informative terms for pos are: ['of contriv', 'after see it', 'score by john', 'on stephen king', 'of youngster', 'thing down', 'from high school', 'and on', 'would be littl', 'it case', 'garri', 'poseidon adventur', 'open on', 'okay so', 'it own good', 'it think', 'done but', 'rambuncti', 'that work in', 'kind of role']\n",
            "The most informative terms for neg are: ['blame here', 'hobb', 'brother from', 'job of portray', 'for not', 'rel newcom', 'wa shoot for', 'kkk', 'not deserv', 'mass', 'heard when', 'wa talk', 'nt look that', 'ha jacki', 'of fairli', 'watch such', 'unknown', 'cinema 18 guilderland', 'veri success', 'of kid']\n",
            "----------L2 Norm-----------\n",
            "The model's average accuracy is 0.826000\n",
            "The most informative terms for pos are: ['of contriv', 'would be littl', 'thing down', 'on stephen king', 'after see it', 'score by john', 'it own good', 'it case', 'of youngster', 'and on', 'poseidon adventur', 'from high school', 'garri', 'he plan to', 'open on', 'have done with', 'it think', 'to appear on', 'local journalist', 'men on']\n",
            "The most informative terms for neg are: ['blame here', 'rel newcom', 'brother from', 'for not', 'hobb', 'job of portray', 'kkk', 'wa shoot for', 'nt look that', 'not deserv', 'heard when', 'mass', 'ha jacki', 'wa talk', 'veri success', 'one case', 'studio are', 'to hell to', 'in 1983', 'punch and']\n"
          ],
          "name": "stdout"
        }
      ]
    },
    {
      "cell_type": "code",
      "metadata": {
        "id": "KfTBqBltXe7Y"
      },
      "source": [
        "# given a numpy matrix representation of the features for the training set, the \n",
        "# vector of true classes for each example, and the vocabulary as described \n",
        "# above, this computes the accuracy of the model using leave one out cross \n",
        "# validation and reports the most indicative features for each class\n",
        "\n",
        "def evaluateModel(X,y,vocab,penalty=\"l1\"):\n",
        "  # create and fit the model\n",
        "  model = LogisticRegression(penalty=penalty,solver=\"liblinear\")\n",
        "  results = cross_validate(model,X,y,cv=KFold(n_splits=10, shuffle=True, random_state=1))\n",
        "  \n",
        "  # determine the average accuracy\n",
        "  scores = results[\"test_score\"]\n",
        "  avg_score = sum(scores)/len(scores)\n",
        "  \n",
        "  # determine the most informative features\n",
        "  # this requires us to fit the model to everything, because we need a\n",
        "  # single model to draw coefficients from, rather than 26\n",
        "  model.fit(X,y)\n",
        "  class0_weight_sorted = model.coef_[0, :].argsort()\n",
        "  class1_weight_sorted = (-model.coef_[0, :]).argsort()\n",
        "\n",
        "  termsToTake = 20\n",
        "  class0_indicators = [vocab[i] for i in class0_weight_sorted[:termsToTake]]\n",
        "  class1_indicators = [vocab[i] for i in class1_weight_sorted[:termsToTake]]\n",
        "\n",
        "  if model.classes_[0] == \"pos\":\n",
        "    return avg_score,class0_indicators,class1_indicators\n",
        "  else:\n",
        "    return avg_score,class1_indicators,class0_indicators\n",
        "\n",
        "def runEvaluation(X,y,vocab):\n",
        "  print(\"----------L1 Norm-----------\")\n",
        "  avg_score,pos_indicators,neg_indicators = evaluateModel(X,y,vocab,\"l1\")\n",
        "  print(\"The model's average accuracy is %f\"%avg_score)\n",
        "  print(\"The most informative terms for pos are: %s\"%pos_indicators)\n",
        "  print(\"The most informative terms for neg are: %s\"%neg_indicators)\n",
        "  #this call will fit a model with L2 normalization\n",
        "  print(\"----------L2 Norm-----------\")\n",
        "  avg_score,pos_indicators,neg_indicators = evaluateModel(X,y,vocab,\"l2\")\n",
        "  print(\"The model's average accuracy is %f\"%avg_score)\n",
        "  print(\"The most informative terms for pos are: %s\"%pos_indicators)\n",
        "  print(\"The most informative terms for neg are: %s\"%neg_indicators)"
      ],
      "execution_count": null,
      "outputs": []
    },
    {
      "cell_type": "markdown",
      "metadata": {
        "id": "72OUet02TjBo"
      },
      "source": [
        "Run the following to train and evaluate two models using basic features:"
      ]
    },
    {
      "cell_type": "markdown",
      "metadata": {
        "id": "4sjxLL2PTrJi"
      },
      "source": [
        "Run the following to train and evaluate two models using extended features:"
      ]
    }
  ]
}