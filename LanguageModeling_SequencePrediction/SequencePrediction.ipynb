{
  "nbformat": 4,
  "nbformat_minor": 0,
  "metadata": {
    "accelerator": "GPU",
    "colab": {
      "name": "SequencePrediction.ipynb",
      "provenance": [],
      "collapsed_sections": [],
      "include_colab_link": true
    },
    "kernelspec": {
      "display_name": "Python 3",
      "name": "python3"
    },
    "toc": {
      "colors": {
        "hover_highlight": "#DAA520",
        "running_highlight": "#FF0000",
        "selected_highlight": "#FFD700"
      },
      "moveMenuLeft": true,
      "nav_menu": {
        "height": "264px",
        "width": "252px"
      },
      "navigate_menu": true,
      "number_sections": true,
      "sideBar": true,
      "threshold": "5",
      "toc_cell": false,
      "toc_section_display": "block",
      "toc_window_display": false
    },
    "widgets": {
      "application/vnd.jupyter.widget-state+json": {
        "7efa2fc1f77a4b2280048c03e20937c1": {
          "model_module": "@jupyter-widgets/controls",
          "model_name": "HBoxModel",
          "state": {
            "_view_name": "HBoxView",
            "_dom_classes": [],
            "_model_name": "HBoxModel",
            "_view_module": "@jupyter-widgets/controls",
            "_model_module_version": "1.5.0",
            "_view_count": null,
            "_view_module_version": "1.5.0",
            "box_style": "",
            "layout": "IPY_MODEL_47195d0944474785a2589801138b6d7e",
            "_model_module": "@jupyter-widgets/controls",
            "children": [
              "IPY_MODEL_7f081025bb70450eb7bcd3fac2153d6a",
              "IPY_MODEL_83f33ca63dc04c2c939e90126588498f"
            ]
          }
        },
        "47195d0944474785a2589801138b6d7e": {
          "model_module": "@jupyter-widgets/base",
          "model_name": "LayoutModel",
          "state": {
            "_view_name": "LayoutView",
            "grid_template_rows": null,
            "right": null,
            "justify_content": null,
            "_view_module": "@jupyter-widgets/base",
            "overflow": null,
            "_model_module_version": "1.2.0",
            "_view_count": null,
            "flex_flow": null,
            "width": null,
            "min_width": null,
            "border": null,
            "align_items": null,
            "bottom": null,
            "_model_module": "@jupyter-widgets/base",
            "top": null,
            "grid_column": null,
            "overflow_y": null,
            "overflow_x": null,
            "grid_auto_flow": null,
            "grid_area": null,
            "grid_template_columns": null,
            "flex": null,
            "_model_name": "LayoutModel",
            "justify_items": null,
            "grid_row": null,
            "max_height": null,
            "align_content": null,
            "visibility": null,
            "align_self": null,
            "height": null,
            "min_height": null,
            "padding": null,
            "grid_auto_rows": null,
            "grid_gap": null,
            "max_width": null,
            "order": null,
            "_view_module_version": "1.2.0",
            "grid_template_areas": null,
            "object_position": null,
            "object_fit": null,
            "grid_auto_columns": null,
            "margin": null,
            "display": null,
            "left": null
          }
        },
        "7f081025bb70450eb7bcd3fac2153d6a": {
          "model_module": "@jupyter-widgets/controls",
          "model_name": "FloatProgressModel",
          "state": {
            "_view_name": "ProgressView",
            "style": "IPY_MODEL_7b0cb1018a7849bdb50f44a9d6a39696",
            "_dom_classes": [],
            "description": "training routine: 100%",
            "_model_name": "FloatProgressModel",
            "bar_style": "",
            "max": 50,
            "_view_module": "@jupyter-widgets/controls",
            "_model_module_version": "1.5.0",
            "value": 50,
            "_view_count": null,
            "_view_module_version": "1.5.0",
            "orientation": "horizontal",
            "min": 0,
            "description_tooltip": null,
            "_model_module": "@jupyter-widgets/controls",
            "layout": "IPY_MODEL_84215bdb80d541dd94ca5061fe29c9b8"
          }
        },
        "83f33ca63dc04c2c939e90126588498f": {
          "model_module": "@jupyter-widgets/controls",
          "model_name": "HTMLModel",
          "state": {
            "_view_name": "HTMLView",
            "style": "IPY_MODEL_f237f3f8a6f54aeaada3e76ae7fa1ee1",
            "_dom_classes": [],
            "description": "",
            "_model_name": "HTMLModel",
            "placeholder": "​",
            "_view_module": "@jupyter-widgets/controls",
            "_model_module_version": "1.5.0",
            "value": " 50/50 [01:52&lt;00:00,  2.15s/it, sample1=Ceuacobksgho, sample2=Blosr]",
            "_view_count": null,
            "_view_module_version": "1.5.0",
            "description_tooltip": null,
            "_model_module": "@jupyter-widgets/controls",
            "layout": "IPY_MODEL_f47b3f7920a2462b9eef58ea2104d9a3"
          }
        },
        "7b0cb1018a7849bdb50f44a9d6a39696": {
          "model_module": "@jupyter-widgets/controls",
          "model_name": "ProgressStyleModel",
          "state": {
            "_view_name": "StyleView",
            "_model_name": "ProgressStyleModel",
            "description_width": "initial",
            "_view_module": "@jupyter-widgets/base",
            "_model_module_version": "1.5.0",
            "_view_count": null,
            "_view_module_version": "1.2.0",
            "bar_color": null,
            "_model_module": "@jupyter-widgets/controls"
          }
        },
        "84215bdb80d541dd94ca5061fe29c9b8": {
          "model_module": "@jupyter-widgets/base",
          "model_name": "LayoutModel",
          "state": {
            "_view_name": "LayoutView",
            "grid_template_rows": null,
            "right": null,
            "justify_content": null,
            "_view_module": "@jupyter-widgets/base",
            "overflow": null,
            "_model_module_version": "1.2.0",
            "_view_count": null,
            "flex_flow": null,
            "width": null,
            "min_width": null,
            "border": null,
            "align_items": null,
            "bottom": null,
            "_model_module": "@jupyter-widgets/base",
            "top": null,
            "grid_column": null,
            "overflow_y": null,
            "overflow_x": null,
            "grid_auto_flow": null,
            "grid_area": null,
            "grid_template_columns": null,
            "flex": null,
            "_model_name": "LayoutModel",
            "justify_items": null,
            "grid_row": null,
            "max_height": null,
            "align_content": null,
            "visibility": null,
            "align_self": null,
            "height": null,
            "min_height": null,
            "padding": null,
            "grid_auto_rows": null,
            "grid_gap": null,
            "max_width": null,
            "order": null,
            "_view_module_version": "1.2.0",
            "grid_template_areas": null,
            "object_position": null,
            "object_fit": null,
            "grid_auto_columns": null,
            "margin": null,
            "display": null,
            "left": null
          }
        },
        "f237f3f8a6f54aeaada3e76ae7fa1ee1": {
          "model_module": "@jupyter-widgets/controls",
          "model_name": "DescriptionStyleModel",
          "state": {
            "_view_name": "StyleView",
            "_model_name": "DescriptionStyleModel",
            "description_width": "",
            "_view_module": "@jupyter-widgets/base",
            "_model_module_version": "1.5.0",
            "_view_count": null,
            "_view_module_version": "1.2.0",
            "_model_module": "@jupyter-widgets/controls"
          }
        },
        "f47b3f7920a2462b9eef58ea2104d9a3": {
          "model_module": "@jupyter-widgets/base",
          "model_name": "LayoutModel",
          "state": {
            "_view_name": "LayoutView",
            "grid_template_rows": null,
            "right": null,
            "justify_content": null,
            "_view_module": "@jupyter-widgets/base",
            "overflow": null,
            "_model_module_version": "1.2.0",
            "_view_count": null,
            "flex_flow": null,
            "width": null,
            "min_width": null,
            "border": null,
            "align_items": null,
            "bottom": null,
            "_model_module": "@jupyter-widgets/base",
            "top": null,
            "grid_column": null,
            "overflow_y": null,
            "overflow_x": null,
            "grid_auto_flow": null,
            "grid_area": null,
            "grid_template_columns": null,
            "flex": null,
            "_model_name": "LayoutModel",
            "justify_items": null,
            "grid_row": null,
            "max_height": null,
            "align_content": null,
            "visibility": null,
            "align_self": null,
            "height": null,
            "min_height": null,
            "padding": null,
            "grid_auto_rows": null,
            "grid_gap": null,
            "max_width": null,
            "order": null,
            "_view_module_version": "1.2.0",
            "grid_template_areas": null,
            "object_position": null,
            "object_fit": null,
            "grid_auto_columns": null,
            "margin": null,
            "display": null,
            "left": null
          }
        },
        "6f47e2e0f7ba479294e97c1f48d0d5ff": {
          "model_module": "@jupyter-widgets/controls",
          "model_name": "HBoxModel",
          "state": {
            "_view_name": "HBoxView",
            "_dom_classes": [],
            "_model_name": "HBoxModel",
            "_view_module": "@jupyter-widgets/controls",
            "_model_module_version": "1.5.0",
            "_view_count": null,
            "_view_module_version": "1.5.0",
            "box_style": "",
            "layout": "IPY_MODEL_7ff4a9d0a7fd4d7583d02504eb4be612",
            "_model_module": "@jupyter-widgets/controls",
            "children": [
              "IPY_MODEL_2a6fb1ef271142c58fd5f6f8e40119cf",
              "IPY_MODEL_90f2d1e3614746a7b17a3b1fd133fc88"
            ]
          }
        },
        "7ff4a9d0a7fd4d7583d02504eb4be612": {
          "model_module": "@jupyter-widgets/base",
          "model_name": "LayoutModel",
          "state": {
            "_view_name": "LayoutView",
            "grid_template_rows": null,
            "right": null,
            "justify_content": null,
            "_view_module": "@jupyter-widgets/base",
            "overflow": null,
            "_model_module_version": "1.2.0",
            "_view_count": null,
            "flex_flow": null,
            "width": null,
            "min_width": null,
            "border": null,
            "align_items": null,
            "bottom": null,
            "_model_module": "@jupyter-widgets/base",
            "top": null,
            "grid_column": null,
            "overflow_y": null,
            "overflow_x": null,
            "grid_auto_flow": null,
            "grid_area": null,
            "grid_template_columns": null,
            "flex": null,
            "_model_name": "LayoutModel",
            "justify_items": null,
            "grid_row": null,
            "max_height": null,
            "align_content": null,
            "visibility": null,
            "align_self": null,
            "height": null,
            "min_height": null,
            "padding": null,
            "grid_auto_rows": null,
            "grid_gap": null,
            "max_width": null,
            "order": null,
            "_view_module_version": "1.2.0",
            "grid_template_areas": null,
            "object_position": null,
            "object_fit": null,
            "grid_auto_columns": null,
            "margin": null,
            "display": null,
            "left": null
          }
        },
        "2a6fb1ef271142c58fd5f6f8e40119cf": {
          "model_module": "@jupyter-widgets/controls",
          "model_name": "FloatProgressModel",
          "state": {
            "_view_name": "ProgressView",
            "style": "IPY_MODEL_1f3f4bfa533b48ab821234e263abbe91",
            "_dom_classes": [],
            "description": "split=train:  98%",
            "_model_name": "FloatProgressModel",
            "bar_style": "",
            "max": 60,
            "_view_module": "@jupyter-widgets/controls",
            "_model_module_version": "1.5.0",
            "value": 59,
            "_view_count": null,
            "_view_module_version": "1.5.0",
            "orientation": "horizontal",
            "min": 0,
            "description_tooltip": null,
            "_model_module": "@jupyter-widgets/controls",
            "layout": "IPY_MODEL_33234868bbf24dfb9a310fc9456a0fa0"
          }
        },
        "90f2d1e3614746a7b17a3b1fd133fc88": {
          "model_module": "@jupyter-widgets/controls",
          "model_name": "HTMLModel",
          "state": {
            "_view_name": "HTMLView",
            "style": "IPY_MODEL_b82e6bdf16b84457b68a19a95f8f9d3b",
            "_dom_classes": [],
            "description": "",
            "_model_name": "HTMLModel",
            "placeholder": "​",
            "_view_module": "@jupyter-widgets/controls",
            "_model_module_version": "1.5.0",
            "value": " 59/60 [01:52&lt;00:03,  3.77s/it, acc=17.5, epoch=49, loss=2.91]",
            "_view_count": null,
            "_view_module_version": "1.5.0",
            "description_tooltip": null,
            "_model_module": "@jupyter-widgets/controls",
            "layout": "IPY_MODEL_313834e3552841e5911d64bb76189fac"
          }
        },
        "1f3f4bfa533b48ab821234e263abbe91": {
          "model_module": "@jupyter-widgets/controls",
          "model_name": "ProgressStyleModel",
          "state": {
            "_view_name": "StyleView",
            "_model_name": "ProgressStyleModel",
            "description_width": "initial",
            "_view_module": "@jupyter-widgets/base",
            "_model_module_version": "1.5.0",
            "_view_count": null,
            "_view_module_version": "1.2.0",
            "bar_color": null,
            "_model_module": "@jupyter-widgets/controls"
          }
        },
        "33234868bbf24dfb9a310fc9456a0fa0": {
          "model_module": "@jupyter-widgets/base",
          "model_name": "LayoutModel",
          "state": {
            "_view_name": "LayoutView",
            "grid_template_rows": null,
            "right": null,
            "justify_content": null,
            "_view_module": "@jupyter-widgets/base",
            "overflow": null,
            "_model_module_version": "1.2.0",
            "_view_count": null,
            "flex_flow": null,
            "width": null,
            "min_width": null,
            "border": null,
            "align_items": null,
            "bottom": null,
            "_model_module": "@jupyter-widgets/base",
            "top": null,
            "grid_column": null,
            "overflow_y": null,
            "overflow_x": null,
            "grid_auto_flow": null,
            "grid_area": null,
            "grid_template_columns": null,
            "flex": null,
            "_model_name": "LayoutModel",
            "justify_items": null,
            "grid_row": null,
            "max_height": null,
            "align_content": null,
            "visibility": null,
            "align_self": null,
            "height": null,
            "min_height": null,
            "padding": null,
            "grid_auto_rows": null,
            "grid_gap": null,
            "max_width": null,
            "order": null,
            "_view_module_version": "1.2.0",
            "grid_template_areas": null,
            "object_position": null,
            "object_fit": null,
            "grid_auto_columns": null,
            "margin": null,
            "display": null,
            "left": null
          }
        },
        "b82e6bdf16b84457b68a19a95f8f9d3b": {
          "model_module": "@jupyter-widgets/controls",
          "model_name": "DescriptionStyleModel",
          "state": {
            "_view_name": "StyleView",
            "_model_name": "DescriptionStyleModel",
            "description_width": "",
            "_view_module": "@jupyter-widgets/base",
            "_model_module_version": "1.5.0",
            "_view_count": null,
            "_view_module_version": "1.2.0",
            "_model_module": "@jupyter-widgets/controls"
          }
        },
        "313834e3552841e5911d64bb76189fac": {
          "model_module": "@jupyter-widgets/base",
          "model_name": "LayoutModel",
          "state": {
            "_view_name": "LayoutView",
            "grid_template_rows": null,
            "right": null,
            "justify_content": null,
            "_view_module": "@jupyter-widgets/base",
            "overflow": null,
            "_model_module_version": "1.2.0",
            "_view_count": null,
            "flex_flow": null,
            "width": null,
            "min_width": null,
            "border": null,
            "align_items": null,
            "bottom": null,
            "_model_module": "@jupyter-widgets/base",
            "top": null,
            "grid_column": null,
            "overflow_y": null,
            "overflow_x": null,
            "grid_auto_flow": null,
            "grid_area": null,
            "grid_template_columns": null,
            "flex": null,
            "_model_name": "LayoutModel",
            "justify_items": null,
            "grid_row": null,
            "max_height": null,
            "align_content": null,
            "visibility": null,
            "align_self": null,
            "height": null,
            "min_height": null,
            "padding": null,
            "grid_auto_rows": null,
            "grid_gap": null,
            "max_width": null,
            "order": null,
            "_view_module_version": "1.2.0",
            "grid_template_areas": null,
            "object_position": null,
            "object_fit": null,
            "grid_auto_columns": null,
            "margin": null,
            "display": null,
            "left": null
          }
        },
        "602fb3d4a1494273ae1efcae0248fe09": {
          "model_module": "@jupyter-widgets/controls",
          "model_name": "HBoxModel",
          "state": {
            "_view_name": "HBoxView",
            "_dom_classes": [],
            "_model_name": "HBoxModel",
            "_view_module": "@jupyter-widgets/controls",
            "_model_module_version": "1.5.0",
            "_view_count": null,
            "_view_module_version": "1.5.0",
            "box_style": "",
            "layout": "IPY_MODEL_108ea649af224d62bfdc1cf247ebab8c",
            "_model_module": "@jupyter-widgets/controls",
            "children": [
              "IPY_MODEL_65fea770fcc040a8b4adc77cb7e3f8e0",
              "IPY_MODEL_0b6ba52f106f4aae859aef9a565aa61b"
            ]
          }
        },
        "108ea649af224d62bfdc1cf247ebab8c": {
          "model_module": "@jupyter-widgets/base",
          "model_name": "LayoutModel",
          "state": {
            "_view_name": "LayoutView",
            "grid_template_rows": null,
            "right": null,
            "justify_content": null,
            "_view_module": "@jupyter-widgets/base",
            "overflow": null,
            "_model_module_version": "1.2.0",
            "_view_count": null,
            "flex_flow": null,
            "width": null,
            "min_width": null,
            "border": null,
            "align_items": null,
            "bottom": null,
            "_model_module": "@jupyter-widgets/base",
            "top": null,
            "grid_column": null,
            "overflow_y": null,
            "overflow_x": null,
            "grid_auto_flow": null,
            "grid_area": null,
            "grid_template_columns": null,
            "flex": null,
            "_model_name": "LayoutModel",
            "justify_items": null,
            "grid_row": null,
            "max_height": null,
            "align_content": null,
            "visibility": null,
            "align_self": null,
            "height": null,
            "min_height": null,
            "padding": null,
            "grid_auto_rows": null,
            "grid_gap": null,
            "max_width": null,
            "order": null,
            "_view_module_version": "1.2.0",
            "grid_template_areas": null,
            "object_position": null,
            "object_fit": null,
            "grid_auto_columns": null,
            "margin": null,
            "display": null,
            "left": null
          }
        },
        "65fea770fcc040a8b4adc77cb7e3f8e0": {
          "model_module": "@jupyter-widgets/controls",
          "model_name": "FloatProgressModel",
          "state": {
            "_view_name": "ProgressView",
            "style": "IPY_MODEL_1b11e88b06204eb482445d6b952aff5b",
            "_dom_classes": [],
            "description": "split=val:  92%",
            "_model_name": "FloatProgressModel",
            "bar_style": "",
            "max": 12,
            "_view_module": "@jupyter-widgets/controls",
            "_model_module_version": "1.5.0",
            "value": 11,
            "_view_count": null,
            "_view_module_version": "1.5.0",
            "orientation": "horizontal",
            "min": 0,
            "description_tooltip": null,
            "_model_module": "@jupyter-widgets/controls",
            "layout": "IPY_MODEL_b115ea9a8e1a4a309b8a86322d462613"
          }
        },
        "0b6ba52f106f4aae859aef9a565aa61b": {
          "model_module": "@jupyter-widgets/controls",
          "model_name": "HTMLModel",
          "state": {
            "_view_name": "HTMLView",
            "style": "IPY_MODEL_0aa835d3e5384f92a84adb1705a8ce08",
            "_dom_classes": [],
            "description": "",
            "_model_name": "HTMLModel",
            "placeholder": "​",
            "_view_module": "@jupyter-widgets/controls",
            "_model_module_version": "1.5.0",
            "value": " 11/12 [01:52&lt;00:04,  4.39s/it, acc=17.5, epoch=49, loss=2.9]",
            "_view_count": null,
            "_view_module_version": "1.5.0",
            "description_tooltip": null,
            "_model_module": "@jupyter-widgets/controls",
            "layout": "IPY_MODEL_15664013020d45079ccfb835f4aa5aeb"
          }
        },
        "1b11e88b06204eb482445d6b952aff5b": {
          "model_module": "@jupyter-widgets/controls",
          "model_name": "ProgressStyleModel",
          "state": {
            "_view_name": "StyleView",
            "_model_name": "ProgressStyleModel",
            "description_width": "initial",
            "_view_module": "@jupyter-widgets/base",
            "_model_module_version": "1.5.0",
            "_view_count": null,
            "_view_module_version": "1.2.0",
            "bar_color": null,
            "_model_module": "@jupyter-widgets/controls"
          }
        },
        "b115ea9a8e1a4a309b8a86322d462613": {
          "model_module": "@jupyter-widgets/base",
          "model_name": "LayoutModel",
          "state": {
            "_view_name": "LayoutView",
            "grid_template_rows": null,
            "right": null,
            "justify_content": null,
            "_view_module": "@jupyter-widgets/base",
            "overflow": null,
            "_model_module_version": "1.2.0",
            "_view_count": null,
            "flex_flow": null,
            "width": null,
            "min_width": null,
            "border": null,
            "align_items": null,
            "bottom": null,
            "_model_module": "@jupyter-widgets/base",
            "top": null,
            "grid_column": null,
            "overflow_y": null,
            "overflow_x": null,
            "grid_auto_flow": null,
            "grid_area": null,
            "grid_template_columns": null,
            "flex": null,
            "_model_name": "LayoutModel",
            "justify_items": null,
            "grid_row": null,
            "max_height": null,
            "align_content": null,
            "visibility": null,
            "align_self": null,
            "height": null,
            "min_height": null,
            "padding": null,
            "grid_auto_rows": null,
            "grid_gap": null,
            "max_width": null,
            "order": null,
            "_view_module_version": "1.2.0",
            "grid_template_areas": null,
            "object_position": null,
            "object_fit": null,
            "grid_auto_columns": null,
            "margin": null,
            "display": null,
            "left": null
          }
        },
        "0aa835d3e5384f92a84adb1705a8ce08": {
          "model_module": "@jupyter-widgets/controls",
          "model_name": "DescriptionStyleModel",
          "state": {
            "_view_name": "StyleView",
            "_model_name": "DescriptionStyleModel",
            "description_width": "",
            "_view_module": "@jupyter-widgets/base",
            "_model_module_version": "1.5.0",
            "_view_count": null,
            "_view_module_version": "1.2.0",
            "_model_module": "@jupyter-widgets/controls"
          }
        },
        "15664013020d45079ccfb835f4aa5aeb": {
          "model_module": "@jupyter-widgets/base",
          "model_name": "LayoutModel",
          "state": {
            "_view_name": "LayoutView",
            "grid_template_rows": null,
            "right": null,
            "justify_content": null,
            "_view_module": "@jupyter-widgets/base",
            "overflow": null,
            "_model_module_version": "1.2.0",
            "_view_count": null,
            "flex_flow": null,
            "width": null,
            "min_width": null,
            "border": null,
            "align_items": null,
            "bottom": null,
            "_model_module": "@jupyter-widgets/base",
            "top": null,
            "grid_column": null,
            "overflow_y": null,
            "overflow_x": null,
            "grid_auto_flow": null,
            "grid_area": null,
            "grid_template_columns": null,
            "flex": null,
            "_model_name": "LayoutModel",
            "justify_items": null,
            "grid_row": null,
            "max_height": null,
            "align_content": null,
            "visibility": null,
            "align_self": null,
            "height": null,
            "min_height": null,
            "padding": null,
            "grid_auto_rows": null,
            "grid_gap": null,
            "max_width": null,
            "order": null,
            "_view_module_version": "1.2.0",
            "grid_template_areas": null,
            "object_position": null,
            "object_fit": null,
            "grid_auto_columns": null,
            "margin": null,
            "display": null,
            "left": null
          }
        }
      }
    }
  },
  "cells": [
    {
      "cell_type": "markdown",
      "metadata": {
        "id": "view-in-github",
        "colab_type": "text"
      },
      "source": [
        "<a href=\"https://colab.research.google.com/github/NULabTMN/hw2-aidasharif1365/blob/master/SequencePrediction.ipynb\" target=\"_parent\"><img src=\"https://colab.research.google.com/assets/colab-badge.svg\" alt=\"Open In Colab\"/></a>"
      ]
    },
    {
      "cell_type": "markdown",
      "metadata": {
        "id": "crOQ7QBjhrgV"
      },
      "source": [
        "# Sequence Prediction: Surname Generation"
      ]
    },
    {
      "cell_type": "markdown",
      "metadata": {
        "id": "a7mWak9NZqsE"
      },
      "source": [
        "In this experiment, you will explore a simple sequence prediction task: Text generation using a Gated Recurrent Unit (GRU). Like an LSTM, this is an example of a recurrent neural network, but since it has fewer parameters, it should be more appropriate for a smaller dataset.\n",
        "\n",
        "The GRU computes a probability distribution over the set of possible characters in the surname vocabulary for each time step. We use these probability distributions to generate new surnames. You are given starter code that trains a SurnameGenerationModel on the [surname dataset](https://github.com/jasoriya/CS6120-PS2-support/blob/master/data/surnames/surnames_with_splits.csv) to generate new surnames by learning from the training data. \n",
        "\n"
      ]
    },
    {
      "cell_type": "markdown",
      "metadata": {
        "id": "TJkLtjvSaf5P"
      },
      "source": [
        "Your task is to understand this code and plot the over all perplxity of GRU model as a function of the hidden representation size (K) and the number of characters already observed. You will see **TODO** prompts in the following cells"
      ]
    },
    {
      "cell_type": "markdown",
      "metadata": {
        "id": "YEjYmZ5Shrgb"
      },
      "source": [
        "## Imports"
      ]
    },
    {
      "cell_type": "code",
      "metadata": {
        "id": "DIbXsKQLhrgd"
      },
      "source": [
        "import os\n",
        "from argparse import Namespace\n",
        "import numpy as np\n",
        "import httpimport\n",
        "import torch\n",
        "import torch.optim as optim\n",
        "from tqdm import tqdm_notebook\n",
        "from torch.nn import functional as F\n",
        "import collections\n",
        "\n",
        "# import data preprocessing and modeling functions from https://github.com/jasoriya/CS6120-PS2-support/tree/master/utils\n",
        "with httpimport.remote_repo(['data_vectorization','model','helper'], 'https://raw.githubusercontent.com/jasoriya/CS6120-PS2-support/master/utils/'):\n",
        "  from data_vectorization import Vocabulary, SequenceVocabulary, SurnameVectorizer, SurnameDataset, generate_batches\n",
        "  from model import SurnameGenerationModel, sample_from_model, decode_samples\n",
        "  from helper import make_train_state, update_train_state, normalize_sizes, compute_accuracy, sequence_loss, set_seed_everywhere, handle_dirs\n"
      ],
      "execution_count": 103,
      "outputs": []
    },
    {
      "cell_type": "markdown",
      "metadata": {
        "id": "rwQ3H6hhhrhM"
      },
      "source": [
        "### Settings and some prep work\n",
        "\n",
        "**TODO**: \n",
        "- Give path to a directory where the model should be saved\n",
        "- Give hidden state size (`rnn_hidden_size`) for the GRU model (experiment with different levels)\n"
      ]
    },
    {
      "cell_type": "code",
      "metadata": {
        "colab": {
          "base_uri": "https://localhost:8080/"
        },
        "id": "B6ELbWoHhrhN",
        "outputId": "492ac057-e8be-4907-ddf7-34d30ae5d92b"
      },
      "source": [
        "args = Namespace(\n",
        "    # Data and Path information\n",
        "    surname_csv=\"https://raw.githubusercontent.com/jasoriya/CS6120-PS2-support/master/data/surnames/surnames_with_splits.csv\",\n",
        "    vectorizer_file=\"vectorizer.json\",\n",
        "    model_state_file=\"model.pth\",\n",
        "    save_dir= \"https://github.com/NULabTMN/hw2-aidasharif1365\", # give path here\n",
        "    # Model hyper parameters\n",
        "    char_embedding_size=32,\n",
        "    rnn_hidden_size= 16, # give hidden size\n",
        "    # Training hyper parameters\n",
        "    seed=1337,\n",
        "    learning_rate=0.005,# I had to change the lr to accelerate training\n",
        "    batch_size=128,\n",
        "    num_epochs=50,# I had to change the #epochs to accelerate training\n",
        "    early_stopping_criteria=5,\n",
        "    # Runtime options\n",
        "    catch_keyboard_interrupt=True,\n",
        "    cuda=True,\n",
        "    expand_filepaths_to_save_dir=True,\n",
        "    reload_from_files=False,\n",
        ")\n",
        "\n",
        "if args.expand_filepaths_to_save_dir:\n",
        "    args.vectorizer_file = os.path.join(args.save_dir,\n",
        "                                        args.vectorizer_file)\n",
        "\n",
        "    args.model_state_file = os.path.join(args.save_dir,\n",
        "                                         args.model_state_file)\n",
        "    \n",
        "    print(\"Expanded filepaths: \")\n",
        "    print(\"\\t{}\".format(args.vectorizer_file))\n",
        "    print(\"\\t{}\".format(args.model_state_file))\n",
        "    \n",
        "    \n",
        "# Check CUDA\n",
        "if not torch.cuda.is_available():\n",
        "    args.cuda = False\n",
        "\n",
        "args.device = torch.device(\"cuda\" if args.cuda else \"cpu\")\n",
        "    \n",
        "print(\"Using CUDA: {}\".format(args.cuda))\n",
        "\n",
        "# Set seed for reproducibility\n",
        "set_seed_everywhere(args.seed, args.cuda)\n",
        "\n",
        "# handle dirs\n",
        "handle_dirs(args.save_dir)"
      ],
      "execution_count": 104,
      "outputs": [
        {
          "output_type": "stream",
          "text": [
            "Expanded filepaths: \n",
            "\thttps://github.com/NULabTMN/hw2-aidasharif1365/vectorizer.json\n",
            "\thttps://github.com/NULabTMN/hw2-aidasharif1365/model.pth\n",
            "Using CUDA: True\n"
          ],
          "name": "stdout"
        }
      ]
    },
    {
      "cell_type": "markdown",
      "metadata": {
        "id": "eK7rHgKPhrhS"
      },
      "source": [
        "### Initializations"
      ]
    },
    {
      "cell_type": "code",
      "metadata": {
        "id": "0zdUk04AhrhT"
      },
      "source": [
        "if args.reload_from_files:\n",
        "    # training from a checkpoint\n",
        "    dataset = SurnameDataset.load_dataset_and_load_vectorizer(args.surname_csv,\n",
        "                                                              args.vectorizer_file)\n",
        "else:\n",
        "    # create dataset and vectorizer\n",
        "    dataset = SurnameDataset.load_dataset_and_make_vectorizer(args.surname_csv)\n",
        "    dataset.save_vectorizer(args.vectorizer_file)\n",
        "\n",
        "vectorizer = dataset.get_vectorizer()\n",
        "\n",
        "model = SurnameGenerationModel(char_embedding_size=args.char_embedding_size,\n",
        "                               char_vocab_size=len(vectorizer.char_vocab),\n",
        "                               rnn_hidden_size=args.rnn_hidden_size,\n",
        "                               padding_idx=vectorizer.char_vocab.mask_index)"
      ],
      "execution_count": 105,
      "outputs": []
    },
    {
      "cell_type": "markdown",
      "metadata": {
        "id": "Wy5dwODVhrhX"
      },
      "source": [
        "### Training loop"
      ]
    },
    {
      "cell_type": "code",
      "metadata": {
        "colab": {
          "base_uri": "https://localhost:8080/",
          "height": 232,
          "referenced_widgets": [
            "7efa2fc1f77a4b2280048c03e20937c1",
            "47195d0944474785a2589801138b6d7e",
            "7f081025bb70450eb7bcd3fac2153d6a",
            "83f33ca63dc04c2c939e90126588498f",
            "7b0cb1018a7849bdb50f44a9d6a39696",
            "84215bdb80d541dd94ca5061fe29c9b8",
            "f237f3f8a6f54aeaada3e76ae7fa1ee1",
            "f47b3f7920a2462b9eef58ea2104d9a3",
            "6f47e2e0f7ba479294e97c1f48d0d5ff",
            "7ff4a9d0a7fd4d7583d02504eb4be612",
            "2a6fb1ef271142c58fd5f6f8e40119cf",
            "90f2d1e3614746a7b17a3b1fd133fc88",
            "1f3f4bfa533b48ab821234e263abbe91",
            "33234868bbf24dfb9a310fc9456a0fa0",
            "b82e6bdf16b84457b68a19a95f8f9d3b",
            "313834e3552841e5911d64bb76189fac",
            "602fb3d4a1494273ae1efcae0248fe09",
            "108ea649af224d62bfdc1cf247ebab8c",
            "65fea770fcc040a8b4adc77cb7e3f8e0",
            "0b6ba52f106f4aae859aef9a565aa61b",
            "1b11e88b06204eb482445d6b952aff5b",
            "b115ea9a8e1a4a309b8a86322d462613",
            "0aa835d3e5384f92a84adb1705a8ce08",
            "15664013020d45079ccfb835f4aa5aeb"
          ]
        },
        "id": "jIr6FBQWhrhY",
        "outputId": "b60b1bff-9918-4680-f66b-2158f685f112"
      },
      "source": [
        "mask_index = vectorizer.char_vocab.mask_index\n",
        "\n",
        "model = model.to(args.device)\n",
        "\n",
        "\n",
        "optimizer = optim.Adam(model.parameters(), lr=args.learning_rate)\n",
        "scheduler = optim.lr_scheduler.ReduceLROnPlateau(optimizer=optimizer,\n",
        "                                           mode='min', factor=0.5,\n",
        "                                           patience=1)\n",
        "train_state = make_train_state(args)\n",
        "\n",
        "epoch_bar = tqdm_notebook(desc='training routine', \n",
        "                          total=args.num_epochs,\n",
        "                          position=0)\n",
        "\n",
        "dataset.set_split('train')\n",
        "train_bar = tqdm_notebook(desc='split=train',\n",
        "                          total=dataset.get_num_batches(args.batch_size), \n",
        "                          position=1, \n",
        "                          leave=True)\n",
        "dataset.set_split('val')\n",
        "val_bar = tqdm_notebook(desc='split=val',\n",
        "                        total=dataset.get_num_batches(args.batch_size), \n",
        "                        position=1, \n",
        "                        leave=True)\n",
        "\n",
        "try:\n",
        "    for epoch_index in range(args.num_epochs):\n",
        "        train_state['epoch_index'] = epoch_index\n",
        "\n",
        "        # Iterate over training dataset\n",
        "\n",
        "        # setup: batch generator, set loss and acc to 0, set train mode on\n",
        "        dataset.set_split('train')\n",
        "        batch_generator = generate_batches(dataset, \n",
        "                                           batch_size=args.batch_size, \n",
        "                                           device=args.device)\n",
        "        running_loss = 0.0\n",
        "        running_acc = 0.0\n",
        "        model.train()\n",
        "        \n",
        "        for batch_index, batch_dict in enumerate(batch_generator):\n",
        "            # the training routine is these 5 steps:\n",
        "\n",
        "            # --------------------------------------    \n",
        "            # step 1. zero the gradients\n",
        "            optimizer.zero_grad()\n",
        "\n",
        "            # step 2. compute the output\n",
        "            y_pred = model(x_in=batch_dict['x_data'])\n",
        "\n",
        "            # step 3. compute the loss\n",
        "            loss = sequence_loss(y_pred, batch_dict['y_target'], mask_index)\n",
        "\n",
        "\n",
        "            # step 4. use loss to produce gradients\n",
        "            loss.backward()\n",
        "\n",
        "            # step 5. use optimizer to take gradient step\n",
        "            optimizer.step()\n",
        "            # -----------------------------------------\n",
        "            # compute the  running loss and running accuracy\n",
        "            running_loss += (loss.item() - running_loss) / (batch_index + 1)\n",
        "            acc_t = compute_accuracy(y_pred, batch_dict['y_target'], mask_index)\n",
        "            running_acc += (acc_t - running_acc) / (batch_index + 1)\n",
        "\n",
        "            # update bar\n",
        "            train_bar.set_postfix(loss=running_loss,\n",
        "                                  acc=running_acc,\n",
        "                                  epoch=epoch_index)\n",
        "            train_bar.update()\n",
        "\n",
        "        train_state['train_loss'].append(running_loss)\n",
        "        train_state['train_acc'].append(running_acc)\n",
        "\n",
        "        # Iterate over val dataset\n",
        "\n",
        "        # setup: batch generator, set loss and acc to 0; set eval mode on\n",
        "        dataset.set_split('val')\n",
        "        batch_generator = generate_batches(dataset, \n",
        "                                           batch_size=args.batch_size, \n",
        "                                           device=args.device)\n",
        "        running_loss = 0.\n",
        "        running_acc = 0.\n",
        "        model.eval()\n",
        "\n",
        "        for batch_index, batch_dict in enumerate(batch_generator):\n",
        "            # compute the output\n",
        "            y_pred = model(x_in=batch_dict['x_data'])\n",
        "\n",
        "            # step 3. compute the loss\n",
        "            loss = sequence_loss(y_pred, batch_dict['y_target'], mask_index)\n",
        "\n",
        "            # compute the  running loss and running accuracy\n",
        "            running_loss += (loss.item() - running_loss) / (batch_index + 1)\n",
        "            acc_t = compute_accuracy(y_pred, batch_dict['y_target'], mask_index)\n",
        "            running_acc += (acc_t - running_acc) / (batch_index + 1)\n",
        "            \n",
        "            # Update bar\n",
        "            val_bar.set_postfix(loss=running_loss, acc=running_acc, \n",
        "                            epoch=epoch_index)\n",
        "            val_bar.update()\n",
        "\n",
        "        train_state['val_loss'].append(running_loss)\n",
        "        train_state['val_acc'].append(running_acc)\n",
        "\n",
        "        train_state = update_train_state(args=args, model=model, \n",
        "                                         train_state=train_state)\n",
        "\n",
        "        scheduler.step(train_state['val_loss'][-1])\n",
        "\n",
        "        if train_state['stop_early']:\n",
        "            break\n",
        "        \n",
        "        # move model to cpu for sampling\n",
        "        model = model.cpu()\n",
        "        sampled_surnames = decode_samples(\n",
        "            sample_from_model(model, vectorizer, num_samples=2), \n",
        "            vectorizer)\n",
        "        epoch_bar.set_postfix(sample1=sampled_surnames[0], \n",
        "                              sample2=sampled_surnames[1])\n",
        "        # move model back to whichever device it should be on\n",
        "        model = model.to(args.device)\n",
        "        \n",
        "        train_bar.n = 0\n",
        "        val_bar.n = 0\n",
        "        epoch_bar.update()\n",
        "        \n",
        "except KeyboardInterrupt:\n",
        "    print(\"Exiting loop\")"
      ],
      "execution_count": 106,
      "outputs": [
        {
          "output_type": "stream",
          "text": [
            "/usr/local/lib/python3.7/dist-packages/ipykernel_launcher.py:14: TqdmDeprecationWarning: This function will be removed in tqdm==5.0.0\n",
            "Please use `tqdm.notebook.tqdm` instead of `tqdm.tqdm_notebook`\n",
            "  \n"
          ],
          "name": "stderr"
        },
        {
          "output_type": "display_data",
          "data": {
            "application/vnd.jupyter.widget-view+json": {
              "model_id": "7efa2fc1f77a4b2280048c03e20937c1",
              "version_minor": 0,
              "version_major": 2
            },
            "text/plain": [
              "HBox(children=(FloatProgress(value=0.0, description='training routine', max=50.0, style=ProgressStyle(descript…"
            ]
          },
          "metadata": {
            "tags": []
          }
        },
        {
          "output_type": "stream",
          "text": [
            "/usr/local/lib/python3.7/dist-packages/ipykernel_launcher.py:20: TqdmDeprecationWarning: This function will be removed in tqdm==5.0.0\n",
            "Please use `tqdm.notebook.tqdm` instead of `tqdm.tqdm_notebook`\n"
          ],
          "name": "stderr"
        },
        {
          "output_type": "display_data",
          "data": {
            "application/vnd.jupyter.widget-view+json": {
              "model_id": "6f47e2e0f7ba479294e97c1f48d0d5ff",
              "version_minor": 0,
              "version_major": 2
            },
            "text/plain": [
              "HBox(children=(FloatProgress(value=0.0, description='split=train', max=60.0, style=ProgressStyle(description_w…"
            ]
          },
          "metadata": {
            "tags": []
          }
        },
        {
          "output_type": "stream",
          "text": [
            "/usr/local/lib/python3.7/dist-packages/ipykernel_launcher.py:25: TqdmDeprecationWarning: This function will be removed in tqdm==5.0.0\n",
            "Please use `tqdm.notebook.tqdm` instead of `tqdm.tqdm_notebook`\n"
          ],
          "name": "stderr"
        },
        {
          "output_type": "display_data",
          "data": {
            "application/vnd.jupyter.widget-view+json": {
              "model_id": "602fb3d4a1494273ae1efcae0248fe09",
              "version_minor": 0,
              "version_major": 2
            },
            "text/plain": [
              "HBox(children=(FloatProgress(value=0.0, description='split=val', max=12.0, style=ProgressStyle(description_wid…"
            ]
          },
          "metadata": {
            "tags": []
          }
        }
      ]
    },
    {
      "cell_type": "code",
      "metadata": {
        "colab": {
          "base_uri": "https://localhost:8080/"
        },
        "id": "T1pV10L3hrhc",
        "outputId": "af26696d-76cf-4fd6-9427-141c5a2f0f39"
      },
      "source": [
        "np.random.choice(np.arange(len(vectorizer.nationality_vocab)), replace=True, size=2)"
      ],
      "execution_count": 107,
      "outputs": [
        {
          "output_type": "execute_result",
          "data": {
            "text/plain": [
              "array([8, 7])"
            ]
          },
          "metadata": {
            "tags": []
          },
          "execution_count": 107
        }
      ]
    },
    {
      "cell_type": "code",
      "metadata": {
        "id": "crgnIUPghrhg"
      },
      "source": [
        "# compute the loss & accuracy on the test set using the best available model\n",
        "\n",
        "model.load_state_dict(torch.load(train_state['model_filename']))\n",
        "\n",
        "model = model.to(args.device)\n",
        "\n",
        "dataset.set_split('test')\n",
        "batch_generator = generate_batches(dataset, \n",
        "                                   batch_size=args.batch_size, \n",
        "                                   device=args.device)\n",
        "running_acc = 0.\n",
        "model.eval()\n",
        "\n",
        "for batch_index, batch_dict in enumerate(batch_generator):\n",
        "    # compute the output\n",
        "    y_pred = model(x_in=batch_dict['x_data'])\n",
        "\n",
        "    # compute the loss\n",
        "    loss = sequence_loss(y_pred, batch_dict['y_target'], mask_index)\n",
        "\n",
        "    # compute the accuracy\n",
        "    running_loss += (loss.item() - running_loss) / (batch_index + 1)\n",
        "\n",
        "    acc_t = compute_accuracy(y_pred, batch_dict['y_target'], mask_index)\n",
        "    running_acc += (acc_t - running_acc) / (batch_index + 1)\n",
        "\n",
        "train_state['test_loss'] = running_loss \n",
        "train_state['test_acc'] = running_acc "
      ],
      "execution_count": 108,
      "outputs": []
    },
    {
      "cell_type": "markdown",
      "metadata": {
        "id": "ldfJK8jBgbnT"
      },
      "source": [
        "**TODO**: Write code to compute the perplexity of the test corpus, the accuracy of a character-prediction task, and the perplexity of the predictive distribution given increasing amounts of context. For this last metric, you want to compute the perplexity of predicting the first character (given nothing to the left), the perplexity of predicting the second character (given the first), and so on, up to the perplexity of predicting the n-th character (given the first 1 to n-1 characters). Unlike an n-gram model, the recurrent model can encode arbitrarily long histories, although it will probably make more use of the nearby context."
      ]
    },
    {
      "cell_type": "code",
      "metadata": {
        "colab": {
          "base_uri": "https://localhost:8080/"
        },
        "id": "yfzssGYjhrhj",
        "outputId": "760bdbb5-4ca6-4481-f63f-307664fd2248"
      },
      "source": [
        "print(\"Test loss: {};\".format(train_state['test_loss']))\n",
        "print(\"Test perplexity: {};\".format(2**loss)) # compute and print perplexity here\n",
        "print(\"Test Accuracy: {}\".format(train_state['test_acc']))"
      ],
      "execution_count": 109,
      "outputs": [
        {
          "output_type": "stream",
          "text": [
            "Test loss: 2.9066432515780134;\n",
            "Test perplexity: 7.443632125854492;\n",
            "Test Accuracy: 17.182484222756695\n"
          ],
          "name": "stdout"
        }
      ]
    },
    {
      "cell_type": "code",
      "metadata": {
        "colab": {
          "base_uri": "https://localhost:8080/"
        },
        "id": "v936LWjITTBQ",
        "outputId": "dc699e38-f6e3-4214-a49c-a5e6533b41ae"
      },
      "source": [
        "#finding the preplexity for each character in each test sample\n",
        "#first we normalize y_pred and y_true\n",
        "y_pred,y_true=normalize_sizes(y_pred,batch_dict['y_target'])\n",
        "#following the same steps in original code\n",
        "sequence_loss=F.cross_entropy(y_pred,y_true,ignore_index=mask_index,reduction='none')\n",
        "sequence_loss=sequence_loss.view(128,19)\n",
        "#making a dictionary to add up all perplexitis for each character in all samples\n",
        "sum_char=collections.defaultdict(int)\n",
        "\n",
        "for ch in range(len(sequence_loss[1])):\n",
        "  for test in range(len(sequence_loss[0])):\n",
        "    sum_char[ch]=sum_char[ch]+(sequence_loss[test][ch]).item()\n",
        "    \n",
        "#array to save the final average\n",
        "array1=[]\n",
        "for key in sum_char:\n",
        "  array1.append(2**(sum_char[key]/128))\n",
        "\n",
        "print(array1)"
      ],
      "execution_count": 118,
      "outputs": [
        {
          "output_type": "stream",
          "text": [
            "[1.4062597399617625, 1.3330298009987398, 1.3754004664025754, 1.386251018234484, 1.302790610034732, 1.2441376037172014, 1.1803756873380795, 1.0876212538801793, 1.0326269920636182, 1.0187816618795307, 1.004699113892108, 1.0, 1.0, 1.0, 1.0, 1.0, 1.0, 1.0, 1.0]\n"
          ],
          "name": "stdout"
        }
      ]
    },
    {
      "cell_type": "code",
      "metadata": {
        "colab": {
          "base_uri": "https://localhost:8080/"
        },
        "id": "9uKtTfmdTW0M",
        "outputId": "6ccb17bc-67c9-42e2-80aa-f6d0176d251e"
      },
      "source": [
        "#finding the accuracy for each character in each test sample\n",
        "#first we normalize y_pred and y_true\n",
        "y_pred,y_true=normalize_sizes(y_pred,batch_dict['y_target'])\n",
        "_, y_pred_indices = y_pred.max(dim=1)\n",
        "#following the same steps in original code\n",
        "correct_indices = torch.eq(y_pred_indices, y_true)\n",
        "valid_indices = torch.ne(y_true, mask_index)\n",
        "correct_indices=correct_indices.view(128,19)\n",
        "valid_indices=valid_indices.view(128,19)\n",
        "#making a dictionary to add up all accuracies for each character in all samples\n",
        "sum_char=collections.defaultdict(int)\n",
        "\n",
        "n_correct=(correct_indices[:,0].float()*valid_indices[:,0].float()).sum().item()\n",
        "n_valid=valid_indices[:,0].float().sum().item()\n",
        "\n",
        "#array to save the final average\n",
        "array2=[]\n",
        "\n",
        "for i in range(19):\n",
        "  n_correct=(correct_indices[:,i].float()*valid_indices[:,i].float()).sum().item()\n",
        "  n_valid=valid_indices[:,i].float().sum().item()\n",
        "\n",
        "  if n_correct<=1 and n_correct<=1:\n",
        "    array2.append(100)\n",
        "  else:\n",
        "    array2.append(n_correct/(n_valid)*100)\n",
        "\n",
        "print(array2)"
      ],
      "execution_count": 119,
      "outputs": [
        {
          "output_type": "stream",
          "text": [
            "[10.15625, 17.96875, 4.6875, 8.73015873015873, 9.090909090909092, 15.315315315315313, 25.0, 42.25352112676056, 38.095238095238095, 30.76923076923077, 44.44444444444444, 60.0, 100.0, 100, 100, 100, 100, 100, 100]\n"
          ],
          "name": "stdout"
        }
      ]
    },
    {
      "cell_type": "markdown",
      "metadata": {
        "id": "QoVaC5qHMEMC"
      },
      "source": [
        "## Inference\n",
        "To see the names that the model generates:"
      ]
    },
    {
      "cell_type": "code",
      "metadata": {
        "colab": {
          "base_uri": "https://localhost:8080/"
        },
        "id": "e0Cp6sefMIUd",
        "outputId": "c608af3f-9e66-4d16-b6b6-6839c59e271a"
      },
      "source": [
        "# number of names to generate\n",
        "num_names = 10\n",
        "model = model.cpu()\n",
        "# Generate nationality hidden state\n",
        "sampled_surnames = decode_samples(\n",
        "    sample_from_model(model, vectorizer, num_samples=num_names), \n",
        "    vectorizer)\n",
        "# Show results\n",
        "print (\"-\"*15)\n",
        "for i in range(num_names):\n",
        "    print (sampled_surnames[i])"
      ],
      "execution_count": 117,
      "outputs": [
        {
          "output_type": "stream",
          "text": [
            "---------------\n",
            "Aoereyrukd\n",
            "Evdnsa\n",
            "Lou\n",
            "Hoê\n",
            "Mryaao\n",
            "Hrokyhti\n",
            "Kakidrtt\n",
            "Haljo\n",
            "Bonkhiaatno\n",
            "Kai\n"
          ],
          "name": "stdout"
        }
      ]
    },
    {
      "cell_type": "markdown",
      "metadata": {
        "id": "rna0nW23MMI5"
      },
      "source": [
        "**TODO**: Train the GRU model given above multiple times for different levels of `rnn_hidden_size`. For each of these models, plot the average perplexity as a function of the number of characters of the name observed so far. Explain your observations."
      ]
    },
    {
      "cell_type": "code",
      "metadata": {
        "id": "fNXiObrIqcxn"
      },
      "source": [
        "#these numbers are the result of changing the rnn size, _number indicates the size\n",
        "perplex_2=[1.489671525127142, 1.3621895177048202, 1.3608732283724683, 1.3658805538383052, 1.3419343993012065, 1.3451225391737462, 1.2628806722040768, 1.1910238292369568, 1.1960240364620134, 1.071581657351805, 1.0255024617838224, 1.0208172706803271, 1.012244012068921, 1.012947141057863, 1.0, 1.0, 1.0, 1.0, 1.0]\n",
        "perplex_3=[1.4542813795360545, 1.2885177313109617, 1.4341591608212994, 1.402610818838211, 1.3184224211406832, 1.3563371487684517, 1.2435774743030026, 1.1546553012893277, 1.0925371848703669, 1.0173685855478314, 1.0, 1.0, 1.0, 1.0, 1.0, 1.0, 1.0, 1.0, 1.0]\n",
        "perplex_4=[1.4062597399617625, 1.3330298009987398, 1.3754004664025754, 1.386251018234484, 1.302790610034732, 1.2441376037172014, 1.1803756873380795, 1.0876212538801793, 1.0326269920636182, 1.0187816618795307, 1.004699113892108, 1.0, 1.0, 1.0, 1.0, 1.0, 1.0, 1.0, 1.0]\n",
        "perplex_8= [1.3796550751251913,1.2337345705243767, 1.3686483542523569, 1.352187031405532, 1.2863526995640941,1.3221248546913964, 1.2820658585523763, 1.1554332379437122, 1.092944415598672,1.0681427637320002, 1.020535114118293, 1.022091500704106, 1.0215047096372418,1.0091926795623982, 1.0, 1.0, 1.0, 1.0, 1.0]\n",
        "perplex_12=[1.3413757460430336, 1.3244590987145413, 1.3111965373006471, 1.3870858934438328, 1.2982008600931385, 1.2239544712594683, 1.164047908431632, 1.1071931883498358, 1.077211592573045, 1.0535566324341301, 1.0136144996161132, 1.0124176872166073, 1.0028692673307413, 1.0, 1.0, 1.0, 1.0, 1.0, 1.0]\n",
        "perplex_16=[1.3512476960711195, 1.2601728358095585, 1.340157602479801, 1.3538397556916146, 1.3655963533345163, 1.2555499230364136, 1.191938479467736, 1.1331005790166546, 1.051942752325747, 1.0410259935477, 1.0203282523096178, 1.00544844915301, 1.0, 1.0, 1.0, 1.0, 1.0, 1.0, 1.0]\n",
        "perplex_20=[1.3714015659246261, 1.2123681494054004, 1.3574470504608735, 1.3272099191877522, 1.3240532181669729, 1.3479077011578227, 1.207178981067097, 1.0560396342378555, 1.0492725929343472, 1.0208831696966314, 1.0019857197896636, 1.0091052048567215, 1.0, 1.0, 1.0, 1.0, 1.0, 1.0, 1.0]\n",
        "perplex_32=[1.3693218548358852, 1.3034494019969733,1.2993963555105248, 1.344851709226716, 1.3152711685122744, 1.2272038578579672,1.1179164262890369, 1.0679714230729542, 1.012973518451812, 1.030459908717184,1.0405237048488885, 1.0024140354916986, 1.0041361611396649, 1.0, 1.0, 1.0, 1.0,1.0, 1.0]\n",
        "perplex_40=[1.3490522127005722, 1.2075534996512094, 1.3581790350878216, 1.3050767252388968, 1.355766984017641, 1.2006675639484043, 1.1545044282732384, 1.1041318879028197, 1.065263726934363, 1.0437090217530223, 1.0094076021996168, 1.0303036501805585, 1.0194860046032488, 1.013250040844631, 1.0021429545406673, 1.0, 1.0, 1.0, 1.0]\n",
        "perplex_50=[1.3654661040662421, 1.2337546050696415, 1.3216017445373338, 1.3157741123010107, 1.240449346342775, 1.2642965027684783, 1.212989288429832, 1.1526496781532476, 1.0593580405237366, 1.01433749220229, 1.0090242170237134, 1.0130722126834757, 1.0025613739683568, 1.0015273508793987, 1.0, 1.0, 1.0, 1.0, 1.0]\n"
      ],
      "execution_count": 112,
      "outputs": []
    },
    {
      "cell_type": "code",
      "metadata": {
        "id": "UtsqVn9Sq2sP"
      },
      "source": [
        "#these numbers are the result of changing the rnn size, _number indicates the size\n",
        "acc_2=[5.46875, 31.25, 8.59375, 11.904761904761903, 9.917355371900827, 12.612612612612612, 12.371134020618557, 23.684210526315788, 15.09433962264151, 18.181818181818183, 43.75, 50.0, 100, 100, 100, 100, 100, 100, 100]\n",
        "acc_3=[7.03125, 29.6875, 5.46875, 10.15625, 11.29032258064516, 19.130434782608695, 26.666666666666668, 25.862068965517242, 35.8974358974359, 43.47826086956522, 53.84615384615385, 40.0, 66.66666666666666, 100, 100, 100, 100, 100, 100]\n",
        "acc_4=[10.15624920654303, 17.968748596191517,4.687499633789091, 8.730158037289044, 9.090908339594352, 15.315313935557304,24.999997395833603, 42.25351517556124, 38.09522902494547, 30.76921893491579,44.44441975310014, 59.99994000006, 99.99975000062501, 100, 100, 100, 100, 100,100]\n",
        "acc_8=[4.6875, 25.78125, 10.9375, 10.15625, 12.903225806451612, 20.869565217391305, 27.083333333333332, 41.0958904109589, 47.61904761904761, 40.909090909090914, 54.54545454545454, 80.0, 100, 100.0, 100, 100, 100, 100, 100]\n",
        "acc_12=[5.46875, 25.78125, 11.71875, 12.5, 26.82926829268293, 18.095238095238095, 25.842696629213485, 41.37931034482759, 45.714285714285715, 50.0, 66.66666666666666, 50.0, 50.0, 100, 100.0, 100, 100, 100, 100]\n",
        "acc_16=[12.5, 30.46875, 21.09375, 6.299212598425196, 22.22222222222222, 26.956521739130434, 32.608695652173914, 50.0, 44.44444444444444, 52.17391304347826, 63.63636363636363, 100.0, 100, 100, 100, 100, 100, 100, 100]\n",
        "acc_20=[7.8125, 32.8125, 15.625, 11.811023622047244, 21.311475409836063, 26.08695652173913, 32.29166666666667, 41.269841269841265, 40.909090909090914, 33.33333333333333, 64.28571428571429, 50.0, 100.0, 100, 100, 100, 100, 100, 100]\n",
        "acc_32=[11.71875, 33.59375, 19.53125, 21.6, 26.01626016260163, 28.947368421052634, 36.36363636363637, 47.22222222222222, 47.82608695652174, 61.29032258064516, 38.46153846153847, 55.55555555555556, 25.0, 100, 100, 100, 100, 100, 100]\n",
        "acc_40=[7.8125, 44.53125, 14.84375, 19.68503937007874, 25.0, 27.927927927927925, 45.55555555555556, 52.54237288135594, 52.63157894736842, 66.66666666666666, 66.66666666666666, 100, 100, 100.0, 100.0, 100, 100, 100, 100]\n",
        "acc_50=[6.25, 32.8125, 13.28125, 19.047619047619047, 25.40983606557377, 32.17391304347826, 42.5531914893617, 42.028985507246375, 56.25, 64.51612903225806, 78.94736842105263, 42.857142857142854, 60.0, 66.66666666666666, 100.0, 100, 100, 100, 100]\n"
      ],
      "execution_count": 113,
      "outputs": []
    },
    {
      "cell_type": "markdown",
      "metadata": {
        "id": "okIJla7Uq3Mj"
      },
      "source": [
        ""
      ]
    },
    {
      "cell_type": "code",
      "metadata": {
        "colab": {
          "base_uri": "https://localhost:8080/",
          "height": 279
        },
        "id": "dHMPggQZ1Vfr",
        "outputId": "6634ae3b-cc5a-42ba-c835-d03dc67c1c82"
      },
      "source": [
        "import matplotlib.pyplot as plt\n",
        "x_ax=[1,2,3,4,5,6,7,8,9,10,11,12,13,14,15,16,17,18,19]\n",
        "plt.plot(x_ax,perplex_2,marker=\"o\",color='black', label=\"rnn = 2\")\n",
        "plt.plot(x_ax,perplex_3,marker=\"o\",color='dimgray', label=\"rnn = 3\")\n",
        "plt.plot(x_ax,perplex_4,marker=\"o\",color='dimgrey', label=\"rnn = 4\")\n",
        "plt.plot(x_ax,perplex_8,marker=\"o\",color='gray', label=\"rnn = 8\")\n",
        "plt.plot(x_ax,perplex_12,marker=\"o\",color='grey', label=\"rnn = 12\")\n",
        "plt.plot(x_ax,perplex_16,marker=\"o\",color='darkgray', label=\"rnn = 16\")\n",
        "plt.plot(x_ax,perplex_20,marker=\"o\",color='darkgrey', label=\"rnn = 20\")\n",
        "plt.plot(x_ax,perplex_32,marker=\"o\",color='silver', label=\"rnn = 32\")\n",
        "plt.plot(x_ax,perplex_40,marker=\"o\",color='lightgray', label=\"rnn = 40\")\n",
        "plt.plot(x_ax,perplex_50,marker=\"o\",color='lightgrey', label=\"rnn = 50\")\n",
        "plt.legend(loc=\"upper right\")\n",
        "plt.ylabel('Perplexity')\n",
        "plt.xlabel('Characters')\n",
        "plt.xticks(x_ax,x_ax)\n",
        "plt.show()\n"
      ],
      "execution_count": 114,
      "outputs": [
        {
          "output_type": "display_data",
          "data": {
            "image/png": "[encoded data removed]",
            "text/plain": [
              "<Figure size 432x288 with 1 Axes>"
            ]
          },
          "metadata": {
            "tags": [],
            "needs_background": "light"
          }
        }
      ]
    },
    {
      "cell_type": "code",
      "metadata": {
        "colab": {
          "base_uri": "https://localhost:8080/",
          "height": 279
        },
        "id": "eW87H8ADtYYG",
        "outputId": "821ced01-ad74-45c6-8ecb-cbcf22d8ba39"
      },
      "source": [
        "import matplotlib.pyplot as plt\n",
        "x_ax=[1,2,3,4,5,6,7,8,9,10,11,12,13,14,15,16,17,18,19]\n",
        "fig = plt.figure()\n",
        "plt.plot(x_ax,acc_2,marker=\"o\",color='black', label=\"rnn = 2\")\n",
        "plt.plot(x_ax,acc_3,marker=\"o\",color='dimgray', label=\"rnn = 3\")\n",
        "plt.plot(x_ax,acc_4,marker=\"o\",color='dimgrey', label=\"rnn = 4\")\n",
        "plt.plot(x_ax,acc_8,marker=\"o\",color='gray', label=\"rnn = 8\")\n",
        "plt.plot(x_ax,acc_12,marker=\"o\",color='grey', label=\"rnn = 12\")\n",
        "plt.plot(x_ax,acc_16,marker=\"o\",color='darkgray', label=\"rnn = 16\")\n",
        "plt.plot(x_ax,acc_20,marker=\"o\",color='darkgrey', label=\"rnn = 20\")\n",
        "plt.plot(x_ax,acc_32,marker=\"o\",color='silver', label=\"rnn = 32\")\n",
        "plt.plot(x_ax,acc_40,marker=\"o\",color='lightgray', label=\"rnn = 40\")\n",
        "plt.plot(x_ax,acc_50,marker=\"o\",color='lightgrey', label=\"rnn = 50\")\n",
        "plt.legend(loc=\"upper right\")\n",
        "plt.ylabel('Accuracy (%)')\n",
        "plt.xlabel('Characters')\n",
        "plt.xticks(x_ax,x_ax)\n",
        "plt.show()"
      ],
      "execution_count": 116,
      "outputs": [
        {
          "output_type": "display_data",
          "data": {
            "image/png": "[encoded data removed]",
            "text/plain": [
              "<Figure size 432x288 with 1 Axes>"
            ]
          },
          "metadata": {
            "tags": [],
            "needs_background": "light"
          }
        }
      ]
    },
    {
      "cell_type": "code",
      "metadata": {
        "id": "DMcM9EoNQDKo"
      },
      "source": [
        "Explanation:"
      ],
      "execution_count": null,
      "outputs": []
    },
    {
      "cell_type": "markdown",
      "metadata": {
        "id": "1c2skBPjNIge"
      },
      "source": [
        "\n",
        "The results clearly show that by increasing the number of rnn hidden layers the perplexity for each character decreases which means that the model is able to learn the language better, in other words higher hidden layes make the model more complex and such complexity helps the model to learn more details from the language. However, after adding up to 20 hidden layers the performance does not improve much anymore, it would be better to stop 1t 20 layesr since higher values takes much longer time to be trained while the preformance does not change. The worst results are for hidden layer size=2 and the best results are for hidden layer=50.\n",
        "\n",
        "The same result can be seen in accuracy, adding more layesr help to improve the accuray at each of the 19 character positions. There are some drops and jumps in the plot and the reason is that i had to decrease number of empochs from 100 to 50 and the learning rate from 0.001 to 0.005 in order to prevent my code from crashing. \n",
        "\n",
        "In terms of perplexity at each character it is clear that by adding more characters, model does a better job at predicting the next character, the accuracy of such predictions also improves.\n",
        "\n",
        "When the model reaches to the last character which is less than 19, the rest of the prediction has 100% accuracy and perplexity of 1. \n",
        "\n",
        "\n"
      ]
    }
  ]
}