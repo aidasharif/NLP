{
  "nbformat": 4,
  "nbformat_minor": 0,
  "metadata": {
    "colab": {
      "name": "ner-decoder.ipynb",
      "provenance": [],
      "collapsed_sections": [],
      "include_colab_link": true
    },
    "kernelspec": {
      "name": "python3",
      "display_name": "Python 3"
    },
    "accelerator": "GPU"
  },
  "cells": [
    {
      "cell_type": "markdown",
      "metadata": {
        "id": "view-in-github",
        "colab_type": "text"
      },
      "source": [
        "<a href=\"https://colab.research.google.com/github/NULabTMN/hw3-aidasharif1365/blob/master/ner_decoder.ipynb\" target=\"_parent\"><img src=\"https://colab.research.google.com/assets/colab-badge.svg\" alt=\"Open In Colab\"/></a>"
      ]
    },
    {
      "cell_type": "markdown",
      "metadata": {
        "id": "IsY0LJOIT_cG"
      },
      "source": [
        "# Implementing a Viterbi Decoder and Evaluation for Sequence Labeling\n",
        "\n",
        "In this assignment, you will build a Viterbi decoder for an LSTM named-entity recognition model. As we mentioned in class, recurrent and bidirectional recurrent neural networks, of which LSTMs are the most common examples, can be used to perform sequence labeling. Although these models encode information from the surrounding words in order to make predictions, there are no \"hard\" constraints on what tags can appear where.\n",
        "\n",
        "There hard constraints are particularly important for tasks that label spans of more than one token. The most common example of a span-labeling task is named-entity recognition (NER). As described in Eisenstein, Jurafksy & Martin, and other texts, the goal of NER is to label spans of one or more words as _mentions_ of an _entity_, such as a person, location, organization, etc.\n",
        "\n",
        "The most common approach to NER is to reduce it to a sequence-labeling task, where each token in the input is labeled either with an `O`, if it is \"outside\" any named-entity span, or with `B-TYPE`, if it is the first token in an entity of type `TYPE`, or with `I-TYPE`, if it is the second or later token in an entity of type `TYPE`. Distinguishing between the first and later tokens of an entity allow us to identify distinct entity spans even when they are adjacent.\n",
        "\n",
        "Common values of `TYPE` include `PER` for person, `LOC` for location, `DATE` for date, and so on. In the dataset we load below, there are 17 distinct types.\n",
        "\n",
        "The span-labeling scheme just described implies that the labels on tokens must obey certain constraints: the tag `I-PER` must follow either `B-PER` or another `I-PER`. It cannot follow `O`, `B-LOC`, or `I-LOC`, i.e., a tag for a different entity type. By themselves, LSTMs or bidirectional LSTMs cannot directly enforce these constraints. This is one reason why conditional random fields (CRFs), which _can_ enforce these constraints, are often layered on top of these recurrent models.\n",
        "\n",
        "In this assignment, you will implement the simplest possible CRF: a CRF so simple that it does not require any training. Rather, it will assign weight 1 to any sequence of tags that obeys the constraints and weight 0 to any sequence of tags that violates them. The inputs to the CRF, which are analogous to the emission probabilities in an HMM, will come from an LSTM.\n",
        "\n",
        "But first, in order to test your decoder, you will also implement some functions to evaluate the output of an NER system according to two metrics:\n",
        "1. You will count the number of _violations_ of the NER label constraints, i.e., how many times `I-TYPE` follows `O` or a tag of a different type or occurs at the beginning of a sentence. This number will be greater than 0 in the raw LSTM output, but should be 0 for your CRF output.\n",
        "1. You will compute the _span-level_ precision, recall, and F1 of NER output. Although the baseline LSTM was trained to achieve high _token-level_ accuracy, this metric can be misleadingly high, since so many tokens are correctly labeled `O`. In other words, what proportion of spans predicted by the model line up exactly with spans in the gold standard, and what proportion of spans in the gold standard were predicted by the model? Define _span_ as a sequence of tags that starts with a `B-TYPE` followed by zero or more `I-TYPE` tags. Sequences solely of `I-TYPE` tags don't count as spans.For more, see the original task definition: https://www.aclweb.org/anthology/W03-0419/.\n",
        "\n",
        "We start with loading some code and data and the describe your tasks in more detail."
      ]
    },
    {
      "cell_type": "markdown",
      "metadata": {
        "id": "Dhnn49QEU_Ik"
      },
      "source": [
        "## Set Up Dependencies and Definitions"
      ]
    },
    {
      "cell_type": "code",
      "metadata": {
        "id": "QJINX1MwOLBT",
        "colab": {
          "base_uri": "https://localhost:8080/"
        },
        "outputId": "93c05fb2-1cf6-4efe-965c-10be4a6b8b4a"
      },
      "source": [
        "!pip install --upgrade spacy==2.1.0 allennlp==0.9.0\n",
        "import spacy"
      ],
      "execution_count": 1,
      "outputs": [
        {
          "output_type": "stream",
          "text": [
            "Collecting spacy==2.1.0\n",
            "\u001b[?25l  Downloading https://files.pythonhosted.org/packages/78/0f/ca790def675011f25bce8775cf9002b5085cd2288f85e891f70b32c18752/spacy-2.1.0-cp37-cp37m-manylinux1_x86_64.whl (27.7MB)\n",
            "\u001b[K     |████████████████████████████████| 27.7MB 117kB/s \n",
            "\u001b[?25hCollecting allennlp==0.9.0\n",
            "\u001b[?25l  Downloading https://files.pythonhosted.org/packages/bb/bb/041115d8bad1447080e5d1e30097c95e4b66e36074277afce8620a61cee3/allennlp-0.9.0-py3-none-any.whl (7.6MB)\n",
            "\u001b[K     |████████████████████████████████| 7.6MB 19.0MB/s \n",
            "\u001b[?25hRequirement already satisfied, skipping upgrade: murmurhash<1.1.0,>=0.28.0 in /usr/local/lib/python3.7/dist-packages (from spacy==2.1.0) (1.0.5)\n",
            "Requirement already satisfied, skipping upgrade: wasabi<1.1.0,>=0.0.12 in /usr/local/lib/python3.7/dist-packages (from spacy==2.1.0) (0.8.2)\n",
            "Collecting thinc<7.1.0,>=7.0.2\n",
            "\u001b[?25l  Downloading https://files.pythonhosted.org/packages/36/42/d7ea7539af3852fd8c1f0b3adf4a100fb3d72b40b69cef1a764ff979a743/thinc-7.0.8-cp37-cp37m-manylinux1_x86_64.whl (2.1MB)\n",
            "\u001b[K     |████████████████████████████████| 2.1MB 51.7MB/s \n",
            "\u001b[?25hCollecting preshed<2.1.0,>=2.0.1\n",
            "\u001b[?25l  Downloading https://files.pythonhosted.org/packages/bc/2b/3ecd5d90d2d6fd39fbc520de7d80db5d74defdc2d7c2e15531d9cc3498c7/preshed-2.0.1-cp37-cp37m-manylinux1_x86_64.whl (82kB)\n",
            "\u001b[K     |████████████████████████████████| 92kB 10.8MB/s \n",
            "\u001b[?25hRequirement already satisfied, skipping upgrade: numpy>=1.15.0 in /usr/local/lib/python3.7/dist-packages (from spacy==2.1.0) (1.19.5)\n",
            "Requirement already satisfied, skipping upgrade: srsly<1.1.0,>=0.0.5 in /usr/local/lib/python3.7/dist-packages (from spacy==2.1.0) (1.0.5)\n",
            "Requirement already satisfied, skipping upgrade: cymem<2.1.0,>=2.0.2 in /usr/local/lib/python3.7/dist-packages (from spacy==2.1.0) (2.0.5)\n",
            "Requirement already satisfied, skipping upgrade: jsonschema<3.0.0,>=2.6.0 in /usr/local/lib/python3.7/dist-packages (from spacy==2.1.0) (2.6.0)\n",
            "Collecting plac<1.0.0,>=0.9.6\n",
            "  Downloading https://files.pythonhosted.org/packages/9e/9b/62c60d2f5bc135d2aa1d8c8a86aaf84edb719a59c7f11a4316259e61a298/plac-0.9.6-py2.py3-none-any.whl\n",
            "Requirement already satisfied, skipping upgrade: requests<3.0.0,>=2.13.0 in /usr/local/lib/python3.7/dist-packages (from spacy==2.1.0) (2.23.0)\n",
            "Collecting blis<0.3.0,>=0.2.2\n",
            "\u001b[?25l  Downloading https://files.pythonhosted.org/packages/fa/5f/47b7b29ad202b2210020e2f33bfb06d1db2abe0e709c2a84736e8a9d1bd5/blis-0.2.4-cp37-cp37m-manylinux1_x86_64.whl (3.2MB)\n",
            "\u001b[K     |████████████████████████████████| 3.2MB 45.7MB/s \n",
            "\u001b[?25hCollecting ftfy\n",
            "\u001b[?25l  Downloading https://files.pythonhosted.org/packages/04/06/e5c80e2e0f979628d47345efba51f7ba386fe95963b11c594209085f5a9b/ftfy-5.9.tar.gz (66kB)\n",
            "\u001b[K     |████████████████████████████████| 71kB 10.5MB/s \n",
            "\u001b[?25hCollecting flask-cors>=3.0.7\n",
            "  Downloading https://files.pythonhosted.org/packages/db/84/901e700de86604b1c4ef4b57110d4e947c218b9997adf5d38fa7da493bce/Flask_Cors-3.0.10-py2.py3-none-any.whl\n",
            "Collecting boto3\n",
            "\u001b[?25l  Downloading https://files.pythonhosted.org/packages/c9/98/b79af68b6800f8f46893a6f7d8ec733db53583019f2e3a5fa765dc5157a2/boto3-1.17.37.tar.gz (99kB)\n",
            "\u001b[K     |████████████████████████████████| 102kB 13.3MB/s \n",
            "\u001b[?25hCollecting gevent>=1.3.6\n",
            "\u001b[?25l  Downloading https://files.pythonhosted.org/packages/3e/85/df3d1fd2b60a87455475f93012861b76a411d27ba4a0859939adbe2c9dc3/gevent-21.1.2-cp37-cp37m-manylinux2010_x86_64.whl (5.6MB)\n",
            "\u001b[K     |████████████████████████████████| 5.6MB 42.6MB/s \n",
            "\u001b[?25hRequirement already satisfied, skipping upgrade: scikit-learn in /usr/local/lib/python3.7/dist-packages (from allennlp==0.9.0) (0.22.2.post1)\n",
            "Requirement already satisfied, skipping upgrade: editdistance in /usr/local/lib/python3.7/dist-packages (from allennlp==0.9.0) (0.5.3)\n",
            "Requirement already satisfied, skipping upgrade: torch>=1.2.0 in /usr/local/lib/python3.7/dist-packages (from allennlp==0.9.0) (1.8.0+cu101)\n",
            "Collecting unidecode\n",
            "\u001b[?25l  Downloading https://files.pythonhosted.org/packages/9e/25/723487ca2a52ebcee88a34d7d1f5a4b80b793f179ee0f62d5371938dfa01/Unidecode-1.2.0-py2.py3-none-any.whl (241kB)\n",
            "\u001b[K     |████████████████████████████████| 245kB 56.0MB/s \n",
            "\u001b[?25hCollecting word2number>=1.1\n",
            "  Downloading https://files.pythonhosted.org/packages/4a/29/a31940c848521f0725f0df6b25dca8917f13a2025b0e8fcbe5d0457e45e6/word2number-1.1.zip\n",
            "Requirement already satisfied, skipping upgrade: matplotlib>=2.2.3 in /usr/local/lib/python3.7/dist-packages (from allennlp==0.9.0) (3.2.2)\n",
            "Collecting flaky\n",
            "  Downloading https://files.pythonhosted.org/packages/43/0e/2f50064e327f41a1eb811df089f813036e19a64b95e33f8e9e0b96c2447e/flaky-3.7.0-py2.py3-none-any.whl\n",
            "Collecting conllu==1.3.1\n",
            "  Downloading https://files.pythonhosted.org/packages/ae/54/b0ae1199f3d01666821b028cd967f7c0ac527ab162af433d3da69242cea2/conllu-1.3.1-py2.py3-none-any.whl\n",
            "Requirement already satisfied, skipping upgrade: tqdm>=4.19 in /usr/local/lib/python3.7/dist-packages (from allennlp==0.9.0) (4.41.1)\n",
            "Collecting pytorch-transformers==1.1.0\n",
            "\u001b[?25l  Downloading https://files.pythonhosted.org/packages/50/89/ad0d6bb932d0a51793eaabcf1617a36ff530dc9ab9e38f765a35dc293306/pytorch_transformers-1.1.0-py3-none-any.whl (158kB)\n",
            "\u001b[K     |████████████████████████████████| 163kB 43.0MB/s \n",
            "\u001b[?25hRequirement already satisfied, skipping upgrade: pytest in /usr/local/lib/python3.7/dist-packages (from allennlp==0.9.0) (3.6.4)\n",
            "Collecting jsonnet>=0.10.0; sys_platform != \"win32\"\n",
            "\u001b[?25l  Downloading https://files.pythonhosted.org/packages/42/40/6f16e5ac994b16fa71c24310f97174ce07d3a97b433275589265c6b94d2b/jsonnet-0.17.0.tar.gz (259kB)\n",
            "\u001b[K     |████████████████████████████████| 266kB 54.1MB/s \n",
            "\u001b[?25hRequirement already satisfied, skipping upgrade: sqlparse>=0.2.4 in /usr/local/lib/python3.7/dist-packages (from allennlp==0.9.0) (0.4.1)\n",
            "Requirement already satisfied, skipping upgrade: h5py in /usr/local/lib/python3.7/dist-packages (from allennlp==0.9.0) (2.10.0)\n",
            "Collecting responses>=0.7\n",
            "  Downloading https://files.pythonhosted.org/packages/b1/a1/162c90162e0f4539534b6ce6d723c4c07be8ad38c1cb975d7c63128502e0/responses-0.13.1-py2.py3-none-any.whl\n",
            "Collecting tensorboardX>=1.2\n",
            "\u001b[?25l  Downloading https://files.pythonhosted.org/packages/af/0c/4f41bcd45db376e6fe5c619c01100e9b7531c55791b7244815bac6eac32c/tensorboardX-2.1-py2.py3-none-any.whl (308kB)\n",
            "\u001b[K     |████████████████████████████████| 317kB 51.6MB/s \n",
            "\u001b[?25hCollecting parsimonious>=0.8.0\n",
            "\u001b[?25l  Downloading https://files.pythonhosted.org/packages/02/fc/067a3f89869a41009e1a7cdfb14725f8ddd246f30f63c645e8ef8a1c56f4/parsimonious-0.8.1.tar.gz (45kB)\n",
            "\u001b[K     |████████████████████████████████| 51kB 9.1MB/s \n",
            "\u001b[?25hCollecting jsonpickle\n",
            "  Downloading https://files.pythonhosted.org/packages/bb/1a/f2db026d4d682303793559f1c2bb425ba3ec0d6fd7ac63397790443f2461/jsonpickle-2.0.0-py2.py3-none-any.whl\n",
            "Requirement already satisfied, skipping upgrade: pytz>=2017.3 in /usr/local/lib/python3.7/dist-packages (from allennlp==0.9.0) (2018.9)\n",
            "Requirement already satisfied, skipping upgrade: nltk in /usr/local/lib/python3.7/dist-packages (from allennlp==0.9.0) (3.2.5)\n",
            "Requirement already satisfied, skipping upgrade: flask>=1.0.2 in /usr/local/lib/python3.7/dist-packages (from allennlp==0.9.0) (1.1.2)\n",
            "Requirement already satisfied, skipping upgrade: scipy in /usr/local/lib/python3.7/dist-packages (from allennlp==0.9.0) (1.4.1)\n",
            "Collecting numpydoc>=0.8.0\n",
            "\u001b[?25l  Downloading https://files.pythonhosted.org/packages/60/1d/9e398c53d6ae27d5ab312ddc16a9ffe1bee0dfdf1d6ec88c40b0ca97582e/numpydoc-1.1.0-py3-none-any.whl (47kB)\n",
            "\u001b[K     |████████████████████████████████| 51kB 8.3MB/s \n",
            "\u001b[?25hCollecting overrides\n",
            "  Downloading https://files.pythonhosted.org/packages/ff/b1/10f69c00947518e6676bbd43e739733048de64b8dd998e9c2d5a71f44c5d/overrides-3.1.0.tar.gz\n",
            "Collecting pytorch-pretrained-bert>=0.6.0\n",
            "\u001b[?25l  Downloading https://files.pythonhosted.org/packages/d7/e0/c08d5553b89973d9a240605b9c12404bcf8227590de62bae27acbcfe076b/pytorch_pretrained_bert-0.6.2-py3-none-any.whl (123kB)\n",
            "\u001b[K     |████████████████████████████████| 133kB 55.6MB/s \n",
            "\u001b[?25hRequirement already satisfied, skipping upgrade: chardet<4,>=3.0.2 in /usr/local/lib/python3.7/dist-packages (from requests<3.0.0,>=2.13.0->spacy==2.1.0) (3.0.4)\n",
            "Requirement already satisfied, skipping upgrade: certifi>=2017.4.17 in /usr/local/lib/python3.7/dist-packages (from requests<3.0.0,>=2.13.0->spacy==2.1.0) (2020.12.5)\n",
            "Requirement already satisfied, skipping upgrade: urllib3!=1.25.0,!=1.25.1,<1.26,>=1.21.1 in /usr/local/lib/python3.7/dist-packages (from requests<3.0.0,>=2.13.0->spacy==2.1.0) (1.24.3)\n",
            "Requirement already satisfied, skipping upgrade: idna<3,>=2.5 in /usr/local/lib/python3.7/dist-packages (from requests<3.0.0,>=2.13.0->spacy==2.1.0) (2.10)\n",
            "Requirement already satisfied, skipping upgrade: wcwidth in /usr/local/lib/python3.7/dist-packages (from ftfy->allennlp==0.9.0) (0.2.5)\n",
            "Requirement already satisfied, skipping upgrade: Six in /usr/local/lib/python3.7/dist-packages (from flask-cors>=3.0.7->allennlp==0.9.0) (1.15.0)\n",
            "Collecting botocore<1.21.0,>=1.20.37\n",
            "\u001b[?25l  Downloading https://files.pythonhosted.org/packages/0d/a7/d363c5e245e79e789094a289acb4935bc953f9f2ce6fd8cda34cfc41cbb9/botocore-1.20.37-py2.py3-none-any.whl (7.3MB)\n",
            "\u001b[K     |████████████████████████████████| 7.3MB 42.5MB/s \n",
            "\u001b[?25hCollecting jmespath<1.0.0,>=0.7.1\n",
            "  Downloading https://files.pythonhosted.org/packages/07/cb/5f001272b6faeb23c1c9e0acc04d48eaaf5c862c17709d20e3469c6e0139/jmespath-0.10.0-py2.py3-none-any.whl\n",
            "Collecting s3transfer<0.4.0,>=0.3.0\n",
            "\u001b[?25l  Downloading https://files.pythonhosted.org/packages/98/14/0b4be62b65c52d6d1c442f24e02d2a9889a73d3c352002e14c70f84a679f/s3transfer-0.3.6-py2.py3-none-any.whl (73kB)\n",
            "\u001b[K     |████████████████████████████████| 81kB 11.0MB/s \n",
            "\u001b[?25hCollecting zope.event\n",
            "  Downloading https://files.pythonhosted.org/packages/9e/85/b45408c64f3b888976f1d5b37eed8d746b8d5729a66a49ec846fda27d371/zope.event-4.5.0-py2.py3-none-any.whl\n",
            "Collecting zope.interface\n",
            "\u001b[?25l  Downloading https://files.pythonhosted.org/packages/89/57/8a68360d697cf9159cba5ee35f2d25bdcda33883e8b5a997714a191a0b11/zope.interface-5.3.0-cp37-cp37m-manylinux2010_x86_64.whl (248kB)\n",
            "\u001b[K     |████████████████████████████████| 256kB 56.5MB/s \n",
            "\u001b[?25hCollecting greenlet<2.0,>=0.4.17; platform_python_implementation == \"CPython\"\n",
            "\u001b[?25l  Downloading https://files.pythonhosted.org/packages/c6/25/f52f0dde4135833c2f85eae30a749d260231065b46942534df8366d7e1ec/greenlet-1.0.0-cp37-cp37m-manylinux2010_x86_64.whl (160kB)\n",
            "\u001b[K     |████████████████████████████████| 163kB 59.0MB/s \n",
            "\u001b[?25hRequirement already satisfied, skipping upgrade: setuptools in /usr/local/lib/python3.7/dist-packages (from gevent>=1.3.6->allennlp==0.9.0) (54.1.2)\n",
            "Requirement already satisfied, skipping upgrade: joblib>=0.11 in /usr/local/lib/python3.7/dist-packages (from scikit-learn->allennlp==0.9.0) (1.0.1)\n",
            "Requirement already satisfied, skipping upgrade: typing-extensions in /usr/local/lib/python3.7/dist-packages (from torch>=1.2.0->allennlp==0.9.0) (3.7.4.3)\n",
            "Requirement already satisfied, skipping upgrade: cycler>=0.10 in /usr/local/lib/python3.7/dist-packages (from matplotlib>=2.2.3->allennlp==0.9.0) (0.10.0)\n",
            "Requirement already satisfied, skipping upgrade: python-dateutil>=2.1 in /usr/local/lib/python3.7/dist-packages (from matplotlib>=2.2.3->allennlp==0.9.0) (2.8.1)\n",
            "Requirement already satisfied, skipping upgrade: kiwisolver>=1.0.1 in /usr/local/lib/python3.7/dist-packages (from matplotlib>=2.2.3->allennlp==0.9.0) (1.3.1)\n",
            "Requirement already satisfied, skipping upgrade: pyparsing!=2.0.4,!=2.1.2,!=2.1.6,>=2.0.1 in /usr/local/lib/python3.7/dist-packages (from matplotlib>=2.2.3->allennlp==0.9.0) (2.4.7)\n",
            "Collecting sentencepiece\n",
            "\u001b[?25l  Downloading https://files.pythonhosted.org/packages/f5/99/e0808cb947ba10f575839c43e8fafc9cc44e4a7a2c8f79c60db48220a577/sentencepiece-0.1.95-cp37-cp37m-manylinux2014_x86_64.whl (1.2MB)\n",
            "\u001b[K     |████████████████████████████████| 1.2MB 42.5MB/s \n",
            "\u001b[?25hRequirement already satisfied, skipping upgrade: regex in /usr/local/lib/python3.7/dist-packages (from pytorch-transformers==1.1.0->allennlp==0.9.0) (2019.12.20)\n",
            "Requirement already satisfied, skipping upgrade: py>=1.5.0 in /usr/local/lib/python3.7/dist-packages (from pytest->allennlp==0.9.0) (1.10.0)\n",
            "Requirement already satisfied, skipping upgrade: more-itertools>=4.0.0 in /usr/local/lib/python3.7/dist-packages (from pytest->allennlp==0.9.0) (8.7.0)\n",
            "Requirement already satisfied, skipping upgrade: attrs>=17.4.0 in /usr/local/lib/python3.7/dist-packages (from pytest->allennlp==0.9.0) (20.3.0)\n",
            "Requirement already satisfied, skipping upgrade: atomicwrites>=1.0 in /usr/local/lib/python3.7/dist-packages (from pytest->allennlp==0.9.0) (1.4.0)\n",
            "Requirement already satisfied, skipping upgrade: pluggy<0.8,>=0.5 in /usr/local/lib/python3.7/dist-packages (from pytest->allennlp==0.9.0) (0.7.1)\n",
            "Requirement already satisfied, skipping upgrade: protobuf>=3.8.0 in /usr/local/lib/python3.7/dist-packages (from tensorboardX>=1.2->allennlp==0.9.0) (3.12.4)\n",
            "Requirement already satisfied, skipping upgrade: importlib-metadata; python_version < \"3.8\" in /usr/local/lib/python3.7/dist-packages (from jsonpickle->allennlp==0.9.0) (3.7.2)\n",
            "Requirement already satisfied, skipping upgrade: itsdangerous>=0.24 in /usr/local/lib/python3.7/dist-packages (from flask>=1.0.2->allennlp==0.9.0) (1.1.0)\n",
            "Requirement already satisfied, skipping upgrade: click>=5.1 in /usr/local/lib/python3.7/dist-packages (from flask>=1.0.2->allennlp==0.9.0) (7.1.2)\n",
            "Requirement already satisfied, skipping upgrade: Werkzeug>=0.15 in /usr/local/lib/python3.7/dist-packages (from flask>=1.0.2->allennlp==0.9.0) (1.0.1)\n",
            "Requirement already satisfied, skipping upgrade: Jinja2>=2.10.1 in /usr/local/lib/python3.7/dist-packages (from flask>=1.0.2->allennlp==0.9.0) (2.11.3)\n",
            "Requirement already satisfied, skipping upgrade: sphinx>=1.6.5 in /usr/local/lib/python3.7/dist-packages (from numpydoc>=0.8.0->allennlp==0.9.0) (1.8.5)\n",
            "Requirement already satisfied, skipping upgrade: zipp>=0.5 in /usr/local/lib/python3.7/dist-packages (from importlib-metadata; python_version < \"3.8\"->jsonpickle->allennlp==0.9.0) (3.4.1)\n",
            "Requirement already satisfied, skipping upgrade: MarkupSafe>=0.23 in /usr/local/lib/python3.7/dist-packages (from Jinja2>=2.10.1->flask>=1.0.2->allennlp==0.9.0) (1.1.1)\n",
            "Requirement already satisfied, skipping upgrade: docutils>=0.11 in /usr/local/lib/python3.7/dist-packages (from sphinx>=1.6.5->numpydoc>=0.8.0->allennlp==0.9.0) (0.16)\n",
            "Requirement already satisfied, skipping upgrade: Pygments>=2.0 in /usr/local/lib/python3.7/dist-packages (from sphinx>=1.6.5->numpydoc>=0.8.0->allennlp==0.9.0) (2.6.1)\n",
            "Requirement already satisfied, skipping upgrade: alabaster<0.8,>=0.7 in /usr/local/lib/python3.7/dist-packages (from sphinx>=1.6.5->numpydoc>=0.8.0->allennlp==0.9.0) (0.7.12)\n",
            "Requirement already satisfied, skipping upgrade: packaging in /usr/local/lib/python3.7/dist-packages (from sphinx>=1.6.5->numpydoc>=0.8.0->allennlp==0.9.0) (20.9)\n",
            "Requirement already satisfied, skipping upgrade: imagesize in /usr/local/lib/python3.7/dist-packages (from sphinx>=1.6.5->numpydoc>=0.8.0->allennlp==0.9.0) (1.2.0)\n",
            "Requirement already satisfied, skipping upgrade: snowballstemmer>=1.1 in /usr/local/lib/python3.7/dist-packages (from sphinx>=1.6.5->numpydoc>=0.8.0->allennlp==0.9.0) (2.1.0)\n",
            "Requirement already satisfied, skipping upgrade: babel!=2.0,>=1.3 in /usr/local/lib/python3.7/dist-packages (from sphinx>=1.6.5->numpydoc>=0.8.0->allennlp==0.9.0) (2.9.0)\n",
            "Requirement already satisfied, skipping upgrade: sphinxcontrib-websupport in /usr/local/lib/python3.7/dist-packages (from sphinx>=1.6.5->numpydoc>=0.8.0->allennlp==0.9.0) (1.2.4)\n",
            "Requirement already satisfied, skipping upgrade: sphinxcontrib-serializinghtml in /usr/local/lib/python3.7/dist-packages (from sphinxcontrib-websupport->sphinx>=1.6.5->numpydoc>=0.8.0->allennlp==0.9.0) (1.1.4)\n",
            "Building wheels for collected packages: ftfy, boto3, word2number, jsonnet, parsimonious, overrides\n",
            "  Building wheel for ftfy (setup.py) ... \u001b[?25l\u001b[?25hdone\n",
            "  Created wheel for ftfy: filename=ftfy-5.9-cp37-none-any.whl size=46451 sha256=8bca6bcff5d84a719acfff898516b58d7d5b94d897e840ee81bc33a884737472\n",
            "  Stored in directory: /root/.cache/pip/wheels/5e/2e/f0/b07196e8c929114998f0316894a61c752b63bfa3fdd50d2fc3\n",
            "  Building wheel for boto3 (setup.py) ... \u001b[?25l\u001b[?25hdone\n",
            "  Created wheel for boto3: filename=boto3-1.17.37-py2.py3-none-any.whl size=128780 sha256=85f9cf28f236dae7303be5f7dd73ff8957bda955dc78ac6d59d49acf4a5084e9\n",
            "  Stored in directory: /root/.cache/pip/wheels/01/66/72/f1bb0906ee42cd7ab67802dcb37fc3163ff34413a526553b7b\n",
            "  Building wheel for word2number (setup.py) ... \u001b[?25l\u001b[?25hdone\n",
            "  Created wheel for word2number: filename=word2number-1.1-cp37-none-any.whl size=5589 sha256=88f39ea55f026d48f352ce66b2b8ecf7f9ecd1c797ad4e9455af8fcb506371fd\n",
            "  Stored in directory: /root/.cache/pip/wheels/46/2f/53/5f5c1d275492f2fce1cdab9a9bb12d49286dead829a4078e0e\n",
            "  Building wheel for jsonnet (setup.py) ... \u001b[?25l\u001b[?25hdone\n",
            "  Created wheel for jsonnet: filename=jsonnet-0.17.0-cp37-cp37m-linux_x86_64.whl size=3388777 sha256=349f6b0cbe2a67ff7e8a321e76e582130e551fa753627bd9f33d9ad3b3aa9edc\n",
            "  Stored in directory: /root/.cache/pip/wheels/26/7a/37/7dbcc30a6b4efd17b91ad1f0128b7bbf84813bd4e1cfb8c1e3\n",
            "  Building wheel for parsimonious (setup.py) ... \u001b[?25l\u001b[?25hdone\n",
            "  Created wheel for parsimonious: filename=parsimonious-0.8.1-cp37-none-any.whl size=42711 sha256=2a00e8b4fe60d4a3d0dffa358bdef95ee73a7619c0e930fb38d04dbc4ce719b1\n",
            "  Stored in directory: /root/.cache/pip/wheels/b7/8d/e7/a0e74217da5caeb3c1c7689639b6d28ddbf9985b840bc96a9a\n",
            "  Building wheel for overrides (setup.py) ... \u001b[?25l\u001b[?25hdone\n",
            "  Created wheel for overrides: filename=overrides-3.1.0-cp37-none-any.whl size=10174 sha256=ff128c567163ddde80f916d9a405fd6b120b77cb5b1b38ebdba6ab5ebbc23315\n",
            "  Stored in directory: /root/.cache/pip/wheels/5c/24/13/6ef8600e6f147c95e595f1289a86a3cc82ed65df57582c65a9\n",
            "Successfully built ftfy boto3 word2number jsonnet parsimonious overrides\n",
            "\u001b[31mERROR: en-core-web-sm 2.2.5 has requirement spacy>=2.2.2, but you'll have spacy 2.1.0 which is incompatible.\u001b[0m\n",
            "\u001b[31mERROR: botocore 1.20.37 has requirement urllib3<1.27,>=1.25.4, but you'll have urllib3 1.24.3 which is incompatible.\u001b[0m\n",
            "\u001b[31mERROR: responses 0.13.1 has requirement urllib3>=1.25.10, but you'll have urllib3 1.24.3 which is incompatible.\u001b[0m\n",
            "Installing collected packages: preshed, blis, plac, thinc, spacy, ftfy, flask-cors, jmespath, botocore, s3transfer, boto3, zope.event, zope.interface, greenlet, gevent, unidecode, word2number, flaky, conllu, sentencepiece, pytorch-transformers, jsonnet, responses, tensorboardX, parsimonious, jsonpickle, numpydoc, overrides, pytorch-pretrained-bert, allennlp\n",
            "  Found existing installation: preshed 3.0.5\n",
            "    Uninstalling preshed-3.0.5:\n",
            "      Successfully uninstalled preshed-3.0.5\n",
            "  Found existing installation: blis 0.4.1\n",
            "    Uninstalling blis-0.4.1:\n",
            "      Successfully uninstalled blis-0.4.1\n",
            "  Found existing installation: plac 1.1.3\n",
            "    Uninstalling plac-1.1.3:\n",
            "      Successfully uninstalled plac-1.1.3\n",
            "  Found existing installation: thinc 7.4.0\n",
            "    Uninstalling thinc-7.4.0:\n",
            "      Successfully uninstalled thinc-7.4.0\n",
            "  Found existing installation: spacy 2.2.4\n",
            "    Uninstalling spacy-2.2.4:\n",
            "      Successfully uninstalled spacy-2.2.4\n",
            "Successfully installed allennlp-0.9.0 blis-0.2.4 boto3-1.17.37 botocore-1.20.37 conllu-1.3.1 flaky-3.7.0 flask-cors-3.0.10 ftfy-5.9 gevent-21.1.2 greenlet-1.0.0 jmespath-0.10.0 jsonnet-0.17.0 jsonpickle-2.0.0 numpydoc-1.1.0 overrides-3.1.0 parsimonious-0.8.1 plac-0.9.6 preshed-2.0.1 pytorch-pretrained-bert-0.6.2 pytorch-transformers-1.1.0 responses-0.13.1 s3transfer-0.3.6 sentencepiece-0.1.95 spacy-2.1.0 tensorboardX-2.1 thinc-7.0.8 unidecode-1.2.0 word2number-1.1 zope.event-4.5.0 zope.interface-5.3.0\n"
          ],
          "name": "stdout"
        }
      ]
    },
    {
      "cell_type": "code",
      "metadata": {
        "id": "f4zJfaIlJ2bv",
        "colab": {
          "base_uri": "https://localhost:8080/"
        },
        "outputId": "2e2c37ff-24ac-4c24-9ddc-878f69398e21"
      },
      "source": [
        "from typing import Iterator, List, Dict\n",
        "import torch\n",
        "import torch.optim as optim\n",
        "import numpy as np\n",
        "from allennlp.data import Instance\n",
        "from allennlp.data.fields import TextField, SequenceLabelField\n",
        "from allennlp.data.dataset_readers import DatasetReader\n",
        "from allennlp.common.file_utils import cached_path\n",
        "from allennlp.data.token_indexers import TokenIndexer, SingleIdTokenIndexer\n",
        "from allennlp.data.tokenizers import Token\n",
        "from allennlp.data.vocabulary import Vocabulary\n",
        "from allennlp.models import Model\n",
        "from allennlp.modules.text_field_embedders import TextFieldEmbedder, BasicTextFieldEmbedder\n",
        "from allennlp.modules.token_embedders import Embedding\n",
        "from allennlp.modules.seq2seq_encoders import Seq2SeqEncoder, PytorchSeq2SeqWrapper\n",
        "from allennlp.nn.util import get_text_field_mask, sequence_cross_entropy_with_logits\n",
        "from allennlp.training.metrics import CategoricalAccuracy\n",
        "from allennlp.data.iterators import BucketIterator\n",
        "from allennlp.training.trainer import Trainer\n",
        "from allennlp.predictors import SentenceTaggerPredictor\n",
        "from allennlp.data.dataset_readers import conll2003\n",
        "\n",
        "torch.manual_seed(1)"
      ],
      "execution_count": 2,
      "outputs": [
        {
          "output_type": "execute_result",
          "data": {
            "text/plain": [
              "<torch._C.Generator at 0x7f023954f790>"
            ]
          },
          "metadata": {
            "tags": []
          },
          "execution_count": 2
        }
      ]
    },
    {
      "cell_type": "code",
      "metadata": {
        "id": "Qo16Ko0Gchxk"
      },
      "source": [
        "class LstmTagger(Model):\n",
        "  def __init__(self,\n",
        "               word_embeddings: TextFieldEmbedder,\n",
        "               encoder: Seq2SeqEncoder,\n",
        "               vocab: Vocabulary) -> None:\n",
        "    super().__init__(vocab)\n",
        "    self.word_embeddings = word_embeddings\n",
        "    self.encoder = encoder\n",
        "    self.hidden2tag = torch.nn.Linear(in_features=encoder.get_output_dim(),\n",
        "                                      out_features=vocab.get_vocab_size('labels'))\n",
        "    self.accuracy = CategoricalAccuracy()\n",
        "\n",
        "  def forward(self,\n",
        "              tokens: Dict[str, torch.Tensor],\n",
        "              metadata,\n",
        "              tags: torch.Tensor = None) -> Dict[str, torch.Tensor]:\n",
        "    mask = get_text_field_mask(tokens)\n",
        "    embeddings = self.word_embeddings(tokens)\n",
        "    encoder_out = self.encoder(embeddings, mask)\n",
        "    tag_logits = self.hidden2tag(encoder_out)\n",
        "    output = {\"tag_logits\": tag_logits}\n",
        "    if tags is not None:\n",
        "      self.accuracy(tag_logits, tags, mask)\n",
        "      output[\"loss\"] = sequence_cross_entropy_with_logits(tag_logits, tags, mask)\n",
        "\n",
        "    return output\n",
        "\n",
        "  def get_metrics(self, reset: bool = False) -> Dict[str, float]:\n",
        "    return {\"accuracy\": self.accuracy.get_metric(reset)}"
      ],
      "execution_count": 3,
      "outputs": []
    },
    {
      "cell_type": "markdown",
      "metadata": {
        "id": "mVdKvPftVVLt"
      },
      "source": [
        "## Import Data"
      ]
    },
    {
      "cell_type": "code",
      "metadata": {
        "id": "5sOVVZslKm3N",
        "colab": {
          "base_uri": "https://localhost:8080/"
        },
        "outputId": "d50d395a-8cf7-4833-bf4b-95f75c9c098f"
      },
      "source": [
        "reader = conll2003.Conll2003DatasetReader()\n",
        "train_dataset = reader.read(cached_path('http://www.ccs.neu.edu/home/dasmith/onto.train.ner.sample'))\n",
        "validation_dataset = reader.read(cached_path('http://www.ccs.neu.edu/home/dasmith/onto.development.ner.sample'))\n",
        "\n",
        "from itertools import chain\n",
        "vocab = Vocabulary.from_instances(chain(train_dataset, validation_dataset))"
      ],
      "execution_count": 4,
      "outputs": [
        {
          "output_type": "stream",
          "text": [
            "159377B [00:00, 48251450.02B/s]\n",
            "562it [00:00, 19876.71it/s]\n",
            "8366B [00:00, 21344006.85B/s]\n",
            "23it [00:00, 4184.12it/s]\n",
            "585it [00:00, 62146.49it/s]\n"
          ],
          "name": "stderr"
        }
      ]
    },
    {
      "cell_type": "markdown",
      "metadata": {
        "id": "wpg2Udr-Vnwm"
      },
      "source": [
        "## Define and Train Model"
      ]
    },
    {
      "cell_type": "code",
      "metadata": {
        "id": "8kDQQBMywdKx",
        "colab": {
          "base_uri": "https://localhost:8080/"
        },
        "outputId": "1f56af74-0c21-419f-cc4d-aecf7346513e"
      },
      "source": [
        "EMBEDDING_DIM = 6\n",
        "HIDDEN_DIM = 6\n",
        "token_embedding = Embedding(num_embeddings=vocab.get_vocab_size('tokens'),\n",
        "                            embedding_dim=EMBEDDING_DIM)\n",
        "word_embeddings = BasicTextFieldEmbedder({\"tokens\": token_embedding})\n",
        "lstm = PytorchSeq2SeqWrapper(torch.nn.LSTM(EMBEDDING_DIM, HIDDEN_DIM, bidirectional=False, batch_first=True))\n",
        "model = LstmTagger(word_embeddings, lstm, vocab)\n",
        "if torch.cuda.is_available():\n",
        "    cuda_device = 0\n",
        "    model = model.cuda(cuda_device)\n",
        "else:\n",
        "    cuda_device = -1\n",
        "# optimizer = optim.AdamW(model.parameters(), lr=1e-4, eps=1e-8)\n",
        "optimizer = optim.SGD(model.parameters(), lr=0.1)\n",
        "iterator = BucketIterator(batch_size=2, sorting_keys=[(\"tokens\", \"num_tokens\")])\n",
        "iterator.index_with(vocab)\n",
        "trainer = Trainer(model=model,\n",
        "                  optimizer=optimizer,\n",
        "                  iterator=iterator,\n",
        "                  train_dataset=train_dataset,\n",
        "                  validation_dataset=validation_dataset,\n",
        "                  patience=10,\n",
        "                  num_epochs=100,\n",
        "                  cuda_device=cuda_device)\n",
        "trainer.train()"
      ],
      "execution_count": 5,
      "outputs": [
        {
          "output_type": "stream",
          "text": [
            "accuracy: 0.8442, loss: 0.9047 ||: 100%|██████████| 281/281 [00:01<00:00, 196.23it/s]\n",
            "accuracy: 0.7878, loss: 1.2029 ||: 100%|██████████| 12/12 [00:00<00:00, 380.83it/s]\n",
            "accuracy: 0.8442, loss: 0.7296 ||: 100%|██████████| 281/281 [00:01<00:00, 260.74it/s]\n",
            "accuracy: 0.7878, loss: 1.1897 ||: 100%|██████████| 12/12 [00:00<00:00, 394.88it/s]\n",
            "accuracy: 0.8442, loss: 0.7158 ||: 100%|██████████| 281/281 [00:01<00:00, 239.58it/s]\n",
            "accuracy: 0.7878, loss: 1.1900 ||: 100%|██████████| 12/12 [00:00<00:00, 351.43it/s]\n",
            "accuracy: 0.8442, loss: 0.7066 ||: 100%|██████████| 281/281 [00:01<00:00, 244.84it/s]\n",
            "accuracy: 0.7878, loss: 1.1669 ||: 100%|██████████| 12/12 [00:00<00:00, 454.91it/s]\n",
            "accuracy: 0.8442, loss: 0.6988 ||: 100%|██████████| 281/281 [00:01<00:00, 252.79it/s]\n",
            "accuracy: 0.7878, loss: 1.1730 ||: 100%|██████████| 12/12 [00:00<00:00, 368.55it/s]\n",
            "accuracy: 0.8442, loss: 0.6910 ||: 100%|██████████| 281/281 [00:01<00:00, 261.73it/s]\n",
            "accuracy: 0.7878, loss: 1.1639 ||: 100%|██████████| 12/12 [00:00<00:00, 469.23it/s]\n",
            "accuracy: 0.8442, loss: 0.6818 ||: 100%|██████████| 281/281 [00:01<00:00, 244.15it/s]\n",
            "accuracy: 0.7878, loss: 1.1545 ||: 100%|██████████| 12/12 [00:00<00:00, 481.11it/s]\n",
            "accuracy: 0.8442, loss: 0.6703 ||: 100%|██████████| 281/281 [00:01<00:00, 245.84it/s]\n",
            "accuracy: 0.7878, loss: 1.1269 ||: 100%|██████████| 12/12 [00:00<00:00, 463.42it/s]\n",
            "accuracy: 0.8442, loss: 0.6566 ||: 100%|██████████| 281/281 [00:01<00:00, 245.63it/s]\n",
            "accuracy: 0.7878, loss: 1.1081 ||: 100%|██████████| 12/12 [00:00<00:00, 417.41it/s]\n",
            "accuracy: 0.8442, loss: 0.6394 ||: 100%|██████████| 281/281 [00:01<00:00, 252.04it/s]\n",
            "accuracy: 0.7878, loss: 1.0953 ||: 100%|██████████| 12/12 [00:00<00:00, 383.43it/s]\n",
            "accuracy: 0.8442, loss: 0.6143 ||: 100%|██████████| 281/281 [00:01<00:00, 261.25it/s]\n",
            "accuracy: 0.7878, loss: 1.0471 ||: 100%|██████████| 12/12 [00:00<00:00, 455.47it/s]\n",
            "accuracy: 0.8442, loss: 0.5790 ||: 100%|██████████| 281/281 [00:01<00:00, 253.95it/s]\n",
            "accuracy: 0.7878, loss: 0.9899 ||: 100%|██████████| 12/12 [00:00<00:00, 369.97it/s]\n",
            "accuracy: 0.8463, loss: 0.5390 ||: 100%|██████████| 281/281 [00:01<00:00, 263.84it/s]\n",
            "accuracy: 0.7878, loss: 0.9517 ||: 100%|██████████| 12/12 [00:00<00:00, 422.66it/s]\n",
            "accuracy: 0.8565, loss: 0.5030 ||: 100%|██████████| 281/281 [00:01<00:00, 245.17it/s]\n",
            "accuracy: 0.7878, loss: 0.8692 ||: 100%|██████████| 12/12 [00:00<00:00, 436.02it/s]\n",
            "accuracy: 0.8594, loss: 0.4723 ||: 100%|██████████| 281/281 [00:01<00:00, 254.34it/s]\n",
            "accuracy: 0.7878, loss: 0.8448 ||: 100%|██████████| 12/12 [00:00<00:00, 476.08it/s]\n",
            "accuracy: 0.8602, loss: 0.4459 ||: 100%|██████████| 281/281 [00:01<00:00, 254.40it/s]\n",
            "accuracy: 0.7939, loss: 0.7910 ||: 100%|██████████| 12/12 [00:00<00:00, 365.65it/s]\n",
            "accuracy: 0.8615, loss: 0.4312 ||: 100%|██████████| 281/281 [00:01<00:00, 240.13it/s]\n",
            "accuracy: 0.7939, loss: 0.7810 ||: 100%|██████████| 12/12 [00:00<00:00, 405.69it/s]\n",
            "accuracy: 0.8616, loss: 0.4182 ||: 100%|██████████| 281/281 [00:01<00:00, 259.36it/s]\n",
            "accuracy: 0.7939, loss: 0.7784 ||: 100%|██████████| 12/12 [00:00<00:00, 489.09it/s]\n",
            "accuracy: 0.8627, loss: 0.4057 ||: 100%|██████████| 281/281 [00:01<00:00, 266.92it/s]\n",
            "accuracy: 0.7939, loss: 0.7479 ||: 100%|██████████| 12/12 [00:00<00:00, 433.33it/s]\n",
            "accuracy: 0.8632, loss: 0.3995 ||: 100%|██████████| 281/281 [00:01<00:00, 246.80it/s]\n",
            "accuracy: 0.7939, loss: 0.7684 ||: 100%|██████████| 12/12 [00:00<00:00, 503.82it/s]\n",
            "accuracy: 0.8632, loss: 0.3923 ||: 100%|██████████| 281/281 [00:01<00:00, 214.86it/s]\n",
            "accuracy: 0.7939, loss: 0.7359 ||: 100%|██████████| 12/12 [00:00<00:00, 381.13it/s]\n",
            "accuracy: 0.8646, loss: 0.3861 ||: 100%|██████████| 281/281 [00:01<00:00, 246.88it/s]\n",
            "accuracy: 0.7939, loss: 0.7210 ||: 100%|██████████| 12/12 [00:00<00:00, 371.01it/s]\n",
            "accuracy: 0.8644, loss: 0.3801 ||: 100%|██████████| 281/281 [00:01<00:00, 248.19it/s]\n",
            "accuracy: 0.7939, loss: 0.7121 ||: 100%|██████████| 12/12 [00:00<00:00, 449.80it/s]\n",
            "accuracy: 0.8636, loss: 0.3796 ||: 100%|██████████| 281/281 [00:01<00:00, 256.28it/s]\n",
            "accuracy: 0.7939, loss: 0.7084 ||: 100%|██████████| 12/12 [00:00<00:00, 426.61it/s]\n",
            "accuracy: 0.8653, loss: 0.3746 ||: 100%|██████████| 281/281 [00:01<00:00, 214.86it/s]\n",
            "accuracy: 0.7959, loss: 0.7103 ||: 100%|██████████| 12/12 [00:00<00:00, 456.38it/s]\n",
            "accuracy: 0.8657, loss: 0.3696 ||: 100%|██████████| 281/281 [00:01<00:00, 245.46it/s]\n",
            "accuracy: 0.7959, loss: 0.7013 ||: 100%|██████████| 12/12 [00:00<00:00, 426.50it/s]\n",
            "accuracy: 0.8680, loss: 0.3656 ||: 100%|██████████| 281/281 [00:01<00:00, 253.59it/s]\n",
            "accuracy: 0.7959, loss: 0.6834 ||: 100%|██████████| 12/12 [00:00<00:00, 496.22it/s]\n",
            "accuracy: 0.8687, loss: 0.3607 ||: 100%|██████████| 281/281 [00:01<00:00, 251.82it/s]\n",
            "accuracy: 0.8020, loss: 0.6959 ||: 100%|██████████| 12/12 [00:00<00:00, 435.00it/s]\n",
            "accuracy: 0.8710, loss: 0.3574 ||: 100%|██████████| 281/281 [00:01<00:00, 250.24it/s]\n",
            "accuracy: 0.8020, loss: 0.6819 ||: 100%|██████████| 12/12 [00:00<00:00, 445.09it/s]\n",
            "accuracy: 0.8720, loss: 0.3557 ||: 100%|██████████| 281/281 [00:01<00:00, 244.29it/s]\n",
            "accuracy: 0.8082, loss: 0.6828 ||: 100%|██████████| 12/12 [00:00<00:00, 457.42it/s]\n",
            "accuracy: 0.8730, loss: 0.3514 ||: 100%|██████████| 281/281 [00:01<00:00, 257.23it/s]\n",
            "accuracy: 0.8082, loss: 0.6657 ||: 100%|██████████| 12/12 [00:00<00:00, 504.23it/s]\n",
            "accuracy: 0.8737, loss: 0.3487 ||: 100%|██████████| 281/281 [00:01<00:00, 256.42it/s]\n",
            "accuracy: 0.8102, loss: 0.6545 ||: 100%|██████████| 12/12 [00:00<00:00, 424.58it/s]\n",
            "accuracy: 0.8752, loss: 0.3446 ||: 100%|██████████| 281/281 [00:01<00:00, 252.26it/s]\n",
            "accuracy: 0.8082, loss: 0.6673 ||: 100%|██████████| 12/12 [00:00<00:00, 409.15it/s]\n",
            "accuracy: 0.8768, loss: 0.3419 ||: 100%|██████████| 281/281 [00:01<00:00, 252.61it/s]\n",
            "accuracy: 0.8082, loss: 0.6506 ||: 100%|██████████| 12/12 [00:00<00:00, 395.13it/s]\n",
            "accuracy: 0.8778, loss: 0.3386 ||: 100%|██████████| 281/281 [00:01<00:00, 224.51it/s]\n",
            "accuracy: 0.8184, loss: 0.6450 ||: 100%|██████████| 12/12 [00:00<00:00, 335.45it/s]\n",
            "accuracy: 0.8764, loss: 0.3386 ||: 100%|██████████| 281/281 [00:01<00:00, 241.61it/s]\n",
            "accuracy: 0.8102, loss: 0.6572 ||: 100%|██████████| 12/12 [00:00<00:00, 403.39it/s]\n",
            "accuracy: 0.8777, loss: 0.3344 ||: 100%|██████████| 281/281 [00:01<00:00, 238.07it/s]\n",
            "accuracy: 0.8143, loss: 0.6569 ||: 100%|██████████| 12/12 [00:00<00:00, 419.08it/s]\n",
            "accuracy: 0.8779, loss: 0.3330 ||: 100%|██████████| 281/281 [00:01<00:00, 255.66it/s]\n",
            "accuracy: 0.8224, loss: 0.6382 ||: 100%|██████████| 12/12 [00:00<00:00, 442.49it/s]\n",
            "accuracy: 0.8801, loss: 0.3282 ||: 100%|██████████| 281/281 [00:01<00:00, 243.56it/s]\n",
            "accuracy: 0.8204, loss: 0.6399 ||: 100%|██████████| 12/12 [00:00<00:00, 409.37it/s]\n",
            "accuracy: 0.8814, loss: 0.3257 ||: 100%|██████████| 281/281 [00:01<00:00, 243.81it/s]\n",
            "accuracy: 0.8265, loss: 0.6265 ||: 100%|██████████| 12/12 [00:00<00:00, 378.51it/s]\n",
            "accuracy: 0.8831, loss: 0.3236 ||: 100%|██████████| 281/281 [00:01<00:00, 248.65it/s]\n",
            "accuracy: 0.8245, loss: 0.6564 ||: 100%|██████████| 12/12 [00:00<00:00, 404.08it/s]\n",
            "accuracy: 0.8857, loss: 0.3204 ||: 100%|██████████| 281/281 [00:01<00:00, 235.60it/s]\n",
            "accuracy: 0.8265, loss: 0.6299 ||: 100%|██████████| 12/12 [00:00<00:00, 444.62it/s]\n",
            "accuracy: 0.8840, loss: 0.3204 ||: 100%|██████████| 281/281 [00:01<00:00, 236.42it/s]\n",
            "accuracy: 0.8286, loss: 0.6141 ||: 100%|██████████| 12/12 [00:00<00:00, 448.80it/s]\n",
            "accuracy: 0.8867, loss: 0.3161 ||: 100%|██████████| 281/281 [00:01<00:00, 251.90it/s]\n",
            "accuracy: 0.8327, loss: 0.6141 ||: 100%|██████████| 12/12 [00:00<00:00, 421.09it/s]\n",
            "accuracy: 0.8870, loss: 0.3147 ||: 100%|██████████| 281/281 [00:01<00:00, 220.22it/s]\n",
            "accuracy: 0.8327, loss: 0.6045 ||: 100%|██████████| 12/12 [00:00<00:00, 457.78it/s]\n",
            "accuracy: 0.8871, loss: 0.3109 ||: 100%|██████████| 281/281 [00:01<00:00, 252.78it/s]\n",
            "accuracy: 0.8388, loss: 0.6032 ||: 100%|██████████| 12/12 [00:00<00:00, 455.16it/s]\n",
            "accuracy: 0.8875, loss: 0.3094 ||: 100%|██████████| 281/281 [00:01<00:00, 236.64it/s]\n",
            "accuracy: 0.8388, loss: 0.5938 ||: 100%|██████████| 12/12 [00:00<00:00, 420.85it/s]\n",
            "accuracy: 0.8899, loss: 0.3070 ||: 100%|██████████| 281/281 [00:01<00:00, 244.36it/s]\n",
            "accuracy: 0.8449, loss: 0.5867 ||: 100%|██████████| 12/12 [00:00<00:00, 495.68it/s]\n",
            "accuracy: 0.8913, loss: 0.3035 ||: 100%|██████████| 281/281 [00:01<00:00, 254.20it/s]\n",
            "accuracy: 0.8429, loss: 0.5847 ||: 100%|██████████| 12/12 [00:00<00:00, 313.41it/s]\n",
            "accuracy: 0.8903, loss: 0.3015 ||: 100%|██████████| 281/281 [00:01<00:00, 246.90it/s]\n",
            "accuracy: 0.8449, loss: 0.5896 ||: 100%|██████████| 12/12 [00:00<00:00, 428.86it/s]\n",
            "accuracy: 0.8932, loss: 0.2999 ||: 100%|██████████| 281/281 [00:01<00:00, 253.78it/s]\n",
            "accuracy: 0.8429, loss: 0.5774 ||: 100%|██████████| 12/12 [00:00<00:00, 403.54it/s]\n",
            "accuracy: 0.8910, loss: 0.2963 ||: 100%|██████████| 281/281 [00:01<00:00, 249.12it/s]\n",
            "accuracy: 0.8469, loss: 0.5847 ||: 100%|██████████| 12/12 [00:00<00:00, 467.16it/s]\n",
            "accuracy: 0.8951, loss: 0.2909 ||: 100%|██████████| 281/281 [00:01<00:00, 221.74it/s]\n",
            "accuracy: 0.8429, loss: 0.5656 ||: 100%|██████████| 12/12 [00:00<00:00, 369.09it/s]\n",
            "accuracy: 0.8945, loss: 0.2893 ||: 100%|██████████| 281/281 [00:01<00:00, 247.51it/s]\n",
            "accuracy: 0.8469, loss: 0.5706 ||: 100%|██████████| 12/12 [00:00<00:00, 424.10it/s]\n",
            "accuracy: 0.8976, loss: 0.2865 ||: 100%|██████████| 281/281 [00:01<00:00, 257.14it/s]\n",
            "accuracy: 0.8469, loss: 0.5654 ||: 100%|██████████| 12/12 [00:00<00:00, 433.83it/s]\n",
            "accuracy: 0.8992, loss: 0.2825 ||: 100%|██████████| 281/281 [00:01<00:00, 245.47it/s]\n",
            "accuracy: 0.8490, loss: 0.5582 ||: 100%|██████████| 12/12 [00:00<00:00, 425.79it/s]\n",
            "accuracy: 0.8976, loss: 0.2814 ||: 100%|██████████| 281/281 [00:01<00:00, 246.87it/s]\n",
            "accuracy: 0.8490, loss: 0.5457 ||: 100%|██████████| 12/12 [00:00<00:00, 336.68it/s]\n",
            "accuracy: 0.8993, loss: 0.2770 ||: 100%|██████████| 281/281 [00:01<00:00, 223.92it/s]\n",
            "accuracy: 0.8551, loss: 0.5350 ||: 100%|██████████| 12/12 [00:00<00:00, 346.88it/s]\n",
            "accuracy: 0.8998, loss: 0.2749 ||: 100%|██████████| 281/281 [00:01<00:00, 253.81it/s]\n",
            "accuracy: 0.8531, loss: 0.5489 ||: 100%|██████████| 12/12 [00:00<00:00, 429.25it/s]\n",
            "accuracy: 0.9036, loss: 0.2722 ||: 100%|██████████| 281/281 [00:01<00:00, 255.18it/s]\n",
            "accuracy: 0.8510, loss: 0.5416 ||: 100%|██████████| 12/12 [00:00<00:00, 458.72it/s]\n",
            "accuracy: 0.8999, loss: 0.2692 ||: 100%|██████████| 281/281 [00:01<00:00, 216.20it/s]\n",
            "accuracy: 0.8490, loss: 0.5213 ||: 100%|██████████| 12/12 [00:00<00:00, 394.82it/s]\n",
            "accuracy: 0.9022, loss: 0.2690 ||: 100%|██████████| 281/281 [00:01<00:00, 240.01it/s]\n",
            "accuracy: 0.8510, loss: 0.5198 ||: 100%|██████████| 12/12 [00:00<00:00, 419.94it/s]\n",
            "accuracy: 0.9038, loss: 0.2624 ||: 100%|██████████| 281/281 [00:01<00:00, 254.16it/s]\n",
            "accuracy: 0.8510, loss: 0.5069 ||: 100%|██████████| 12/12 [00:00<00:00, 363.16it/s]\n",
            "accuracy: 0.9010, loss: 0.2630 ||: 100%|██████████| 281/281 [00:01<00:00, 256.21it/s]\n",
            "accuracy: 0.8551, loss: 0.5199 ||: 100%|██████████| 12/12 [00:00<00:00, 385.24it/s]\n",
            "accuracy: 0.9046, loss: 0.2592 ||: 100%|██████████| 281/281 [00:01<00:00, 225.83it/s]\n",
            "accuracy: 0.8531, loss: 0.5131 ||: 100%|██████████| 12/12 [00:00<00:00, 403.08it/s]\n",
            "accuracy: 0.9041, loss: 0.2558 ||: 100%|██████████| 281/281 [00:01<00:00, 245.99it/s]\n",
            "accuracy: 0.8592, loss: 0.5044 ||: 100%|██████████| 12/12 [00:00<00:00, 404.07it/s]\n",
            "accuracy: 0.9060, loss: 0.2531 ||: 100%|██████████| 281/281 [00:01<00:00, 244.28it/s]\n",
            "accuracy: 0.8592, loss: 0.5160 ||: 100%|██████████| 12/12 [00:00<00:00, 369.50it/s]\n",
            "accuracy: 0.9078, loss: 0.2495 ||: 100%|██████████| 281/281 [00:01<00:00, 232.79it/s]\n",
            "accuracy: 0.8571, loss: 0.4850 ||: 100%|██████████| 12/12 [00:00<00:00, 437.38it/s]\n",
            "accuracy: 0.9081, loss: 0.2477 ||: 100%|██████████| 281/281 [00:01<00:00, 243.42it/s]\n",
            "accuracy: 0.8592, loss: 0.4878 ||: 100%|██████████| 12/12 [00:00<00:00, 375.95it/s]\n",
            "accuracy: 0.9105, loss: 0.2446 ||: 100%|██████████| 281/281 [00:01<00:00, 251.97it/s]\n",
            "accuracy: 0.8571, loss: 0.4852 ||: 100%|██████████| 12/12 [00:00<00:00, 412.86it/s]\n",
            "accuracy: 0.9107, loss: 0.2416 ||: 100%|██████████| 281/281 [00:01<00:00, 246.14it/s]\n",
            "accuracy: 0.8592, loss: 0.4738 ||: 100%|██████████| 12/12 [00:00<00:00, 372.01it/s]\n",
            "accuracy: 0.9113, loss: 0.2395 ||: 100%|██████████| 281/281 [00:01<00:00, 245.37it/s]\n",
            "accuracy: 0.8612, loss: 0.5010 ||: 100%|██████████| 12/12 [00:00<00:00, 362.94it/s]\n",
            "accuracy: 0.9121, loss: 0.2386 ||: 100%|██████████| 281/281 [00:01<00:00, 256.02it/s]\n",
            "accuracy: 0.8571, loss: 0.4654 ||: 100%|██████████| 12/12 [00:00<00:00, 497.67it/s]\n",
            "accuracy: 0.9131, loss: 0.2348 ||: 100%|██████████| 281/281 [00:01<00:00, 246.11it/s]\n",
            "accuracy: 0.8633, loss: 0.4652 ||: 100%|██████████| 12/12 [00:00<00:00, 406.85it/s]\n",
            "accuracy: 0.9124, loss: 0.2335 ||: 100%|██████████| 281/281 [00:01<00:00, 251.37it/s]\n",
            "accuracy: 0.8592, loss: 0.4625 ||: 100%|██████████| 12/12 [00:00<00:00, 363.72it/s]\n",
            "accuracy: 0.9130, loss: 0.2314 ||: 100%|██████████| 281/281 [00:01<00:00, 257.45it/s]\n",
            "accuracy: 0.8571, loss: 0.4762 ||: 100%|██████████| 12/12 [00:00<00:00, 436.89it/s]\n",
            "accuracy: 0.9113, loss: 0.2310 ||: 100%|██████████| 281/281 [00:01<00:00, 249.28it/s]\n",
            "accuracy: 0.8673, loss: 0.4446 ||: 100%|██████████| 12/12 [00:00<00:00, 456.86it/s]\n",
            "accuracy: 0.9151, loss: 0.2280 ||: 100%|██████████| 281/281 [00:01<00:00, 249.77it/s]\n",
            "accuracy: 0.8592, loss: 0.4689 ||: 100%|██████████| 12/12 [00:00<00:00, 444.18it/s]\n",
            "accuracy: 0.9144, loss: 0.2264 ||: 100%|██████████| 281/281 [00:01<00:00, 243.83it/s]\n",
            "accuracy: 0.8653, loss: 0.4535 ||: 100%|██████████| 12/12 [00:00<00:00, 443.29it/s]\n",
            "accuracy: 0.9165, loss: 0.2230 ||: 100%|██████████| 281/281 [00:01<00:00, 243.50it/s]\n",
            "accuracy: 0.8653, loss: 0.4393 ||: 100%|██████████| 12/12 [00:00<00:00, 461.67it/s]\n",
            "accuracy: 0.9159, loss: 0.2231 ||: 100%|██████████| 281/281 [00:01<00:00, 259.03it/s]\n",
            "accuracy: 0.8653, loss: 0.4462 ||: 100%|██████████| 12/12 [00:00<00:00, 467.34it/s]\n",
            "accuracy: 0.9179, loss: 0.2193 ||: 100%|██████████| 281/281 [00:01<00:00, 254.40it/s]\n",
            "accuracy: 0.8714, loss: 0.4372 ||: 100%|██████████| 12/12 [00:00<00:00, 457.12it/s]\n",
            "accuracy: 0.9175, loss: 0.2184 ||: 100%|██████████| 281/281 [00:01<00:00, 234.37it/s]\n",
            "accuracy: 0.8673, loss: 0.4320 ||: 100%|██████████| 12/12 [00:00<00:00, 426.77it/s]\n",
            "accuracy: 0.9205, loss: 0.2147 ||: 100%|██████████| 281/281 [00:01<00:00, 241.86it/s]\n",
            "accuracy: 0.8694, loss: 0.4326 ||: 100%|██████████| 12/12 [00:00<00:00, 480.10it/s]\n",
            "accuracy: 0.9191, loss: 0.2140 ||: 100%|██████████| 281/281 [00:01<00:00, 243.67it/s]\n",
            "accuracy: 0.8735, loss: 0.4154 ||: 100%|██████████| 12/12 [00:00<00:00, 473.38it/s]\n",
            "accuracy: 0.9207, loss: 0.2117 ||: 100%|██████████| 281/281 [00:01<00:00, 247.00it/s]\n",
            "accuracy: 0.8694, loss: 0.4177 ||: 100%|██████████| 12/12 [00:00<00:00, 416.58it/s]\n",
            "accuracy: 0.9214, loss: 0.2103 ||: 100%|██████████| 281/281 [00:01<00:00, 249.26it/s]\n",
            "accuracy: 0.8735, loss: 0.4128 ||: 100%|██████████| 12/12 [00:00<00:00, 480.69it/s]\n",
            "accuracy: 0.9224, loss: 0.2087 ||: 100%|██████████| 281/281 [00:01<00:00, 263.86it/s]\n",
            "accuracy: 0.8714, loss: 0.4190 ||: 100%|██████████| 12/12 [00:00<00:00, 516.82it/s]\n",
            "accuracy: 0.9210, loss: 0.2062 ||: 100%|██████████| 281/281 [00:01<00:00, 249.21it/s]\n",
            "accuracy: 0.8714, loss: 0.4153 ||: 100%|██████████| 12/12 [00:00<00:00, 437.42it/s]\n",
            "accuracy: 0.9226, loss: 0.2036 ||: 100%|██████████| 281/281 [00:01<00:00, 250.85it/s]\n",
            "accuracy: 0.8796, loss: 0.4003 ||: 100%|██████████| 12/12 [00:00<00:00, 512.87it/s]\n",
            "accuracy: 0.9229, loss: 0.2036 ||: 100%|██████████| 281/281 [00:01<00:00, 251.43it/s]\n",
            "accuracy: 0.8735, loss: 0.4064 ||: 100%|██████████| 12/12 [00:00<00:00, 354.99it/s]\n",
            "accuracy: 0.9242, loss: 0.2010 ||: 100%|██████████| 281/281 [00:01<00:00, 254.81it/s]\n",
            "accuracy: 0.8816, loss: 0.4006 ||: 100%|██████████| 12/12 [00:00<00:00, 442.92it/s]\n",
            "accuracy: 0.9235, loss: 0.2006 ||: 100%|██████████| 281/281 [00:01<00:00, 242.56it/s]\n",
            "accuracy: 0.8796, loss: 0.3929 ||: 100%|██████████| 12/12 [00:00<00:00, 370.99it/s]\n",
            "accuracy: 0.9254, loss: 0.1968 ||: 100%|██████████| 281/281 [00:01<00:00, 231.21it/s]\n",
            "accuracy: 0.8776, loss: 0.4065 ||: 100%|██████████| 12/12 [00:00<00:00, 479.09it/s]\n",
            "accuracy: 0.9254, loss: 0.1975 ||: 100%|██████████| 281/281 [00:01<00:00, 246.10it/s]\n",
            "accuracy: 0.8796, loss: 0.3887 ||: 100%|██████████| 12/12 [00:00<00:00, 427.08it/s]\n",
            "accuracy: 0.9252, loss: 0.1948 ||: 100%|██████████| 281/281 [00:01<00:00, 222.48it/s]\n",
            "accuracy: 0.8796, loss: 0.3914 ||: 100%|██████████| 12/12 [00:00<00:00, 419.41it/s]\n",
            "accuracy: 0.9274, loss: 0.1923 ||: 100%|██████████| 281/281 [00:01<00:00, 254.93it/s]\n",
            "accuracy: 0.8796, loss: 0.3794 ||: 100%|██████████| 12/12 [00:00<00:00, 491.17it/s]\n",
            "accuracy: 0.9283, loss: 0.1917 ||: 100%|██████████| 281/281 [00:01<00:00, 226.56it/s]\n",
            "accuracy: 0.8776, loss: 0.3833 ||: 100%|██████████| 12/12 [00:00<00:00, 388.51it/s]\n",
            "accuracy: 0.9282, loss: 0.1890 ||: 100%|██████████| 281/281 [00:01<00:00, 230.46it/s]\n",
            "accuracy: 0.8796, loss: 0.3838 ||: 100%|██████████| 12/12 [00:00<00:00, 337.49it/s]\n",
            "accuracy: 0.9284, loss: 0.1901 ||: 100%|██████████| 281/281 [00:01<00:00, 249.28it/s]\n",
            "accuracy: 0.8796, loss: 0.3810 ||: 100%|██████████| 12/12 [00:00<00:00, 482.69it/s]\n"
          ],
          "name": "stderr"
        },
        {
          "output_type": "execute_result",
          "data": {
            "text/plain": [
              "{'best_epoch': 96,\n",
              " 'best_validation_accuracy': 0.8795918367346939,\n",
              " 'best_validation_loss': 0.37943273926309,\n",
              " 'epoch': 99,\n",
              " 'peak_cpu_memory_MB': 3224.064,\n",
              " 'peak_gpu_0_memory_MB': 1058,\n",
              " 'training_accuracy': 0.9283974155280161,\n",
              " 'training_cpu_memory_MB': 3224.064,\n",
              " 'training_duration': '0:02:05.158952',\n",
              " 'training_epochs': 99,\n",
              " 'training_gpu_0_memory_MB': 1058,\n",
              " 'training_loss': 0.1901172606272,\n",
              " 'training_start_epoch': 0,\n",
              " 'validation_accuracy': 0.8795918367346939,\n",
              " 'validation_loss': 0.3810475505888462}"
            ]
          },
          "metadata": {
            "tags": []
          },
          "execution_count": 5
        }
      ]
    },
    {
      "cell_type": "markdown",
      "metadata": {
        "id": "mwN6ctqVV0tf"
      },
      "source": [
        "## Evaluation"
      ]
    },
    {
      "cell_type": "markdown",
      "metadata": {
        "id": "qkDs_UdIeuFz"
      },
      "source": [
        "The simple code below loops over the validation set, applying the model to each exmaple and collecting out the input token, gold-standard output, and model output. You can see from these methods how to access ground truth and model outputs for evaluation."
      ]
    },
    {
      "cell_type": "code",
      "metadata": {
        "colab": {
          "base_uri": "https://localhost:8080/"
        },
        "id": "eEUJDKtVx40u",
        "outputId": "857ab525-6b13-4cac-fb61-aaf800223d57"
      },
      "source": [
        "!pip install seqeval\n",
        "from seqeval.metrics import accuracy_score, precision_score, recall_score, f1_score,classification_report"
      ],
      "execution_count": 6,
      "outputs": [
        {
          "output_type": "stream",
          "text": [
            "Collecting seqeval\n",
            "\u001b[?25l  Downloading https://files.pythonhosted.org/packages/9d/2d/233c79d5b4e5ab1dbf111242299153f3caddddbb691219f363ad55ce783d/seqeval-1.2.2.tar.gz (43kB)\n",
            "\r\u001b[K     |███████▌                        | 10kB 24.0MB/s eta 0:00:01\r\u001b[K     |███████████████                 | 20kB 32.2MB/s eta 0:00:01\r\u001b[K     |██████████████████████▌         | 30kB 25.0MB/s eta 0:00:01\r\u001b[K     |██████████████████████████████  | 40kB 28.5MB/s eta 0:00:01\r\u001b[K     |████████████████████████████████| 51kB 7.4MB/s \n",
            "\u001b[?25hRequirement already satisfied: numpy>=1.14.0 in /usr/local/lib/python3.7/dist-packages (from seqeval) (1.19.5)\n",
            "Requirement already satisfied: scikit-learn>=0.21.3 in /usr/local/lib/python3.7/dist-packages (from seqeval) (0.22.2.post1)\n",
            "Requirement already satisfied: scipy>=0.17.0 in /usr/local/lib/python3.7/dist-packages (from scikit-learn>=0.21.3->seqeval) (1.4.1)\n",
            "Requirement already satisfied: joblib>=0.11 in /usr/local/lib/python3.7/dist-packages (from scikit-learn>=0.21.3->seqeval) (1.0.1)\n",
            "Building wheels for collected packages: seqeval\n",
            "  Building wheel for seqeval (setup.py) ... \u001b[?25l\u001b[?25hdone\n",
            "  Created wheel for seqeval: filename=seqeval-1.2.2-cp37-none-any.whl size=16172 sha256=2028a5c68bbdcfd7b1b4cf0315d49d86576d8f4ef893e65d986ade8ee469d303\n",
            "  Stored in directory: /root/.cache/pip/wheels/52/df/1b/45d75646c37428f7e626214704a0e35bd3cfc32eda37e59e5f\n",
            "Successfully built seqeval\n",
            "Installing collected packages: seqeval\n",
            "Successfully installed seqeval-1.2.2\n"
          ],
          "name": "stdout"
        }
      ]
    },
    {
      "cell_type": "code",
      "metadata": {
        "id": "S0bE4fmLik08"
      },
      "source": [
        "def tag_sentence(s):\n",
        "  tag_ids = np.argmax(model.forward_on_instance(s)['tag_logits'], axis=-1)\n",
        "  fields = zip(s['tokens'], s['tags'], [model.vocab.get_token_from_index(i, 'labels') for i in tag_ids])\n",
        "  return list(fields)\n",
        "\n",
        "word_gold_real = [tag_sentence(i) for i in validation_dataset]"
      ],
      "execution_count": 7,
      "outputs": []
    },
    {
      "cell_type": "markdown",
      "metadata": {
        "id": "BpYMx7RVfCyT"
      },
      "source": [
        "Now, you can implement two evaluation functions: `violations` and `span_stats`."
      ]
    },
    {
      "cell_type": "code",
      "metadata": {
        "id": "nF_oc0tttOOu"
      },
      "source": [
        "def valid_output(example):\n",
        "  arr1=[]\n",
        "  for i in example:\n",
        "    arr1.append(i[2])\n",
        "  return arr1"
      ],
      "execution_count": 8,
      "outputs": []
    },
    {
      "cell_type": "code",
      "metadata": {
        "id": "P042A2Ofg3wa",
        "colab": {
          "base_uri": "https://localhost:8080/"
        },
        "outputId": "db44a1da-49c5-40aa-e7c9-12da7dd1a340"
      },
      "source": [
        "# TODO: count the number of NER label violations,\n",
        "# such as O followed by I-TYPE or B-TYPE followed by\n",
        "# I-OTHER_TYPE\n",
        "# Take tagger output as input\n",
        "import collections\n",
        "def violations(tagged):\n",
        "  count=0\n",
        "  for i in range(len(tagged)):\n",
        "    for j in range(len(tagged[i])):\n",
        "      if j==0:\n",
        "        if tagged[i][j][2]!='O' and tagged[i][j][2][0]!='B':\n",
        "          count+=1\n",
        "      if j+1<len(tagged[i]) and tagged[i][j][2]=='O' and tagged[i][j+1][2][0]=='I':\n",
        "        count+=1\n",
        "      elif j+1<len(tagged[i]) and tagged[i][j][2][0]=='B' and tagged[i][j+1][2][0]=='I' and tagged[i][j][2][1:]!=tagged[i][j+1][2][1:]:\n",
        "        count+=1\n",
        "      elif j+1<len(tagged[i]) and tagged[i][j][2][0]=='I' and tagged[i][j+1][2][0]=='I' and tagged[i][j][2][1:]!=tagged[i][j+1][2][1:]:\n",
        "        count+=1\n",
        "  return count\n",
        "\n",
        "print('Number of violations in LSTM output is: ',violations(word_gold_real))\n"
      ],
      "execution_count": 9,
      "outputs": [
        {
          "output_type": "stream",
          "text": [
            "Number of violations in LSTM output is:  36\n"
          ],
          "name": "stdout"
        }
      ]
    },
    {
      "cell_type": "code",
      "metadata": {
        "colab": {
          "base_uri": "https://localhost:8080/"
        },
        "id": "ay7FHKgcp0Hc",
        "outputId": "f4768037-dda6-4e42-bd30-47e16e1ae870"
      },
      "source": [
        "# TODO: return the span-level precision, recall, and F1\n",
        "# Only count valid spans that start with a B tag,\n",
        "# followed by zero or more I tags of the same type.\n",
        "# This is harsher than the token-level metric that the\n",
        "# LSTM was trained to optimize, but it is the standard way\n",
        "# of evaluating NER systems.\n",
        "# Take tagger output as input\n",
        "def span_stats(tagged):\n",
        "\n",
        "  predicted_output=[]\n",
        "  true_output=[]\n",
        "\n",
        "  #making a continuous array from all predicted outputs in validation set\n",
        "  for sample in tagged:\n",
        "    for token in sample:\n",
        "      predicted_output.append(token[2])\n",
        "\n",
        "  #making a continuous array from all true outputs in validation set\n",
        "  for sample in validation_dataset:\n",
        "      for i in sample['tags'].labels:\n",
        "        true_output.append(i)\n",
        "        \n",
        "  print('True output in validation dataset')\n",
        "  print(true_output)\n",
        "  print('')\n",
        "  print('Predicted output by LSTM')\n",
        "  print(predicted_output)\n",
        "\n",
        "  print('\\nLSTM precision: ',round(precision_score([true_output],[predicted_output]),3))\n",
        "  print('LSTM recall: ',round(recall_score([true_output],[predicted_output]),3))\n",
        "  print('LSTM F1: ',round(f1_score([true_output],[predicted_output]),3))\n",
        "\n",
        "\n",
        "\n",
        "span_stats(word_gold_real)"
      ],
      "execution_count": 27,
      "outputs": [
        {
          "output_type": "stream",
          "text": [
            "True output in validation dataset\n",
            "['O', 'O', 'O', 'O', 'O', 'O', 'O', 'B-PERSON', 'I-PERSON', 'O', 'O', 'O', 'O', 'O', 'B-CARDINAL', 'O', 'O', 'O', 'O', 'O', 'O', 'O', 'B-EVENT', 'I-EVENT', 'I-EVENT', 'I-EVENT', 'O', 'B-TIME', 'I-TIME', 'O', 'B-PERSON', 'I-PERSON', 'B-ORDINAL', 'O', 'O', 'O', 'B-EVENT', 'I-EVENT', 'I-EVENT', 'O', 'O', 'O', 'O', 'O', 'O', 'O', 'O', 'B-ORG', 'I-ORG', 'I-ORG', 'I-ORG', 'O', 'O', 'O', 'O', 'B-CARDINAL', 'O', 'O', 'O', 'B-EVENT', 'I-EVENT', 'I-EVENT', 'I-EVENT', 'O', 'O', 'O', 'O', 'O', 'O', 'O', 'O', 'B-CARDINAL', 'I-CARDINAL', 'I-CARDINAL', 'O', 'O', 'O', 'O', 'O', 'O', 'O', 'O', 'O', 'B-CARDINAL', 'I-CARDINAL', 'I-CARDINAL', 'I-CARDINAL', 'O', 'O', 'O', 'O', 'O', 'O', 'O', 'O', 'O', 'O', 'O', 'O', 'O', 'O', 'O', 'O', 'O', 'O', 'O', 'O', 'B-CARDINAL', 'I-CARDINAL', 'I-CARDINAL', 'O', 'O', 'O', 'O', 'B-EVENT', 'I-EVENT', 'I-EVENT', 'I-EVENT', 'O', 'O', 'O', 'O', 'O', 'O', 'O', 'O', 'B-LOC', 'I-LOC', 'O', 'O', 'O', 'O', 'O', 'O', 'O', 'O', 'O', 'O', 'O', 'O', 'O', 'O', 'O', 'O', 'O', 'O', 'O', 'O', 'O', 'O', 'O', 'O', 'O', 'O', 'O', 'O', 'O', 'O', 'O', 'O', 'O', 'B-NORP', 'O', 'O', 'O', 'O', 'O', 'O', 'O', 'O', 'O', 'O', 'B-DATE', 'O', 'O', 'O', 'O', 'O', 'O', 'O', 'O', 'O', 'B-DATE', 'O', 'O', 'O', 'B-LOC', 'I-LOC', 'O', 'O', 'O', 'B-GPE', 'I-GPE', 'I-GPE', 'O', 'O', 'O', 'O', 'O', 'B-FAC', 'I-FAC', 'I-FAC', 'O', 'O', 'O', 'O', 'B-DATE', 'I-DATE', 'I-DATE', 'I-DATE', 'O', 'O', 'O', 'O', 'O', 'O', 'B-NORP', 'O', 'O', 'O', 'B-GPE', 'O', 'O', 'O', 'O', 'O', 'O', 'O', 'O', 'O', 'O', 'B-FAC', 'I-FAC', 'I-FAC', 'O', 'B-ORG', 'I-ORG', 'I-ORG', 'O', 'B-ORG', 'I-ORG', 'I-ORG', 'I-ORG', 'O', 'O', 'O', 'O', 'O', 'O', 'B-ORG', 'I-ORG', 'O', 'B-ORG', 'I-ORG', 'I-ORG', 'O', 'O', 'O', 'O', 'B-PERSON', 'I-PERSON', 'O', 'O', 'O', 'O', 'O', 'B-LOC', 'I-LOC', 'O', 'O', 'O', 'O', 'O', 'O', 'O', 'O', 'O', 'O', 'O', 'O', 'O', 'O', 'O', 'O', 'O', 'O', 'O', 'O', 'O', 'O', 'O', 'O', 'O', 'O', 'O', 'B-NORP', 'O', 'O', 'O', 'O', 'O', 'O', 'O', 'O', 'O', 'O', 'O', 'O', 'O', 'B-LOC', 'I-LOC', 'O', 'O', 'O', 'O', 'O', 'O', 'O', 'O', 'O', 'B-LOC', 'I-LOC', 'O', 'O', 'O', 'O', 'O', 'O', 'O', 'O', 'O', 'O', 'O', 'O', 'B-TIME', 'I-TIME', 'I-TIME', 'I-TIME', 'O', 'O', 'O', 'O', 'O', 'O', 'O', 'O', 'O', 'O', 'O', 'O', 'O', 'B-LOC', 'I-LOC', 'O', 'O', 'O', 'O', 'O', 'O', 'O', 'O', 'O', 'O', 'O', 'B-TIME', 'I-TIME', 'I-TIME', 'O', 'O', 'O', 'O', 'O', 'O', 'O', 'O', 'O', 'O', 'O', 'O', 'O', 'O', 'O', 'O', 'O', 'O', 'O', 'O', 'O', 'O', 'O', 'O', 'O', 'O', 'O', 'O', 'O', 'O', 'O', 'O', 'O', 'O', 'O', 'O', 'O', 'O', 'O', 'B-ORG', 'I-ORG', 'I-ORG', 'I-ORG', 'O', 'O', 'O', 'O', 'O', 'O', 'O', 'O', 'O', 'O', 'O', 'O', 'O', 'O', 'O', 'O', 'O', 'O', 'O', 'O', 'O', 'O', 'O', 'O', 'O', 'O', 'O', 'O', 'O', 'O', 'O', 'O', 'O', 'O', 'O', 'O', 'O', 'O', 'O', 'O', 'O', 'O', 'O', 'O', 'O', 'O', 'B-DATE', 'I-DATE', 'I-DATE', 'I-DATE', 'O', 'O', 'O', 'O', 'O', 'O', 'B-DATE', 'I-DATE', 'O', 'O', 'B-NORP', 'O', 'O', 'B-GPE', 'O', 'O', 'O', 'O', 'O', 'O', 'O', 'O', 'O', 'O', 'B-LOC', 'I-LOC', 'O', 'O', 'O', 'O']\n",
            "\n",
            "Predicted output by LSTM\n",
            "['O', 'O', 'O', 'O', 'O', 'O', 'O', 'B-PERSON', 'I-PERSON', 'O', 'O', 'O', 'O', 'O', 'B-CARDINAL', 'O', 'O', 'O', 'O', 'O', 'O', 'O', 'O', 'I-EVENT', 'I-EVENT', 'I-EVENT', 'O', 'O', 'I-DATE', 'O', 'B-PERSON', 'I-PERSON', 'I-DATE', 'O', 'O', 'O', 'I-EVENT', 'I-EVENT', 'I-EVENT', 'O', 'O', 'O', 'O', 'O', 'O', 'O', 'O', 'O', 'I-EVENT', 'I-ORG', 'I-ORG', 'O', 'O', 'O', 'O', 'B-CARDINAL', 'O', 'O', 'O', 'O', 'I-EVENT', 'I-EVENT', 'I-EVENT', 'O', 'O', 'O', 'O', 'O', 'O', 'O', 'O', 'O', 'I-DATE', 'I-PERSON', 'O', 'O', 'O', 'O', 'O', 'O', 'O', 'O', 'O', 'O', 'I-ORG', 'I-DATE', 'I-PERSON', 'O', 'O', 'O', 'O', 'O', 'O', 'O', 'O', 'O', 'O', 'O', 'O', 'O', 'O', 'O', 'O', 'O', 'O', 'O', 'O', 'B-CARDINAL', 'I-ORG', 'I-DATE', 'O', 'O', 'O', 'O', 'O', 'I-EVENT', 'I-EVENT', 'I-EVENT', 'O', 'O', 'O', 'O', 'O', 'O', 'O', 'O', 'B-CARDINAL', 'I-LOC', 'O', 'O', 'O', 'O', 'O', 'O', 'O', 'O', 'O', 'O', 'O', 'O', 'O', 'O', 'O', 'O', 'O', 'O', 'O', 'O', 'O', 'O', 'O', 'O', 'O', 'O', 'O', 'O', 'O', 'O', 'O', 'O', 'O', 'B-NORP', 'O', 'O', 'O', 'O', 'O', 'O', 'O', 'O', 'O', 'O', 'B-CARDINAL', 'O', 'O', 'O', 'O', 'O', 'O', 'O', 'O', 'O', 'B-CARDINAL', 'O', 'O', 'O', 'B-CARDINAL', 'I-EVENT', 'O', 'O', 'O', 'B-GPE', 'O', 'B-PERSON', 'O', 'O', 'O', 'O', 'O', 'O', 'I-LOC', 'I-ORG', 'O', 'O', 'O', 'O', 'B-PERSON', 'I-DATE', 'O', 'I-DATE', 'O', 'O', 'O', 'O', 'O', 'O', 'B-NORP', 'O', 'O', 'O', 'B-GPE', 'O', 'O', 'O', 'O', 'O', 'O', 'O', 'O', 'O', 'O', 'B-ORG', 'I-ORG', 'I-ORG', 'O', 'O', 'I-ORG', 'I-ORG', 'I-ORG', 'I-ORG', 'I-ORG', 'I-ORG', 'I-ORG', 'O', 'O', 'O', 'O', 'O', 'O', 'B-CARDINAL', 'I-ORG', 'O', 'O', 'I-EVENT', 'I-ORG', 'O', 'O', 'O', 'O', 'B-PERSON', 'I-PERSON', 'O', 'O', 'O', 'O', 'O', 'B-CARDINAL', 'I-ORG', 'O', 'O', 'O', 'O', 'O', 'O', 'O', 'O', 'O', 'O', 'O', 'O', 'O', 'O', 'O', 'O', 'O', 'O', 'O', 'O', 'O', 'O', 'O', 'O', 'O', 'O', 'O', 'B-NORP', 'O', 'O', 'O', 'O', 'O', 'O', 'O', 'O', 'O', 'O', 'O', 'O', 'O', 'B-CARDINAL', 'I-ORG', 'O', 'O', 'O', 'O', 'O', 'O', 'O', 'O', 'O', 'B-CARDINAL', 'I-ORG', 'O', 'O', 'O', 'O', 'O', 'O', 'O', 'O', 'O', 'O', 'O', 'O', 'B-PERSON', 'I-DATE', 'I-DATE', 'I-DATE', 'O', 'O', 'O', 'O', 'O', 'O', 'O', 'O', 'O', 'O', 'O', 'O', 'O', 'B-PERSON', 'I-LOC', 'O', 'O', 'O', 'O', 'O', 'O', 'O', 'O', 'O', 'O', 'O', 'O', 'I-DATE', 'I-DATE', 'O', 'O', 'O', 'O', 'O', 'O', 'O', 'O', 'O', 'O', 'O', 'O', 'O', 'O', 'O', 'O', 'O', 'O', 'O', 'O', 'O', 'O', 'O', 'O', 'O', 'O', 'O', 'O', 'O', 'O', 'O', 'O', 'O', 'O', 'O', 'O', 'O', 'O', 'O', 'O', 'I-ORG', 'I-ORG', 'I-ORG', 'O', 'O', 'O', 'O', 'O', 'O', 'O', 'O', 'O', 'O', 'O', 'O', 'O', 'O', 'O', 'O', 'O', 'O', 'O', 'O', 'O', 'O', 'O', 'O', 'O', 'O', 'O', 'O', 'O', 'O', 'O', 'O', 'O', 'O', 'O', 'O', 'O', 'O', 'O', 'O', 'O', 'O', 'O', 'O', 'O', 'O', 'B-PERSON', 'I-DATE', 'O', 'I-DATE', 'O', 'O', 'O', 'O', 'O', 'O', 'O', 'I-DATE', 'O', 'O', 'B-NORP', 'O', 'O', 'B-GPE', 'O', 'O', 'O', 'O', 'O', 'O', 'O', 'O', 'O', 'O', 'B-CARDINAL', 'I-EVENT', 'O', 'O', 'O', 'O']\n",
            "\n",
            "LSTM precision:  0.188\n",
            "LSTM recall:  0.279\n",
            "LSTM F1:  0.224\n"
          ],
          "name": "stdout"
        }
      ]
    },
    {
      "cell_type": "code",
      "metadata": {
        "colab": {
          "base_uri": "https://localhost:8080/"
        },
        "id": "6MJomCG1nnqu",
        "outputId": "d892143e-a49d-4707-baa6-244322ac2840"
      },
      "source": [
        "#checking a simple span for definition of precision/recall\n",
        "true_output=['O', 'O', 'B-PERSON', 'O', 'B-PERSON', 'O', 'O', 'B-PERSON', 'I-PERSON']\n",
        "predicted_output=['O', 'O', 'O', 'O', 'O', 'O', 'O', 'B-PERSON', 'I-PERSON']\n",
        "\n",
        "print(precision_score([true_output],[predicted_output]))\n",
        "print(recall_score([true_output],[predicted_output]))\n"
      ],
      "execution_count": 13,
      "outputs": [
        {
          "output_type": "stream",
          "text": [
            "1.0\n",
            "0.3333333333333333\n"
          ],
          "name": "stdout"
        }
      ]
    },
    {
      "cell_type": "markdown",
      "metadata": {
        "id": "fX7-quD2hnzB"
      },
      "source": [
        "## Decoding"
      ]
    },
    {
      "cell_type": "markdown",
      "metadata": {
        "id": "WCgW9d9ohsGv"
      },
      "source": [
        "Now you can finally implement the simple Viterbi decoder. The `model` object, when applied to an input sentence, first calculates the scores for each possible output tag for each token. See the expression `model.forward_on_instance(s)['tag_logits']` in the code above.\n",
        "\n",
        "Then, you will construct a transition matrix. You can use the code below to get a list of the tags the model knows about. For a set of K tags, construct a K-by-K matrix with a log(1)=0 when a transition between a given tag pair is valid and a log(0)=-infinity otherwise.\n",
        "\n",
        "Finally, implement a Viterbi decoder that takes the model object and a dataset object and outputs tagged data, just like the `tag_sentence` function above. It should use the Viterbi algorithm with the (max, plus) semiring. You'll be working with sums of log probabilities instead of products of probabilties.\n",
        "\n",
        "Run your `violations` function on the output of this decoder to make sure that there are no invalid tag transitions. Also, compare the span-level metrics on `baseline_output` and your new output using your `span_stats` function."
      ]
    },
    {
      "cell_type": "code",
      "metadata": {
        "id": "zO3QXZjazkel"
      },
      "source": [
        "import seaborn as sns\n",
        "import matplotlib.pylab as plt"
      ],
      "execution_count": 14,
      "outputs": []
    },
    {
      "cell_type": "code",
      "metadata": {
        "id": "AEYH2txwzT3d"
      },
      "source": [
        "# Making the transition matrix and plotting it\n",
        "def make_transitionmatrix():\n",
        "  transition_dict={}\n",
        "  tag_types=vocab.get_index_to_token_vocabulary('labels')\n",
        "  transition_matrix=[[0 for i in range(len(tag_types))] for i in range(len(tag_types))]\n",
        "\n",
        "  for key1 in range(len(tag_types)):\n",
        "    for key2 in range(len(tag_types)):\n",
        "      if tag_types[key1]=='O' and (tag_types[key2][0]=='B' or tag_types[key2][0]=='O'):\n",
        "        transition_matrix[key1][key2]=1\n",
        "      elif tag_types[key1][0]=='B' and (tag_types[key2]=='I-'+tag_types[key1][2:] or tag_types[key2]=='O'):\n",
        "        transition_matrix[key1][key2]=1\n",
        "      elif tag_types[key1][0]=='I' and (tag_types[key2]=='I-'+tag_types[key1][2:] or tag_types[key2]=='O'):\n",
        "        transition_matrix[key1][key2]=1\n",
        "  \n",
        "  #making a dict for transition matrix\n",
        "  for i in range(len(tag_types)):\n",
        "    transition_dict[tag_types[i]]={}\n",
        "    for j in range(len(tag_types)):\n",
        "      transition_dict[tag_types[i]][tag_types[j]]=np.log10(transition_matrix[i][j]+10**(-80))\n",
        "\n",
        "  plt.figure(figsize = (12,12))\n",
        "  x_axis_labels = ['O','B-GPE', 'I-ORG', 'I-DATE','B-CARDINAL', 'I-EVENT',  'B-PERSON', 'B-NORP', 'B-DATE', 'B-ORG', 'B-LOC', 'I-LOC', 'I-FAC',  'I-PERSON','I-GPE', 'I-CARDINAL','B-EVENT', 'I-TIME','I-WORK_OF_ART','B-ORDINAL', 'B-FAC', 'B-TIME','I-LAW', 'I-QUANTITY', 'I-NORP', 'I-MONEY', 'B-MONEY', 'B-WORK_OF_ART','B-QUANTITY','B-LAW', 'B-PRODUCT','I-PRODUCT','B-PERCENT','I-PERCENT']\n",
        "  ax = sns.heatmap(transition_matrix, linewidth=0.5,xticklabels=x_axis_labels,yticklabels=x_axis_labels, cbar=False)\n",
        "  ax.xaxis.tick_top() # x axis on top\n",
        "  ax.xaxis.set_label_position('top')\n",
        "  plt.xticks(rotation=90)\n",
        "  plt.yticks(rotation=0)\n",
        "  plt.show()\n",
        "\n",
        "  return transition_dict"
      ],
      "execution_count": 16,
      "outputs": []
    },
    {
      "cell_type": "code",
      "metadata": {
        "colab": {
          "base_uri": "https://localhost:8080/",
          "height": 774
        },
        "id": "gVHqGrAAy86g",
        "outputId": "bd64b83d-ca89-4916-920c-13fdb37000da"
      },
      "source": [
        "transition_dict=make_transitionmatrix()\n",
        "#print(transition_dict)"
      ],
      "execution_count": 17,
      "outputs": [
        {
          "output_type": "display_data",
          "data": {
            "image/png": "[encoded data removed]",
            "text/plain": [
              "<Figure size 864x864 with 1 Axes>"
            ]
          },
          "metadata": {
            "tags": [],
            "needs_background": "light"
          }
        }
      ]
    },
    {
      "cell_type": "code",
      "metadata": {
        "id": "DWrBlPucW6S5"
      },
      "source": [
        "def find_logits(s):\n",
        "  tag_ids = model.forward_on_instance(s)['tag_logits']\n",
        "  return tag_ids\n",
        "logit_output = [find_logits(i) for i in validation_dataset]\n"
      ],
      "execution_count": 18,
      "outputs": []
    },
    {
      "cell_type": "code",
      "metadata": {
        "id": "LnyBtQBdeCSQ"
      },
      "source": [
        "def viterbi(true_tags, tag_names, start_logit, transition_prob, emission_logits):\n",
        "    V = [{}]\n",
        "    for st in tag_names:\n",
        "        V[0][st] = {\"sum_log\": np.log(start_logit[st] + 10**(-80)) + emission_logits[st][true_tags[0]], \"prev\": None}\n",
        "    # Run Viterbi when t > 0\n",
        "    for t in range(1, len(true_tags)):\n",
        "        V.append({})\n",
        "        for st in tag_names:\n",
        "            max_tr_prob = V[t - 1][tag_names[0]][\"sum_log\"] + transition_prob[tag_names[0]][st]\n",
        "            prev_st_selected = tag_names[0]\n",
        "            for prev_st in tag_names[1:]:\n",
        "                tr_prob = V[t - 1][prev_st][\"sum_log\"] + transition_prob[prev_st][st]\n",
        "                if tr_prob > max_tr_prob:\n",
        "                    max_tr_prob = tr_prob\n",
        "                    prev_st_selected = prev_st\n",
        "\n",
        "            max_logsum = max_tr_prob + emission_logits[st][true_tags[t]]\n",
        "            V[t][st] = {\"sum_log\": max_logsum, \"prev\": prev_st_selected}\n",
        "\n",
        "    #for line in dptable(V):\n",
        "        #print(line)\n",
        "\n",
        "    opt = []\n",
        "    max_logsum = 0.0\n",
        "    best_st = None\n",
        "    # Get most probable state and its backtrack\n",
        "    for st, data in V[-1].items():\n",
        "        if data[\"sum_log\"] > max_logsum:\n",
        "            max_logsum = data[\"sum_log\"]\n",
        "            best_st = st\n",
        "    opt.append(best_st)\n",
        "    previous = best_st\n",
        "\n",
        "    # Follow the backtrack till the first observation\n",
        "    for t in range(len(V) - 2, -1, -1):\n",
        "        opt.insert(0, V[t + 1][previous][\"prev\"])\n",
        "        previous = V[t + 1][previous][\"prev\"]\n",
        "\n",
        "    #print (\"The steps of tag_names are \" + \" \".join(opt) + \" with sum log of %s\" % max_logsum)\n",
        "    return opt\n",
        "\n",
        "def dptable(V):\n",
        "    # Print a table of steps from dictionary\n",
        "    yield \" \".join((\"%12d\" % i) for i in range(len(V)))\n",
        "    for state in V[0]:\n",
        "        yield \"%.7s: \" % state + \" \".join(\"%.7s\" % (\"%f\" % v[state][\"sum_log\"]) for v in V)"
      ],
      "execution_count": 19,
      "outputs": []
    },
    {
      "cell_type": "code",
      "metadata": {
        "id": "jtweYYOM5a5Z"
      },
      "source": [
        "def find_observations(example):\n",
        "  true_tags=[]\n",
        "  for i in word_gold_real[example]:\n",
        "    true_tags.append(str(i[0]))\n",
        "  return true_tags\n",
        "\n",
        "def find_emission(example):\n",
        "  dict_em={}\n",
        "  for i in range(34):\n",
        "    dict_em[tag_names[i]]={}\n",
        "    for j in range(len(logit_output[example])):\n",
        "      dict_em[tag_names[i]][str(word_gold_real[example][j][0])]=logit_output[example][j][i]\n",
        "  return dict_em\n",
        "\n",
        "#making the start probability, it's either 1 for valid start of \"B\" or \"O\" and it's 0 otherwise\n",
        "start_logit={'O': 1, 'B-GPE': 1, 'I-ORG': 0, 'I-DATE': 0, 'B-CARDINAL': 1, 'I-EVENT': 0, 'B-PERSON': 1, 'B-NORP': 1, 'B-DATE': 1, 'B-ORG': 1, 'B-LOC': 1, 'I-LOC': 0, 'I-FAC': 0, 'I-PERSON': 0, 'I-GPE': 0, 'I-CARDINAL': 0, 'B-EVENT': 1, 'I-TIME': 0, 'I-WORK_OF_ART': 0, 'B-ORDINAL': 1, 'B-FAC': 1, 'B-TIME': 1, 'I-LAW': 0, 'I-QUANTITY': 0, 'I-NORP': 0, 'I-MONEY': 0, 'B-MONEY': 1, 'B-WORK_OF_ART': 1, 'B-QUANTITY': 1, 'B-LAW': 1, 'B-PRODUCT': 1, 'I-PRODUCT': 0, 'B-PERCENT': 1, 'I-PERCENT': 0}\n",
        "#making the state array based on tag names\n",
        "tag_names=[]\n",
        "for key in start_logit:\n",
        "  tag_names.append(key)\n"
      ],
      "execution_count": 21,
      "outputs": []
    },
    {
      "cell_type": "code",
      "metadata": {
        "id": "9vBZG_1Wglrk"
      },
      "source": [
        "#running viterbi function on all validation examples and saving the answers in viterbi_answers\n",
        "viterbi_answers=[]\n",
        "for i in range(len(logit_output)):\n",
        "  true_tags=find_observations(i)\n",
        "  emission_logits=find_emission(i)\n",
        "  viterbi_answers.append(viterbi(true_tags,tag_names,start_logit,transition_dict,emission_logits))"
      ],
      "execution_count": 22,
      "outputs": []
    },
    {
      "cell_type": "code",
      "metadata": {
        "colab": {
          "base_uri": "https://localhost:8080/"
        },
        "id": "2h3zwoot-Lhj",
        "outputId": "e1063773-4a52-4a16-9046-6080717d42d4"
      },
      "source": [
        "# Count the number of NER label violations on Viterbi output\n",
        "def violations(tagged):\n",
        "  count=0\n",
        "  for i in range(len(tagged)):\n",
        "    for j in range(len(tagged[i])):\n",
        "      if j==0:\n",
        "        if tagged[i][j]!='O' and tagged[i][j][0]!='B':\n",
        "          count+=1\n",
        "      if j+1<len(tagged[i]) and tagged[i][j]=='O' and tagged[i][j+1][0]=='I':\n",
        "        count+=1\n",
        "      elif j+1<len(tagged[i]) and tagged[i][j][0]=='B' and tagged[i][j+1][0]=='I' and tagged[i][j][1:]!=tagged[i][j+1][1:]:\n",
        "        count+=1\n",
        "      elif j+1<len(tagged[i]) and tagged[i][j][0]=='I' and tagged[i][j+1][0]=='I' and tagged[i][j][1:]!=tagged[i][j+1][1:]:\n",
        "        count+=1\n",
        "  return count\n",
        "\n",
        "print('Number of violations in viterbi output is: ',violations(viterbi_answers))"
      ],
      "execution_count": 23,
      "outputs": [
        {
          "output_type": "stream",
          "text": [
            "Number of violations in viterbi output is:  0\n"
          ],
          "name": "stdout"
        }
      ]
    },
    {
      "cell_type": "code",
      "metadata": {
        "colab": {
          "base_uri": "https://localhost:8080/"
        },
        "id": "X-tE1YMT7v8N",
        "outputId": "7ee8985c-847a-4069-f0e0-38edd8ec365f"
      },
      "source": [
        "#span-level precision, recall, and F1 for viterbi output and comparing by LSTM output\n",
        "def span_stats(tagged,viterbi_output):\n",
        "  predicted_output=[]\n",
        "  true_output=[]\n",
        "  viterbi_output=[]\n",
        "\n",
        "  #making a continuous array from all predicted outputs in validation set\n",
        "  for sample in tagged:\n",
        "    for token in sample:\n",
        "      predicted_output.append(token[2])\n",
        "  \n",
        "  for sample in viterbi_answers:\n",
        "    for token in sample:\n",
        "      viterbi_output.append(token)\n",
        "\n",
        "  #making a continuous array from all true outputs in validation set\n",
        "  for sample in validation_dataset:\n",
        "      for i in sample['tags'].labels:\n",
        "        true_output.append(i)\n",
        "\n",
        "  print('True output in validation dataset')\n",
        "  print(true_output)\n",
        "  print('')\n",
        "  print('Viterbi output')\n",
        "  print(viterbi_output)\n",
        "  print('')\n",
        "  print('Predicted output by LSTM')\n",
        "  print(predicted_output)\n",
        "\n",
        "  print('\\nLSTM precision: ',round(precision_score([true_output],[predicted_output]),3))\n",
        "  print('LSTM recall: ',round(recall_score([true_output],[predicted_output]),3))\n",
        "  print('LSTM F1: ',round(f1_score([true_output],[predicted_output]),3))\n",
        "\n",
        "\n",
        "  print('\\nViterbi precision: ',round(precision_score([true_output],[viterbi_output]),3))\n",
        "  print('Viterbi recall: ',round(recall_score([true_output],[viterbi_output]),3))\n",
        "  print('Viterbi F1: ',round(f1_score([true_output],[viterbi_output]),3))\n",
        "\n",
        "\n",
        "span_stats(word_gold_real,viterbi_answers)"
      ],
      "execution_count": 26,
      "outputs": [
        {
          "output_type": "stream",
          "text": [
            "True output in validation dataset\n",
            "['O', 'O', 'O', 'O', 'O', 'O', 'O', 'B-PERSON', 'I-PERSON', 'O', 'O', 'O', 'O', 'O', 'B-CARDINAL', 'O', 'O', 'O', 'O', 'O', 'O', 'O', 'B-EVENT', 'I-EVENT', 'I-EVENT', 'I-EVENT', 'O', 'B-TIME', 'I-TIME', 'O', 'B-PERSON', 'I-PERSON', 'B-ORDINAL', 'O', 'O', 'O', 'B-EVENT', 'I-EVENT', 'I-EVENT', 'O', 'O', 'O', 'O', 'O', 'O', 'O', 'O', 'B-ORG', 'I-ORG', 'I-ORG', 'I-ORG', 'O', 'O', 'O', 'O', 'B-CARDINAL', 'O', 'O', 'O', 'B-EVENT', 'I-EVENT', 'I-EVENT', 'I-EVENT', 'O', 'O', 'O', 'O', 'O', 'O', 'O', 'O', 'B-CARDINAL', 'I-CARDINAL', 'I-CARDINAL', 'O', 'O', 'O', 'O', 'O', 'O', 'O', 'O', 'O', 'B-CARDINAL', 'I-CARDINAL', 'I-CARDINAL', 'I-CARDINAL', 'O', 'O', 'O', 'O', 'O', 'O', 'O', 'O', 'O', 'O', 'O', 'O', 'O', 'O', 'O', 'O', 'O', 'O', 'O', 'O', 'B-CARDINAL', 'I-CARDINAL', 'I-CARDINAL', 'O', 'O', 'O', 'O', 'B-EVENT', 'I-EVENT', 'I-EVENT', 'I-EVENT', 'O', 'O', 'O', 'O', 'O', 'O', 'O', 'O', 'B-LOC', 'I-LOC', 'O', 'O', 'O', 'O', 'O', 'O', 'O', 'O', 'O', 'O', 'O', 'O', 'O', 'O', 'O', 'O', 'O', 'O', 'O', 'O', 'O', 'O', 'O', 'O', 'O', 'O', 'O', 'O', 'O', 'O', 'O', 'O', 'O', 'B-NORP', 'O', 'O', 'O', 'O', 'O', 'O', 'O', 'O', 'O', 'O', 'B-DATE', 'O', 'O', 'O', 'O', 'O', 'O', 'O', 'O', 'O', 'B-DATE', 'O', 'O', 'O', 'B-LOC', 'I-LOC', 'O', 'O', 'O', 'B-GPE', 'I-GPE', 'I-GPE', 'O', 'O', 'O', 'O', 'O', 'B-FAC', 'I-FAC', 'I-FAC', 'O', 'O', 'O', 'O', 'B-DATE', 'I-DATE', 'I-DATE', 'I-DATE', 'O', 'O', 'O', 'O', 'O', 'O', 'B-NORP', 'O', 'O', 'O', 'B-GPE', 'O', 'O', 'O', 'O', 'O', 'O', 'O', 'O', 'O', 'O', 'B-FAC', 'I-FAC', 'I-FAC', 'O', 'B-ORG', 'I-ORG', 'I-ORG', 'O', 'B-ORG', 'I-ORG', 'I-ORG', 'I-ORG', 'O', 'O', 'O', 'O', 'O', 'O', 'B-ORG', 'I-ORG', 'O', 'B-ORG', 'I-ORG', 'I-ORG', 'O', 'O', 'O', 'O', 'B-PERSON', 'I-PERSON', 'O', 'O', 'O', 'O', 'O', 'B-LOC', 'I-LOC', 'O', 'O', 'O', 'O', 'O', 'O', 'O', 'O', 'O', 'O', 'O', 'O', 'O', 'O', 'O', 'O', 'O', 'O', 'O', 'O', 'O', 'O', 'O', 'O', 'O', 'O', 'O', 'B-NORP', 'O', 'O', 'O', 'O', 'O', 'O', 'O', 'O', 'O', 'O', 'O', 'O', 'O', 'B-LOC', 'I-LOC', 'O', 'O', 'O', 'O', 'O', 'O', 'O', 'O', 'O', 'B-LOC', 'I-LOC', 'O', 'O', 'O', 'O', 'O', 'O', 'O', 'O', 'O', 'O', 'O', 'O', 'B-TIME', 'I-TIME', 'I-TIME', 'I-TIME', 'O', 'O', 'O', 'O', 'O', 'O', 'O', 'O', 'O', 'O', 'O', 'O', 'O', 'B-LOC', 'I-LOC', 'O', 'O', 'O', 'O', 'O', 'O', 'O', 'O', 'O', 'O', 'O', 'B-TIME', 'I-TIME', 'I-TIME', 'O', 'O', 'O', 'O', 'O', 'O', 'O', 'O', 'O', 'O', 'O', 'O', 'O', 'O', 'O', 'O', 'O', 'O', 'O', 'O', 'O', 'O', 'O', 'O', 'O', 'O', 'O', 'O', 'O', 'O', 'O', 'O', 'O', 'O', 'O', 'O', 'O', 'O', 'O', 'B-ORG', 'I-ORG', 'I-ORG', 'I-ORG', 'O', 'O', 'O', 'O', 'O', 'O', 'O', 'O', 'O', 'O', 'O', 'O', 'O', 'O', 'O', 'O', 'O', 'O', 'O', 'O', 'O', 'O', 'O', 'O', 'O', 'O', 'O', 'O', 'O', 'O', 'O', 'O', 'O', 'O', 'O', 'O', 'O', 'O', 'O', 'O', 'O', 'O', 'O', 'O', 'O', 'O', 'B-DATE', 'I-DATE', 'I-DATE', 'I-DATE', 'O', 'O', 'O', 'O', 'O', 'O', 'B-DATE', 'I-DATE', 'O', 'O', 'B-NORP', 'O', 'O', 'B-GPE', 'O', 'O', 'O', 'O', 'O', 'O', 'O', 'O', 'O', 'O', 'B-LOC', 'I-LOC', 'O', 'O', 'O', 'O']\n",
            "\n",
            "Viterbi output\n",
            "['O', 'O', 'O', 'O', 'O', 'O', 'O', 'B-PERSON', 'I-PERSON', 'O', 'O', 'O', 'O', 'O', 'B-CARDINAL', 'O', 'O', 'O', 'O', 'O', 'O', 'O', 'B-EVENT', 'I-EVENT', 'I-EVENT', 'I-EVENT', 'O', 'O', 'B-PERSON', 'O', 'B-PERSON', 'I-PERSON', 'I-PERSON', 'O', 'O', 'O', 'B-EVENT', 'I-EVENT', 'I-EVENT', 'O', 'O', 'O', 'O', 'O', 'O', 'O', 'O', 'O', 'B-ORG', 'I-ORG', 'I-ORG', 'O', 'O', 'O', 'O', 'B-CARDINAL', 'O', 'O', 'O', 'B-EVENT', 'I-EVENT', 'I-EVENT', 'I-EVENT', 'O', 'O', 'O', 'O', 'O', 'O', 'O', 'O', 'B-CARDINAL', 'I-CARDINAL', 'I-CARDINAL', 'O', 'O', 'O', 'O', 'O', 'O', 'O', 'O', 'O', 'O', 'B-DATE', 'I-DATE', 'I-DATE', 'O', 'O', 'O', 'O', 'O', 'O', 'O', 'O', 'O', 'O', 'O', 'O', 'O', 'O', 'O', 'O', 'O', 'O', 'O', 'O', 'B-CARDINAL', 'I-CARDINAL', 'I-CARDINAL', 'O', 'O', 'O', 'O', 'B-EVENT', 'I-EVENT', 'I-EVENT', 'I-EVENT', 'O', 'O', 'O', 'O', 'O', 'O', 'O', 'O', 'B-CARDINAL', 'I-CARDINAL', 'O', 'O', 'O', 'O', 'O', 'O', 'O', 'O', 'O', 'O', 'O', 'O', 'O', 'O', 'O', 'O', 'O', 'O', 'O', 'O', 'O', 'O', 'O', 'O', 'O', 'O', 'O', 'O', 'O', 'O', 'O', 'O', 'O', 'B-NORP', 'O', 'O', 'O', 'O', 'O', 'O', 'O', 'O', 'O', 'O', 'B-CARDINAL', 'O', 'O', 'O', 'O', 'O', 'O', 'O', 'O', 'O', 'B-CARDINAL', 'O', 'O', 'O', 'B-CARDINAL', 'I-CARDINAL', 'O', 'O', 'O', 'B-GPE', 'O', 'B-PERSON', 'O', 'O', 'O', 'O', 'O', 'B-ORG', 'I-ORG', 'I-ORG', 'O', 'O', 'O', 'O', 'B-DATE', 'I-DATE', 'O', 'B-PERSON', 'O', 'O', 'O', 'O', 'O', 'O', 'B-NORP', 'O', 'O', 'O', 'B-GPE', 'O', 'O', 'O', 'O', 'O', 'O', 'O', 'O', 'O', 'O', 'O', 'B-ORG', 'I-ORG', 'O', 'O', 'B-ORG', 'I-ORG', 'O', 'O', 'B-ORG', 'I-ORG', 'I-ORG', 'O', 'O', 'O', 'O', 'O', 'O', 'B-CARDINAL', 'O', 'O', 'O', 'B-ORG', 'I-ORG', 'O', 'O', 'O', 'O', 'B-PERSON', 'I-PERSON', 'O', 'O', 'O', 'O', 'O', 'B-CARDINAL', 'I-CARDINAL', 'O', 'O', 'O', 'O', 'O', 'O', 'O', 'O', 'O', 'O', 'O', 'O', 'O', 'O', 'O', 'O', 'O', 'O', 'O', 'O', 'O', 'O', 'O', 'O', 'O', 'O', 'O', 'B-NORP', 'O', 'O', 'O', 'O', 'O', 'O', 'O', 'O', 'O', 'O', 'O', 'O', 'O', 'B-CARDINAL', 'I-CARDINAL', 'O', 'O', 'O', 'O', 'O', 'O', 'O', 'O', 'O', 'B-CARDINAL', 'I-CARDINAL', 'O', 'O', 'O', 'O', 'O', 'O', 'O', 'O', 'O', 'O', 'O', 'O', 'B-DATE', 'I-DATE', 'I-DATE', 'I-DATE', 'O', 'O', 'O', 'O', 'O', 'O', 'O', 'O', 'O', 'O', 'O', 'O', 'O', 'B-CARDINAL', 'I-CARDINAL', 'O', 'O', 'O', 'O', 'O', 'O', 'O', 'O', 'O', 'O', 'O', 'O', 'O', 'O', 'O', 'O', 'O', 'O', 'O', 'O', 'O', 'O', 'O', 'O', 'O', 'O', 'O', 'O', 'O', 'O', 'O', 'O', 'O', 'O', 'O', 'O', 'O', 'O', 'O', 'O', 'O', 'O', 'O', 'O', 'O', 'O', 'O', 'O', 'O', 'O', 'O', 'O', 'O', 'O', 'B-ORG', 'I-ORG', 'I-ORG', 'O', 'O', 'O', 'O', 'O', 'O', 'O', 'O', 'O', 'O', 'O', 'O', 'O', 'O', 'O', 'O', 'O', 'O', 'O', 'O', 'O', 'O', 'O', 'O', 'O', 'O', 'O', 'O', 'O', 'O', 'O', 'O', 'O', 'O', 'O', 'O', 'O', 'O', 'O', 'O', 'O', 'O', 'O', 'O', 'O', 'O', 'B-DATE', 'I-DATE', 'I-DATE', 'I-DATE', 'O', 'O', 'O', 'O', 'O', 'O', 'O', 'O', 'O', 'O', 'B-NORP', 'O', 'O', 'B-GPE', 'O', 'O', 'O', 'O', 'O', 'O', 'O', 'O', 'O', 'O', 'B-CARDINAL', 'I-CARDINAL', 'O', 'O', 'O', 'O']\n",
            "\n",
            "Predicted output by LSTM\n",
            "['O', 'O', 'O', 'O', 'O', 'O', 'O', 'B-PERSON', 'I-PERSON', 'O', 'O', 'O', 'O', 'O', 'B-CARDINAL', 'O', 'O', 'O', 'O', 'O', 'O', 'O', 'O', 'I-EVENT', 'I-EVENT', 'I-EVENT', 'O', 'O', 'I-DATE', 'O', 'B-PERSON', 'I-PERSON', 'I-DATE', 'O', 'O', 'O', 'I-EVENT', 'I-EVENT', 'I-EVENT', 'O', 'O', 'O', 'O', 'O', 'O', 'O', 'O', 'O', 'I-EVENT', 'I-ORG', 'I-ORG', 'O', 'O', 'O', 'O', 'B-CARDINAL', 'O', 'O', 'O', 'O', 'I-EVENT', 'I-EVENT', 'I-EVENT', 'O', 'O', 'O', 'O', 'O', 'O', 'O', 'O', 'O', 'I-DATE', 'I-PERSON', 'O', 'O', 'O', 'O', 'O', 'O', 'O', 'O', 'O', 'O', 'I-ORG', 'I-DATE', 'I-PERSON', 'O', 'O', 'O', 'O', 'O', 'O', 'O', 'O', 'O', 'O', 'O', 'O', 'O', 'O', 'O', 'O', 'O', 'O', 'O', 'O', 'B-CARDINAL', 'I-ORG', 'I-DATE', 'O', 'O', 'O', 'O', 'O', 'I-EVENT', 'I-EVENT', 'I-EVENT', 'O', 'O', 'O', 'O', 'O', 'O', 'O', 'O', 'B-CARDINAL', 'I-LOC', 'O', 'O', 'O', 'O', 'O', 'O', 'O', 'O', 'O', 'O', 'O', 'O', 'O', 'O', 'O', 'O', 'O', 'O', 'O', 'O', 'O', 'O', 'O', 'O', 'O', 'O', 'O', 'O', 'O', 'O', 'O', 'O', 'O', 'B-NORP', 'O', 'O', 'O', 'O', 'O', 'O', 'O', 'O', 'O', 'O', 'B-CARDINAL', 'O', 'O', 'O', 'O', 'O', 'O', 'O', 'O', 'O', 'B-CARDINAL', 'O', 'O', 'O', 'B-CARDINAL', 'I-EVENT', 'O', 'O', 'O', 'B-GPE', 'O', 'B-PERSON', 'O', 'O', 'O', 'O', 'O', 'O', 'I-LOC', 'I-ORG', 'O', 'O', 'O', 'O', 'B-PERSON', 'I-DATE', 'O', 'I-DATE', 'O', 'O', 'O', 'O', 'O', 'O', 'B-NORP', 'O', 'O', 'O', 'B-GPE', 'O', 'O', 'O', 'O', 'O', 'O', 'O', 'O', 'O', 'O', 'B-ORG', 'I-ORG', 'I-ORG', 'O', 'O', 'I-ORG', 'I-ORG', 'I-ORG', 'I-ORG', 'I-ORG', 'I-ORG', 'I-ORG', 'O', 'O', 'O', 'O', 'O', 'O', 'B-CARDINAL', 'I-ORG', 'O', 'O', 'I-EVENT', 'I-ORG', 'O', 'O', 'O', 'O', 'B-PERSON', 'I-PERSON', 'O', 'O', 'O', 'O', 'O', 'B-CARDINAL', 'I-ORG', 'O', 'O', 'O', 'O', 'O', 'O', 'O', 'O', 'O', 'O', 'O', 'O', 'O', 'O', 'O', 'O', 'O', 'O', 'O', 'O', 'O', 'O', 'O', 'O', 'O', 'O', 'O', 'B-NORP', 'O', 'O', 'O', 'O', 'O', 'O', 'O', 'O', 'O', 'O', 'O', 'O', 'O', 'B-CARDINAL', 'I-ORG', 'O', 'O', 'O', 'O', 'O', 'O', 'O', 'O', 'O', 'B-CARDINAL', 'I-ORG', 'O', 'O', 'O', 'O', 'O', 'O', 'O', 'O', 'O', 'O', 'O', 'O', 'B-PERSON', 'I-DATE', 'I-DATE', 'I-DATE', 'O', 'O', 'O', 'O', 'O', 'O', 'O', 'O', 'O', 'O', 'O', 'O', 'O', 'B-PERSON', 'I-LOC', 'O', 'O', 'O', 'O', 'O', 'O', 'O', 'O', 'O', 'O', 'O', 'O', 'I-DATE', 'I-DATE', 'O', 'O', 'O', 'O', 'O', 'O', 'O', 'O', 'O', 'O', 'O', 'O', 'O', 'O', 'O', 'O', 'O', 'O', 'O', 'O', 'O', 'O', 'O', 'O', 'O', 'O', 'O', 'O', 'O', 'O', 'O', 'O', 'O', 'O', 'O', 'O', 'O', 'O', 'O', 'O', 'I-ORG', 'I-ORG', 'I-ORG', 'O', 'O', 'O', 'O', 'O', 'O', 'O', 'O', 'O', 'O', 'O', 'O', 'O', 'O', 'O', 'O', 'O', 'O', 'O', 'O', 'O', 'O', 'O', 'O', 'O', 'O', 'O', 'O', 'O', 'O', 'O', 'O', 'O', 'O', 'O', 'O', 'O', 'O', 'O', 'O', 'O', 'O', 'O', 'O', 'O', 'O', 'B-PERSON', 'I-DATE', 'O', 'I-DATE', 'O', 'O', 'O', 'O', 'O', 'O', 'O', 'I-DATE', 'O', 'O', 'B-NORP', 'O', 'O', 'B-GPE', 'O', 'O', 'O', 'O', 'O', 'O', 'O', 'O', 'O', 'O', 'B-CARDINAL', 'I-EVENT', 'O', 'O', 'O', 'O']\n",
            "\n",
            "LSTM precision:  0.188\n",
            "LSTM recall:  0.279\n",
            "LSTM F1:  0.224\n",
            "\n",
            "Viterbi precision:  0.405\n",
            "Viterbi recall:  0.395\n",
            "Viterbi F1:  0.4\n"
          ],
          "name": "stdout"
        }
      ]
    }
  ]
}